{
 "cells": [
  {
   "cell_type": "markdown",
   "metadata": {},
   "source": [
    "### Step1: 导入必要的库"
   ]
  },
  {
   "cell_type": "code",
   "execution_count": 1,
   "metadata": {
    "ExecuteTime": {
     "end_time": "2018-04-29T01:33:46.312200Z",
     "start_time": "2018-04-29T01:33:44.937395Z"
    }
   },
   "outputs": [],
   "source": [
    "import pandas as pd #数据分析\n",
    "import numpy as np #科学计算\n",
    "import matplotlib\n",
    "import matplotlib.pyplot as plt\n",
    "import seaborn as sns"
   ]
  },
  {
   "cell_type": "code",
   "execution_count": 2,
   "metadata": {
    "ExecuteTime": {
     "end_time": "2018-04-29T01:33:46.320178Z",
     "start_time": "2018-04-29T01:33:46.315176Z"
    }
   },
   "outputs": [],
   "source": [
    "import os\n",
    "os.chdir('D:\\\\Python\\\\Git_test\\\\Data_Analysis')"
   ]
  },
  {
   "cell_type": "markdown",
   "metadata": {},
   "source": [
    "## 一、数据读取"
   ]
  },
  {
   "cell_type": "markdown",
   "metadata": {},
   "source": [
    "### 1.1. CSV"
   ]
  },
  {
   "cell_type": "markdown",
   "metadata": {},
   "source": [
    "从csv中数据读取,(不包括索引列)  读取./input/pratice_data.csv数据"
   ]
  },
  {
   "cell_type": "code",
   "execution_count": 3,
   "metadata": {
    "ExecuteTime": {
     "end_time": "2018-04-29T01:33:53.668209Z",
     "start_time": "2018-04-29T01:33:53.645212Z"
    }
   },
   "outputs": [],
   "source": [
    "data_train = pd.read_csv(\"./input/data_analysis.csv\",index_col = 0)"
   ]
  },
  {
   "cell_type": "code",
   "execution_count": 4,
   "metadata": {
    "ExecuteTime": {
     "end_time": "2018-04-29T01:33:58.548153Z",
     "start_time": "2018-04-29T01:33:58.504157Z"
    }
   },
   "outputs": [
    {
     "data": {
      "text/html": [
       "<div>\n",
       "<style scoped>\n",
       "    .dataframe tbody tr th:only-of-type {\n",
       "        vertical-align: middle;\n",
       "    }\n",
       "\n",
       "    .dataframe tbody tr th {\n",
       "        vertical-align: top;\n",
       "    }\n",
       "\n",
       "    .dataframe thead th {\n",
       "        text-align: right;\n",
       "    }\n",
       "</style>\n",
       "<table border=\"1\" class=\"dataframe\">\n",
       "  <thead>\n",
       "    <tr style=\"text-align: right;\">\n",
       "      <th></th>\n",
       "      <th>Age</th>\n",
       "      <th>Cabin</th>\n",
       "      <th>Embarked</th>\n",
       "      <th>Fare</th>\n",
       "      <th>Name</th>\n",
       "      <th>Parch</th>\n",
       "      <th>PassengerId</th>\n",
       "      <th>Pclass</th>\n",
       "      <th>Sex</th>\n",
       "      <th>SibSp</th>\n",
       "      <th>...</th>\n",
       "      <th>Ticket</th>\n",
       "      <th>timestamp</th>\n",
       "      <th>title</th>\n",
       "      <th>genres</th>\n",
       "      <th>rating</th>\n",
       "      <th>timestamp_1</th>\n",
       "      <th>Initial</th>\n",
       "      <th>Name_length</th>\n",
       "      <th>Title</th>\n",
       "      <th>Family_Size</th>\n",
       "    </tr>\n",
       "    <tr>\n",
       "      <th>id</th>\n",
       "      <th></th>\n",
       "      <th></th>\n",
       "      <th></th>\n",
       "      <th></th>\n",
       "      <th></th>\n",
       "      <th></th>\n",
       "      <th></th>\n",
       "      <th></th>\n",
       "      <th></th>\n",
       "      <th></th>\n",
       "      <th></th>\n",
       "      <th></th>\n",
       "      <th></th>\n",
       "      <th></th>\n",
       "      <th></th>\n",
       "      <th></th>\n",
       "      <th></th>\n",
       "      <th></th>\n",
       "      <th></th>\n",
       "      <th></th>\n",
       "      <th></th>\n",
       "    </tr>\n",
       "  </thead>\n",
       "  <tbody>\n",
       "    <tr>\n",
       "      <th>0</th>\n",
       "      <td>22.0</td>\n",
       "      <td>NaN</td>\n",
       "      <td>S</td>\n",
       "      <td>7.2500</td>\n",
       "      <td>Braund, Mr. Owen Harris</td>\n",
       "      <td>0</td>\n",
       "      <td>1</td>\n",
       "      <td>3</td>\n",
       "      <td>male</td>\n",
       "      <td>1</td>\n",
       "      <td>...</td>\n",
       "      <td>A/5 21171</td>\n",
       "      <td>03/23/2009 08:30:00</td>\n",
       "      <td>Toy Story (1995)</td>\n",
       "      <td>Animation|Children's|Comedy</td>\n",
       "      <td>5</td>\n",
       "      <td>978300760</td>\n",
       "      <td>Mr</td>\n",
       "      <td>23</td>\n",
       "      <td>Mr</td>\n",
       "      <td>2</td>\n",
       "    </tr>\n",
       "    <tr>\n",
       "      <th>1</th>\n",
       "      <td>38.0</td>\n",
       "      <td>C85</td>\n",
       "      <td>C</td>\n",
       "      <td>71.2833</td>\n",
       "      <td>Cumings, Mrs. John Bradley (Florence Briggs Th...</td>\n",
       "      <td>0</td>\n",
       "      <td>2</td>\n",
       "      <td>1</td>\n",
       "      <td>female</td>\n",
       "      <td>1</td>\n",
       "      <td>...</td>\n",
       "      <td>PC 17599</td>\n",
       "      <td>03/26/2015 19:10:00</td>\n",
       "      <td>Jumanji (1995)</td>\n",
       "      <td>Adventure|Children's|Fantasy</td>\n",
       "      <td>3</td>\n",
       "      <td>978302109</td>\n",
       "      <td>Mrs</td>\n",
       "      <td>51</td>\n",
       "      <td>Mrs</td>\n",
       "      <td>2</td>\n",
       "    </tr>\n",
       "    <tr>\n",
       "      <th>2</th>\n",
       "      <td>26.0</td>\n",
       "      <td>NaN</td>\n",
       "      <td>S</td>\n",
       "      <td>7.9250</td>\n",
       "      <td>Heikkinen, Miss. Laina</td>\n",
       "      <td>0</td>\n",
       "      <td>3</td>\n",
       "      <td>3</td>\n",
       "      <td>female</td>\n",
       "      <td>0</td>\n",
       "      <td>...</td>\n",
       "      <td>STON/O2. 3101282</td>\n",
       "      <td>01/07/2007 07:45:00</td>\n",
       "      <td>Grumpier Old Men (1995)</td>\n",
       "      <td>Comedy|Romance</td>\n",
       "      <td>3</td>\n",
       "      <td>978301968</td>\n",
       "      <td>Miss</td>\n",
       "      <td>22</td>\n",
       "      <td>Miss</td>\n",
       "      <td>1</td>\n",
       "    </tr>\n",
       "    <tr>\n",
       "      <th>3</th>\n",
       "      <td>35.0</td>\n",
       "      <td>C123</td>\n",
       "      <td>S</td>\n",
       "      <td>53.1000</td>\n",
       "      <td>Futrelle, Mrs. Jacques Heath (Lily May Peel)</td>\n",
       "      <td>0</td>\n",
       "      <td>4</td>\n",
       "      <td>1</td>\n",
       "      <td>female</td>\n",
       "      <td>1</td>\n",
       "      <td>...</td>\n",
       "      <td>113803</td>\n",
       "      <td>04/18/2005 00:10:00</td>\n",
       "      <td>Waiting to Exhale (1995)</td>\n",
       "      <td>Comedy|Drama</td>\n",
       "      <td>4</td>\n",
       "      <td>978300275</td>\n",
       "      <td>Mrs</td>\n",
       "      <td>44</td>\n",
       "      <td>Mrs</td>\n",
       "      <td>2</td>\n",
       "    </tr>\n",
       "    <tr>\n",
       "      <th>4</th>\n",
       "      <td>35.0</td>\n",
       "      <td>NaN</td>\n",
       "      <td>S</td>\n",
       "      <td>8.0500</td>\n",
       "      <td>Allen, Mr. William Henry</td>\n",
       "      <td>0</td>\n",
       "      <td>5</td>\n",
       "      <td>3</td>\n",
       "      <td>male</td>\n",
       "      <td>0</td>\n",
       "      <td>...</td>\n",
       "      <td>373450</td>\n",
       "      <td>02/25/2009 09:40:00</td>\n",
       "      <td>Father of the Bride Part II (1995)</td>\n",
       "      <td>Comedy</td>\n",
       "      <td>5</td>\n",
       "      <td>978824291</td>\n",
       "      <td>Mr</td>\n",
       "      <td>24</td>\n",
       "      <td>Mr</td>\n",
       "      <td>1</td>\n",
       "    </tr>\n",
       "  </tbody>\n",
       "</table>\n",
       "<p>5 rows × 21 columns</p>\n",
       "</div>"
      ],
      "text/plain": [
       "     Age Cabin Embarked     Fare  \\\n",
       "id                                 \n",
       "0   22.0   NaN        S   7.2500   \n",
       "1   38.0   C85        C  71.2833   \n",
       "2   26.0   NaN        S   7.9250   \n",
       "3   35.0  C123        S  53.1000   \n",
       "4   35.0   NaN        S   8.0500   \n",
       "\n",
       "                                                 Name  Parch  PassengerId  \\\n",
       "id                                                                          \n",
       "0                             Braund, Mr. Owen Harris      0            1   \n",
       "1   Cumings, Mrs. John Bradley (Florence Briggs Th...      0            2   \n",
       "2                              Heikkinen, Miss. Laina      0            3   \n",
       "3        Futrelle, Mrs. Jacques Heath (Lily May Peel)      0            4   \n",
       "4                            Allen, Mr. William Henry      0            5   \n",
       "\n",
       "    Pclass     Sex  SibSp     ...                Ticket            timestamp  \\\n",
       "id                            ...                                              \n",
       "0        3    male      1     ...             A/5 21171  03/23/2009 08:30:00   \n",
       "1        1  female      1     ...              PC 17599  03/26/2015 19:10:00   \n",
       "2        3  female      0     ...      STON/O2. 3101282  01/07/2007 07:45:00   \n",
       "3        1  female      1     ...                113803  04/18/2005 00:10:00   \n",
       "4        3    male      0     ...                373450  02/25/2009 09:40:00   \n",
       "\n",
       "                                 title                        genres rating  \\\n",
       "id                                                                            \n",
       "0                     Toy Story (1995)   Animation|Children's|Comedy      5   \n",
       "1                       Jumanji (1995)  Adventure|Children's|Fantasy      3   \n",
       "2              Grumpier Old Men (1995)                Comedy|Romance      3   \n",
       "3             Waiting to Exhale (1995)                  Comedy|Drama      4   \n",
       "4   Father of the Bride Part II (1995)                        Comedy      5   \n",
       "\n",
       "    timestamp_1  Initial Name_length  Title Family_Size  \n",
       "id                                                       \n",
       "0     978300760       Mr          23     Mr           2  \n",
       "1     978302109      Mrs          51    Mrs           2  \n",
       "2     978301968     Miss          22   Miss           1  \n",
       "3     978300275      Mrs          44    Mrs           2  \n",
       "4     978824291       Mr          24     Mr           1  \n",
       "\n",
       "[5 rows x 21 columns]"
      ]
     },
     "execution_count": 4,
     "metadata": {},
     "output_type": "execute_result"
    }
   ],
   "source": [
    "data_train.head()"
   ]
  },
  {
   "cell_type": "markdown",
   "metadata": {},
   "source": [
    "###  画图"
   ]
  },
  {
   "cell_type": "markdown",
   "metadata": {},
   "source": [
    "#### seaborn  https://seaborn.pydata.org/api.html"
   ]
  },
  {
   "cell_type": "markdown",
   "metadata": {},
   "source": [
    "###   因子变量"
   ]
  },
  {
   "cell_type": "markdown",
   "metadata": {},
   "source": [
    "### 单连续变量Age==>连续分布  某一列"
   ]
  },
  {
   "cell_type": "code",
   "execution_count": 5,
   "metadata": {
    "ExecuteTime": {
     "end_time": "2018-04-29T01:34:40.348205Z",
     "start_time": "2018-04-29T01:34:40.052096Z"
    },
    "collapsed": true
   },
   "outputs": [
    {
     "ename": "ValueError",
     "evalue": "cannot convert float NaN to integer",
     "output_type": "error",
     "traceback": [
      "\u001b[1;31m---------------------------------------------------------------------------\u001b[0m",
      "\u001b[1;31mValueError\u001b[0m                                Traceback (most recent call last)",
      "\u001b[1;32m<ipython-input-5-2f911afd4da5>\u001b[0m in \u001b[0;36m<module>\u001b[1;34m()\u001b[0m\n\u001b[0;32m      3\u001b[0m     \u001b[0mf\u001b[0m\u001b[1;33m,\u001b[0m \u001b[0max\u001b[0m \u001b[1;33m=\u001b[0m \u001b[0mplt\u001b[0m\u001b[1;33m.\u001b[0m\u001b[0msubplots\u001b[0m\u001b[1;33m(\u001b[0m\u001b[1;36m1\u001b[0m\u001b[1;33m,\u001b[0m\u001b[1;36m1\u001b[0m\u001b[1;33m,\u001b[0m\u001b[0mfigsize\u001b[0m \u001b[1;33m=\u001b[0m \u001b[1;33m(\u001b[0m\u001b[1;36m6\u001b[0m\u001b[1;33m,\u001b[0m\u001b[1;36m4\u001b[0m\u001b[1;33m)\u001b[0m\u001b[1;33m)\u001b[0m\u001b[1;33m\u001b[0m\u001b[0m\n\u001b[0;32m      4\u001b[0m     \u001b[1;31m# sns.distplot(data_train['Age'],ax =ax[0])\u001b[0m\u001b[1;33m\u001b[0m\u001b[1;33m\u001b[0m\u001b[0m\n\u001b[1;32m----> 5\u001b[1;33m     \u001b[0msns\u001b[0m\u001b[1;33m.\u001b[0m\u001b[0mdistplot\u001b[0m\u001b[1;33m(\u001b[0m\u001b[0mdata_train\u001b[0m\u001b[1;33m[\u001b[0m\u001b[1;34m'Age'\u001b[0m\u001b[1;33m]\u001b[0m\u001b[1;33m,\u001b[0m\u001b[0mrug\u001b[0m \u001b[1;33m=\u001b[0m \u001b[1;32mTrue\u001b[0m\u001b[1;33m,\u001b[0m \u001b[0mfit\u001b[0m \u001b[1;33m=\u001b[0m \u001b[0mnorm\u001b[0m\u001b[1;33m,\u001b[0m\u001b[0max\u001b[0m \u001b[1;33m=\u001b[0m\u001b[0max\u001b[0m\u001b[1;33m)\u001b[0m\u001b[1;33m\u001b[0m\u001b[0m\n\u001b[0m\u001b[0;32m      6\u001b[0m     \u001b[0mplt\u001b[0m\u001b[1;33m.\u001b[0m\u001b[0mshow\u001b[0m\u001b[1;33m(\u001b[0m\u001b[1;33m)\u001b[0m\u001b[1;33m\u001b[0m\u001b[0m\n",
      "\u001b[1;32mC:\\ProgramData\\Anaconda2\\envs\\gluon_py3\\lib\\site-packages\\seaborn\\distributions.py\u001b[0m in \u001b[0;36mdistplot\u001b[1;34m(a, bins, hist, kde, rug, fit, hist_kws, kde_kws, rug_kws, fit_kws, color, vertical, norm_hist, axlabel, label, ax)\u001b[0m\n\u001b[0;32m    210\u001b[0m     \u001b[1;32mif\u001b[0m \u001b[0mhist\u001b[0m\u001b[1;33m:\u001b[0m\u001b[1;33m\u001b[0m\u001b[0m\n\u001b[0;32m    211\u001b[0m         \u001b[1;32mif\u001b[0m \u001b[0mbins\u001b[0m \u001b[1;32mis\u001b[0m \u001b[1;32mNone\u001b[0m\u001b[1;33m:\u001b[0m\u001b[1;33m\u001b[0m\u001b[0m\n\u001b[1;32m--> 212\u001b[1;33m             \u001b[0mbins\u001b[0m \u001b[1;33m=\u001b[0m \u001b[0mmin\u001b[0m\u001b[1;33m(\u001b[0m\u001b[0m_freedman_diaconis_bins\u001b[0m\u001b[1;33m(\u001b[0m\u001b[0ma\u001b[0m\u001b[1;33m)\u001b[0m\u001b[1;33m,\u001b[0m \u001b[1;36m50\u001b[0m\u001b[1;33m)\u001b[0m\u001b[1;33m\u001b[0m\u001b[0m\n\u001b[0m\u001b[0;32m    213\u001b[0m         \u001b[0mhist_kws\u001b[0m\u001b[1;33m.\u001b[0m\u001b[0msetdefault\u001b[0m\u001b[1;33m(\u001b[0m\u001b[1;34m\"alpha\"\u001b[0m\u001b[1;33m,\u001b[0m \u001b[1;36m0.4\u001b[0m\u001b[1;33m)\u001b[0m\u001b[1;33m\u001b[0m\u001b[0m\n\u001b[0;32m    214\u001b[0m         \u001b[0mhist_kws\u001b[0m\u001b[1;33m.\u001b[0m\u001b[0msetdefault\u001b[0m\u001b[1;33m(\u001b[0m\u001b[1;34m\"normed\"\u001b[0m\u001b[1;33m,\u001b[0m \u001b[0mnorm_hist\u001b[0m\u001b[1;33m)\u001b[0m\u001b[1;33m\u001b[0m\u001b[0m\n",
      "\u001b[1;32mC:\\ProgramData\\Anaconda2\\envs\\gluon_py3\\lib\\site-packages\\seaborn\\distributions.py\u001b[0m in \u001b[0;36m_freedman_diaconis_bins\u001b[1;34m(a)\u001b[0m\n\u001b[0;32m     34\u001b[0m         \u001b[1;32mreturn\u001b[0m \u001b[0mint\u001b[0m\u001b[1;33m(\u001b[0m\u001b[0mnp\u001b[0m\u001b[1;33m.\u001b[0m\u001b[0msqrt\u001b[0m\u001b[1;33m(\u001b[0m\u001b[0ma\u001b[0m\u001b[1;33m.\u001b[0m\u001b[0msize\u001b[0m\u001b[1;33m)\u001b[0m\u001b[1;33m)\u001b[0m\u001b[1;33m\u001b[0m\u001b[0m\n\u001b[0;32m     35\u001b[0m     \u001b[1;32melse\u001b[0m\u001b[1;33m:\u001b[0m\u001b[1;33m\u001b[0m\u001b[0m\n\u001b[1;32m---> 36\u001b[1;33m         \u001b[1;32mreturn\u001b[0m \u001b[0mint\u001b[0m\u001b[1;33m(\u001b[0m\u001b[0mnp\u001b[0m\u001b[1;33m.\u001b[0m\u001b[0mceil\u001b[0m\u001b[1;33m(\u001b[0m\u001b[1;33m(\u001b[0m\u001b[0ma\u001b[0m\u001b[1;33m.\u001b[0m\u001b[0mmax\u001b[0m\u001b[1;33m(\u001b[0m\u001b[1;33m)\u001b[0m \u001b[1;33m-\u001b[0m \u001b[0ma\u001b[0m\u001b[1;33m.\u001b[0m\u001b[0mmin\u001b[0m\u001b[1;33m(\u001b[0m\u001b[1;33m)\u001b[0m\u001b[1;33m)\u001b[0m \u001b[1;33m/\u001b[0m \u001b[0mh\u001b[0m\u001b[1;33m)\u001b[0m\u001b[1;33m)\u001b[0m\u001b[1;33m\u001b[0m\u001b[0m\n\u001b[0m\u001b[0;32m     37\u001b[0m \u001b[1;33m\u001b[0m\u001b[0m\n\u001b[0;32m     38\u001b[0m \u001b[1;33m\u001b[0m\u001b[0m\n",
      "\u001b[1;31mValueError\u001b[0m: cannot convert float NaN to integer"
     ]
    },
    {
     "data": {
      "image/png": "[encoded data removed]",
      "text/plain": [
       "<Figure size 432x288 with 1 Axes>"
      ]
     },
     "metadata": {},
     "output_type": "display_data"
    }
   ],
   "source": [
    "from scipy.stats import norm\n",
    "with sns.plotting_context(\"notebook\",font_scale=1.2):  #缩放字体\n",
    "    f, ax = plt.subplots(1,1,figsize = (6,4))\n",
    "    # sns.distplot(data_train['Age'],ax =ax[0])\n",
    "    sns.distplot(data_train['Age'],rug = True, fit = norm,ax =ax)\n",
    "    plt.show()"
   ]
  },
  {
   "cell_type": "code",
   "execution_count": null,
   "metadata": {
    "collapsed": true
   },
   "outputs": [],
   "source": [
    "# 怎么样让分布图 按照类别映射（hist ）"
   ]
  },
  {
   "cell_type": "markdown",
   "metadata": {},
   "source": [
    "### 单因子变量 ==> 频数统计  countplot"
   ]
  },
  {
   "cell_type": "code",
   "execution_count": null,
   "metadata": {
    "ExecuteTime": {
     "end_time": "2018-01-21T15:37:31.807918Z",
     "start_time": "2018-01-21T15:37:31.226675Z"
    },
    "collapsed": true
   },
   "outputs": [],
   "source": [
    "fig, ax = plt.subplots(1,3,figsize=(18,6))\n",
    "sns.countplot(x='Title2', data= data_train,ax =ax[0])\n",
    "# 映射 目标变量（是否存活）  存在问题 堆积情况下\n",
    "sns.countplot(x='Title2',hue = 'Survived', data= data_train,ax =ax[1])\n",
    "\n",
    "sns.countplot(x='Title2',hue = 'Survived', data= data_train,hue_order =[1,0],dodge = False,ax =ax[2])"
   ]
  },
  {
   "cell_type": "markdown",
   "metadata": {},
   "source": [
    "\n",
    "####  按照因子变量映射\n",
    "- factorplot()      -->  简单本 --factorplot\n",
    "    + kind : { count,  | box, violin, strip |双变量 point, bar,  |}"
   ]
  },
  {
   "cell_type": "code",
   "execution_count": null,
   "metadata": {
    "ExecuteTime": {
     "end_time": "2018-01-21T11:52:29.714705Z",
     "start_time": "2018-01-21T11:52:29.326876Z"
    },
    "collapsed": true
   },
   "outputs": [],
   "source": [
    "# 单变量 离散型  count (没有连续 分布图)  \n",
    "sns.factorplot(x='Title', kind ='count',col = 'Survived',data =data_train)"
   ]
  },
  {
   "cell_type": "code",
   "execution_count": null,
   "metadata": {
    "ExecuteTime": {
     "end_time": "2018-01-21T15:38:18.556780Z",
     "start_time": "2018-01-21T15:38:18.193796Z"
    },
    "collapsed": true
   },
   "outputs": [],
   "source": [
    "# 单变量 连续型   box, violin, strip\n",
    "sns.factorplot(x='Age', kind ='violin',col = 'Survived',data =data_train)"
   ]
  },
  {
   "cell_type": "code",
   "execution_count": null,
   "metadata": {
    "ExecuteTime": {
     "end_time": "2018-01-21T13:21:34.860791Z",
     "start_time": "2018-01-21T13:21:32.623687Z"
    },
    "collapsed": true
   },
   "outputs": [],
   "source": [
    "# point 图会给出置信度 ---波动区间    point要求因子变量是 数值型 \n",
    "# 将目标变量作为y轴\n",
    "sns.factorplot(x='Title',y='Survived', kind ='point',col = 'FareCut',data =data_train,col_wrap =2)"
   ]
  },
  {
   "cell_type": "code",
   "execution_count": null,
   "metadata": {
    "ExecuteTime": {
     "end_time": "2018-01-21T13:16:28.026530Z",
     "start_time": "2018-01-21T13:16:27.304928Z"
    },
    "collapsed": true
   },
   "outputs": [],
   "source": [
    "#纵轴 计算的连续变量的平均数（因子数值型）\n",
    "sns.factorplot(x='Title',y='Family_Size', kind ='bar',col = 'Survived',data =data_train)"
   ]
  },
  {
   "cell_type": "markdown",
   "metadata": {},
   "source": [
    "####  连续 变量散点图    lmplot(）\n",
    "不能用factorplot()"
   ]
  },
  {
   "cell_type": "code",
   "execution_count": null,
   "metadata": {
    "ExecuteTime": {
     "end_time": "2018-01-21T13:24:55.113332Z",
     "start_time": "2018-01-21T13:24:55.109322Z"
    },
    "collapsed": true
   },
   "outputs": [],
   "source": [
    "sns.factorplot(x='Age',y='Fare',hue=\"IsAlone\", kind ='point',col = 'Survived',data =data_train,col_wrap =2)"
   ]
  },
  {
   "cell_type": "code",
   "execution_count": null,
   "metadata": {
    "ExecuteTime": {
     "end_time": "2018-01-21T13:20:07.509940Z",
     "start_time": "2018-01-21T13:20:06.401684Z"
    },
    "collapsed": true
   },
   "outputs": [],
   "source": [
    "sns.lmplot(x='Age' ,y='Fare' ,hue=\"IsAlone\",col =\"Survived\",data = data_train)"
   ]
  },
  {
   "cell_type": "markdown",
   "metadata": {},
   "source": [
    "####  多变量相关图  PairGrid  \n",
    "简便函数 pairplot"
   ]
  },
  {
   "cell_type": "code",
   "execution_count": null,
   "metadata": {
    "ExecuteTime": {
     "end_time": "2018-01-21T15:39:52.243400Z",
     "start_time": "2018-01-21T15:39:49.807344Z"
    },
    "collapsed": true
   },
   "outputs": [],
   "source": [
    "# columns =['Survived', 'Pclass', 'Sex', 'Age','Fare', 'Embarked', 'Age_cut',\n",
    "#        'FareCut', 'Has_Cabin','Title2', 'Name_length', 'Family_Size', 'IsAlone',\n",
    "#        'Fare_scale', 'Title_train']\n",
    "\n",
    "plot_vars = ['Family_Size','Age','Fare','Name_length']\n",
    "\n",
    "# kind : {‘scatter’, ‘reg’}\n",
    "\n",
    "sns.pairplot(data = data_train,vars = plot_vars , hue = 'Survived',kind ='reg',markers=[\"+\",'*'])\n"
   ]
  },
  {
   "cell_type": "code",
   "execution_count": null,
   "metadata": {
    "ExecuteTime": {
     "end_time": "2018-01-21T15:45:36.142457Z",
     "start_time": "2018-01-21T15:45:36.137473Z"
    },
    "collapsed": true
   },
   "outputs": [],
   "source": [
    "train = data_train[['Survived','Pclass','Sex','Age','Parch','Fare','Has_Cabin','Family_Size','IsAlone','Title_train']]"
   ]
  },
  {
   "cell_type": "code",
   "execution_count": null,
   "metadata": {
    "ExecuteTime": {
     "end_time": "2018-01-21T15:44:28.351395Z",
     "start_time": "2018-01-21T15:44:28.345381Z"
    },
    "collapsed": true
   },
   "outputs": [],
   "source": [
    "data_train.columns"
   ]
  },
  {
   "cell_type": "code",
   "execution_count": null,
   "metadata": {
    "ExecuteTime": {
     "end_time": "2018-01-26T15:34:41.102080Z",
     "start_time": "2018-01-26T15:34:40.072690Z"
    },
    "collapsed": true
   },
   "outputs": [],
   "source": [
    "# titanic.corr()[\"Survived\"]\n",
    "colormap = plt.cm.viridis\n",
    "plt.figure(figsize=(12,12))\n",
    "plt.title('Pearson Correlation of Features', y=1.05, size=15)\n",
    "sns.heatmap(train.astype(float).corr(),linewidths=0.1,vmax=1.0, square=True, cmap=colormap, linecolor='white', annot=True)"
   ]
  },
  {
   "cell_type": "markdown",
   "metadata": {},
   "source": [
    "##### 除以上的简单描述性统计之外，还提供了连续变量的相关系数（corr）和协方差矩阵（cov）的求解\n",
    "df.corr()\n",
    "关于相关系数的计算可以调用pearson方法或kendell方法或spearman方法，默认使用pearson方法。\n",
    "\n",
    "df.corr('spearman')\n",
    "如果只想关注某一个变量与其余变量的相关系数的话，可以使用corrwith,如下方只关心x1与其余变量的相关系数:\n",
    "\n",
    "df.corrwith(df['x1'])\n",
    "数值型变量间的协方差矩阵\n",
    "\n",
    "df.cov()"
   ]
  },
  {
   "cell_type": "code",
   "execution_count": null,
   "metadata": {
    "ExecuteTime": {
     "end_time": "2018-01-27T06:02:55.585976Z",
     "start_time": "2018-01-27T06:02:55.581972Z"
    },
    "collapsed": true
   },
   "outputs": [],
   "source": [
    "# data_train.corr('kendall')   #相关系数pearson（默认）、spearman、kendall  \n",
    "# data_train[['Age','Family_Size']].corrwith(data_train['Fare'])\n",
    "# data_train.cov() #协方差矩阵"
   ]
  },
  {
   "cell_type": "markdown",
   "metadata": {
    "ExecuteTime": {
     "end_time": "2018-01-21T11:58:21.754371Z",
     "start_time": "2018-01-21T11:58:21.208337Z"
    }
   },
   "source": [
    "#### FacetGrid 通用 \n",
    "Tidy (“long-form”) dataframe\n",
    "\n",
    "可以map  不同的绘图函数（plt: scatter area hist  | sns: 的函数） 但是函数内部的参数设置？\n"
   ]
  },
  {
   "cell_type": "code",
   "execution_count": null,
   "metadata": {
    "ExecuteTime": {
     "end_time": "2018-01-21T16:21:04.803806Z",
     "start_time": "2018-01-21T16:21:04.797790Z"
    },
    "collapsed": true
   },
   "outputs": [],
   "source": [
    "def boo_plot(data,color):\n",
    "    data.plot(kind ='scatter',x='Age',y='Fare',s=np.pi*(data_train['Family_Size']*3)**2,alpha =0.3,ax=plt.gca())\n",
    "    "
   ]
  },
  {
   "cell_type": "code",
   "execution_count": null,
   "metadata": {
    "ExecuteTime": {
     "end_time": "2018-01-21T16:21:10.329280Z",
     "start_time": "2018-01-21T16:21:05.863957Z"
    },
    "collapsed": true
   },
   "outputs": [],
   "source": [
    "g= sns.FacetGrid(data=data_train,col='Survived',size= 5 ,aspect = 1.2)\n",
    "g.map_dataframe(boo_plot)"
   ]
  },
  {
   "cell_type": "code",
   "execution_count": null,
   "metadata": {
    "ExecuteTime": {
     "end_time": "2018-01-21T16:22:35.361489Z",
     "start_time": "2018-01-21T16:22:34.722907Z"
    },
    "collapsed": true
   },
   "outputs": [],
   "source": [
    "# 效果下相当于 直接使用 lmplot()\n",
    "def def_plot(data,color):\n",
    "    sns.regplot('Age','Fare',data,ax=plt.gca())\n",
    "# 自定义的 jointplot()失败\n",
    "    \n",
    "g = sns.FacetGrid(data= data_train, col=\"Survived\",size= 5 ,aspect = 1.2)  #   row=\"smoker\"  \n",
    "g = g.map_dataframe(def_plot)\n",
    "\n",
    "# map_dataframe() Like map but passes args as strings and inserts data in kwargs."
   ]
  },
  {
   "cell_type": "code",
   "execution_count": null,
   "metadata": {
    "ExecuteTime": {
     "end_time": "2018-01-21T12:38:52.540256Z",
     "start_time": "2018-01-21T12:38:52.106629Z"
    },
    "collapsed": true
   },
   "outputs": [],
   "source": [
    "# 设置每个小图 图片尺寸 高：size  宽 ：aspect * size\n",
    "g = sns.FacetGrid(data_train, col=\"Survived\",size= 5 ,aspect = 1.2)  #   row=\"smoker\"  \n",
    "# g = g.map(sns.regplot, \"Age\",\"Fare\")\n",
    "g = g.map(plt.scatter, \"Age\",\"Fare\")"
   ]
  },
  {
   "cell_type": "markdown",
   "metadata": {},
   "source": [
    "#### 绘制年龄 和 票价的相关图"
   ]
  },
  {
   "cell_type": "code",
   "execution_count": null,
   "metadata": {
    "ExecuteTime": {
     "end_time": "2018-01-21T09:22:53.547090Z",
     "start_time": "2018-01-21T09:22:52.729231Z"
    },
    "collapsed": true
   },
   "outputs": [],
   "source": [
    "import seaborn as sns\n",
    "# 体现相关性\n",
    "# 两个连续变量的相关性 通过这个看\n",
    "sns.jointplot('Age','Fare',data_train.loc[data_train['Fare']<=300],kind = 'reg')"
   ]
  },
  {
   "cell_type": "code",
   "execution_count": null,
   "metadata": {
    "ExecuteTime": {
     "end_time": "2018-01-21T09:47:53.833252Z",
     "start_time": "2018-01-21T09:47:53.045113Z"
    },
    "collapsed": true
   },
   "outputs": [],
   "source": [
    "# 优：可以展示 两个变量的整体分布情况  \n",
    "# 缺：但是看不到 因子内部的分布情况  不能映射第三个变量\n",
    "sns.jointplot('Title_train','Age',data = data_train)"
   ]
  },
  {
   "cell_type": "code",
   "execution_count": null,
   "metadata": {
    "ExecuteTime": {
     "end_time": "2018-01-21T09:50:16.352094Z",
     "start_time": "2018-01-21T09:50:13.203738Z"
    },
    "collapsed": true
   },
   "outputs": [],
   "source": [
    "# 优：可以看不到 因子内部的分布情况   映射第三个变量\n",
    "# 缺：但是不能展示 两个变量的整体分布情况 \n",
    "f, ax = plt.subplots(1,2,figsize =(18,8))\n",
    "sns.violinplot('Title2','Age',hue ='Survived',data = data_train, split =True, ax =ax[0])\n",
    "ax[0].set_title(\"Simplified Version\") # 标题不支持中文\n",
    "sns.violinplot('Title2','Age',hue ='Survived',data = data_train, split =True,inner = 'stick',scale ='count', ax =ax[1])\n",
    "\n",
    "plt.show()"
   ]
  },
  {
   "cell_type": "code",
   "execution_count": null,
   "metadata": {
    "ExecuteTime": {
     "end_time": "2018-01-21T09:56:09.171369Z",
     "start_time": "2018-01-21T09:56:08.950742Z"
    },
    "collapsed": true
   },
   "outputs": [],
   "source": [
    "# data_train['Fare'].plot(kind ='box')\n",
    "\n",
    "sns.violinplot(x= 'Survived',y = 'Sex',data = data_train, split =True)"
   ]
  },
  {
   "cell_type": "markdown",
   "metadata": {},
   "source": [
    "#### 小提琴图 "
   ]
  },
  {
   "cell_type": "code",
   "execution_count": null,
   "metadata": {
    "ExecuteTime": {
     "end_time": "2018-01-21T09:14:51.535753Z",
     "start_time": "2018-01-21T09:14:51.029769Z"
    },
    "collapsed": true
   },
   "outputs": [],
   "source": [
    "#因为Fare 有极端值  画的也不好看\n",
    "f, ax = plt.subplots(1,2,figsize =(18,8))\n",
    "sns.violinplot('Sex','Fare',hue = \"Survived\", data = data_train, split = True, ax = ax[0])\n",
    "ax[0].set_title('Sex and Fare vs Survived')\n",
    "ax[0].set_yticks(range(1,500,50))\n",
    "\n",
    "sns.violinplot('Sex','Age', hue = \"Survived\", data = data_train, split = True, ax = ax[1])\n",
    "ax[1].set_title('Sex and Age vs Survived')\n",
    "\n",
    "plt.show()"
   ]
  },
  {
   "cell_type": "code",
   "execution_count": null,
   "metadata": {
    "ExecuteTime": {
     "end_time": "2018-01-21T09:05:08.465810Z",
     "start_time": "2018-01-21T09:05:08.168957Z"
    },
    "collapsed": true
   },
   "outputs": [],
   "source": [
    "sns.violinplot(\"Sex\",\"Age\", hue=\"Survived\", data=data_train,split=True)"
   ]
  },
  {
   "cell_type": "code",
   "execution_count": null,
   "metadata": {
    "ExecuteTime": {
     "end_time": "2018-01-21T15:57:11.882122Z",
     "start_time": "2018-01-21T15:57:11.701598Z"
    },
    "collapsed": true
   },
   "outputs": [],
   "source": [
    "sns.boxplot(y = 'Fare',hue = 'Survived', data= data_train)"
   ]
  },
  {
   "cell_type": "code",
   "execution_count": null,
   "metadata": {
    "collapsed": true
   },
   "outputs": [],
   "source": [
    "Survived\tPclass\tSex\tAge\tParch\tFare\tEmbarked\tHas_Cabin\tFamilySize\tIsAlone\tTitle"
   ]
  },
  {
   "cell_type": "code",
   "execution_count": null,
   "metadata": {
    "ExecuteTime": {
     "end_time": "2018-01-18T16:29:15.289759Z",
     "start_time": "2018-01-18T16:29:15.276725Z"
    },
    "collapsed": true
   },
   "outputs": [],
   "source": [
    "attr = plt.subplots(1,2,sharex=True,figsize=(10,5))"
   ]
  },
  {
   "cell_type": "code",
   "execution_count": null,
   "metadata": {
    "ExecuteTime": {
     "end_time": "2018-01-18T16:15:04.606638Z",
     "start_time": "2018-01-18T16:15:04.593603Z"
    },
    "collapsed": true
   },
   "outputs": [],
   "source": [
    "f=plt.subplots(1,2,figsize=(18,8))"
   ]
  },
  {
   "cell_type": "code",
   "execution_count": null,
   "metadata": {
    "ExecuteTime": {
     "end_time": "2018-01-18T15:56:11.369714Z",
     "start_time": "2018-01-18T15:56:11.354167Z"
    },
    "collapsed": true
   },
   "outputs": [],
   "source": [
    "temp = data_train[['Family_Size','Survived']].groupby(['Survived'],as_index =False).mean()\n",
    "temp"
   ]
  },
  {
   "cell_type": "code",
   "execution_count": null,
   "metadata": {
    "ExecuteTime": {
     "end_time": "2018-01-18T16:01:47.070775Z",
     "start_time": "2018-01-18T16:01:47.057740Z"
    },
    "collapsed": true
   },
   "outputs": [],
   "source": [
    "# size()  产生一个Series  运用 to_frame()\n",
    "temp = data_train[['Family_Size','Survived']].groupby(['Survived'],as_index =False).size()\n",
    "temp\n",
    "temp.to_frame(name = 'Family').reset_index()  # name  时Series 的列名"
   ]
  },
  {
   "cell_type": "code",
   "execution_count": null,
   "metadata": {
    "ExecuteTime": {
     "end_time": "2018-01-18T13:35:40.664717Z",
     "start_time": "2018-01-18T13:35:40.649710Z"
    },
    "collapsed": true
   },
   "outputs": [],
   "source": [
    "# 对两个变量 进行聚合\n",
    "# 统计数量，随便选一列 用count() 函数即可\n",
    "data_train.groupby(['Family_Size','Survived'],as_index =False)['Name'].count()"
   ]
  },
  {
   "cell_type": "code",
   "execution_count": null,
   "metadata": {
    "ExecuteTime": {
     "end_time": "2018-01-17T13:27:38.975483Z",
     "start_time": "2018-01-17T13:27:38.637585Z"
    },
    "collapsed": true
   },
   "outputs": [],
   "source": [
    "f,ax=plt.subplots(1,2,figsize=(18,8))"
   ]
  },
  {
   "cell_type": "code",
   "execution_count": null,
   "metadata": {
    "ExecuteTime": {
     "end_time": "2018-01-17T17:30:30.696987Z",
     "start_time": "2018-01-17T17:30:30.675930Z"
    },
    "collapsed": true
   },
   "outputs": [],
   "source": [
    "final_data.head()"
   ]
  },
  {
   "cell_type": "code",
   "execution_count": null,
   "metadata": {
    "ExecuteTime": {
     "end_time": "2018-01-18T14:01:47.789935Z",
     "start_time": "2018-01-18T14:01:47.725764Z"
    },
    "collapsed": true
   },
   "outputs": [],
   "source": [
    "#用list 去查看聚合内部\n",
    "dict(list(data_train[['Family_Size','Survived','Title2']].groupby(['Survived','Title2'])))"
   ]
  },
  {
   "cell_type": "code",
   "execution_count": null,
   "metadata": {
    "ExecuteTime": {
     "end_time": "2018-01-21T08:42:04.781528Z",
     "start_time": "2018-01-21T08:42:04.769996Z"
    },
    "collapsed": true
   },
   "outputs": [],
   "source": [
    "# data_train.columns\n",
    "test = data_train[['Family_Size','Survived','Title2']]"
   ]
  },
  {
   "cell_type": "code",
   "execution_count": null,
   "metadata": {
    "collapsed": true
   },
   "outputs": [],
   "source": []
  }
 ],
 "metadata": {
  "kernelspec": {
   "display_name": "python_3",
   "language": "python",
   "name": "python_3"
  },
  "language_info": {
   "codemirror_mode": {
    "name": "ipython",
    "version": 3
   },
   "file_extension": ".py",
   "mimetype": "text/x-python",
   "name": "python",
   "nbconvert_exporter": "python",
   "pygments_lexer": "ipython3",
   "version": "3.6.2"
  }
 },
 "nbformat": 4,
 "nbformat_minor": 2
}
