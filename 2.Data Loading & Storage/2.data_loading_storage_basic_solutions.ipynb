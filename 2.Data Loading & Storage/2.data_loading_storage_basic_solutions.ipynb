{
 "cells": [
  {
   "cell_type": "markdown",
   "metadata": {},
   "source": [
    "### Step1: 导入必要的库"
   ]
  },
  {
   "cell_type": "code",
   "execution_count": null,
   "metadata": {
    "ExecuteTime": {
     "end_time": "2018-04-07T01:15:40.659327Z",
     "start_time": "2018-04-07T01:15:34.134392Z"
    },
    "collapsed": true
   },
   "outputs": [],
   "source": [
    "import pandas as pd #数据分析\n",
    "import numpy as np #科学计算\n",
    "import matplotlib\n",
    "import matplotlib.pyplot as plt\n",
    "import seaborn as sns"
   ]
  },
  {
   "cell_type": "code",
   "execution_count": 29,
   "metadata": {
    "ExecuteTime": {
     "end_time": "2018-04-07T01:40:40.366130Z",
     "start_time": "2018-04-07T01:40:40.362122Z"
    },
    "collapsed": true
   },
   "outputs": [],
   "source": [
    "import os\n",
    "os.chdir('D:\\\\Python\\\\Git_test\\\\Data_Analysis')"
   ]
  },
  {
   "cell_type": "markdown",
   "metadata": {},
   "source": [
    "### Step2:数据读取"
   ]
  },
  {
   "cell_type": "markdown",
   "metadata": {},
   "source": [
    "- 文件格式：csv、txt、 dat、 pickle、Excel等\n",
    "- 数据库：sqlite MySQL MongoDB 等"
   ]
  },
  {
   "cell_type": "markdown",
   "metadata": {},
   "source": [
    "### 2.1. CSV"
   ]
  },
  {
   "cell_type": "markdown",
   "metadata": {},
   "source": [
    "从csv中数据读取,(不包括索引列)  读取./input/pratice_data.csv数据"
   ]
  },
  {
   "cell_type": "code",
   "execution_count": 101,
   "metadata": {
    "ExecuteTime": {
     "end_time": "2018-04-07T02:21:32.807798Z",
     "start_time": "2018-04-07T02:21:32.789459Z"
    },
    "collapsed": true
   },
   "outputs": [],
   "source": [
    "data_train = pd.read_csv(\"./input/pratice_data.csv\",index_col = 0)"
   ]
  },
  {
   "cell_type": "markdown",
   "metadata": {},
   "source": [
    "将数据写入practice_data.csv"
   ]
  },
  {
   "cell_type": "code",
   "execution_count": null,
   "metadata": {
    "collapsed": true
   },
   "outputs": [],
   "source": [
    "data_train.to_csv(\"./input/pratice_data.csv\")"
   ]
  },
  {
   "cell_type": "markdown",
   "metadata": {
    "ExecuteTime": {
     "end_time": "2018-04-07T10:21:54.065969Z",
     "start_time": "2018-04-07T10:21:54.058115Z"
    }
   },
   "source": [
    "* 设置to_csv()参数 "
   ]
  },
  {
   "cell_type": "code",
   "execution_count": 105,
   "metadata": {
    "ExecuteTime": {
     "end_time": "2018-04-07T02:23:12.876330Z",
     "start_time": "2018-04-07T02:23:12.821557Z"
    },
    "collapsed": true
   },
   "outputs": [],
   "source": [
    "data_train.to_csv(\"./input/pratice_data.csv\",sep =',',header =True,index = False ,encoding ='utf-8')"
   ]
  },
  {
   "cell_type": "markdown",
   "metadata": {
    "ExecuteTime": {
     "end_time": "2018-04-07T10:21:54.065969Z",
     "start_time": "2018-04-07T10:21:54.058115Z"
    }
   },
   "source": [
    "* 查看帮助文档(两种方式)"
   ]
  },
  {
   "cell_type": "code",
   "execution_count": null,
   "metadata": {
    "collapsed": true
   },
   "outputs": [],
   "source": [
    "pd.read_csv??\n",
    "# help(pd.read_csv)"
   ]
  },
  {
   "cell_type": "code",
   "execution_count": 92,
   "metadata": {
    "ExecuteTime": {
     "end_time": "2018-04-07T02:19:45.554239Z",
     "start_time": "2018-04-07T02:19:45.513021Z"
    },
    "collapsed": true
   },
   "outputs": [],
   "source": [
    "data_train.to_csv??"
   ]
  },
  {
   "cell_type": "markdown",
   "metadata": {},
   "source": [
    "### 2.2. pandas 的 pickle 格式"
   ]
  },
  {
   "cell_type": "markdown",
   "metadata": {},
   "source": [
    "#### pickle数据读取\n",
    "保存为pandas 原生格式pickle （pickling' a file）"
   ]
  },
  {
   "cell_type": "code",
   "execution_count": null,
   "metadata": {
    "ExecuteTime": {
     "end_time": "2018-04-07T02:17:31.262751Z",
     "start_time": "2018-04-07T02:17:31.245477Z"
    },
    "collapsed": true
   },
   "outputs": [],
   "source": [
    "data_train = pd.read_pickle('./input/pratice_data_input.pkl')"
   ]
  },
  {
   "cell_type": "markdown",
   "metadata": {},
   "source": [
    "#### pickle数据读取数据写入"
   ]
  },
  {
   "cell_type": "code",
   "execution_count": 84,
   "metadata": {
    "ExecuteTime": {
     "end_time": "2018-04-07T02:17:09.557523Z",
     "start_time": "2018-04-07T02:17:09.540806Z"
    },
    "collapsed": true
   },
   "outputs": [],
   "source": [
    "data_train.to_pickle('./input/pratice_data_output.pkl')"
   ]
  },
  {
   "cell_type": "markdown",
   "metadata": {},
   "source": [
    "### 2.3. Excel"
   ]
  },
  {
   "cell_type": "markdown",
   "metadata": {},
   "source": [
    "#### excel数据读取  \n",
    "读取./input/pratice_data.xlsx中的data页数据"
   ]
  },
  {
   "cell_type": "code",
   "execution_count": 60,
   "metadata": {
    "ExecuteTime": {
     "end_time": "2018-04-07T02:02:28.214704Z",
     "start_time": "2018-04-07T02:02:27.902605Z"
    },
    "collapsed": true
   },
   "outputs": [],
   "source": [
    "data_train = pd.read_excel('./input/pratice_data.xlsx',sheet_name = 'data')"
   ]
  },
  {
   "cell_type": "markdown",
   "metadata": {},
   "source": [
    "#### excel数据写入\n",
    "写入excel文件的 data页"
   ]
  },
  {
   "cell_type": "markdown",
   "metadata": {
    "ExecuteTime": {
     "end_time": "2018-04-07T02:00:28.593050Z",
     "start_time": "2018-04-07T02:00:07.169035Z"
    },
    "collapsed": true
   },
   "source": [
    "可能需要安装 openpyxl\n",
    "* !pip install openpyxl"
   ]
  },
  {
   "cell_type": "code",
   "execution_count": 59,
   "metadata": {
    "ExecuteTime": {
     "end_time": "2018-04-07T02:02:23.018595Z",
     "start_time": "2018-04-07T02:02:22.239435Z"
    },
    "collapsed": true
   },
   "outputs": [],
   "source": [
    "writer = pd.ExcelWriter('./input/pratice_data.xlsx')\n",
    "\n",
    "data_train.to_excel(writer,sheet_name = 'data')\n",
    "\n",
    "writer.save()"
   ]
  },
  {
   "cell_type": "markdown",
   "metadata": {
    "ExecuteTime": {
     "end_time": "2018-04-07T02:08:14.345212Z",
     "start_time": "2018-04-07T02:08:14.341266Z"
    }
   },
   "source": [
    "###  2.4.读取多个文件"
   ]
  },
  {
   "cell_type": "markdown",
   "metadata": {
    "ExecuteTime": {
     "end_time": "2018-04-07T10:33:02.216230Z",
     "start_time": "2018-04-07T10:33:02.210343Z"
    }
   },
   "source": [
    "读取d盘Python下 以.csv结尾的文件数据"
   ]
  },
  {
   "cell_type": "code",
   "execution_count": 70,
   "metadata": {
    "ExecuteTime": {
     "end_time": "2018-04-07T02:10:40.737330Z",
     "start_time": "2018-04-07T02:10:40.728465Z"
    }
   },
   "outputs": [
    {
     "name": "stdout",
     "output_type": "stream",
     "text": [
      "sales.png\n",
      "sas_test.txt\n",
      "sleep.csv\n",
      "spider.py\n"
     ]
    }
   ],
   "source": [
    "d ='D:\\\\Python'\n",
    "for file in os.listdir('D:\\python'):\n",
    "    if file.endswith('.csv'):\n",
    "    # if file.startswith('s'):\n",
    "        with open(os.path.join(d, file)) as f:\n",
    "            f.read()   "
   ]
  },
  {
   "cell_type": "markdown",
   "metadata": {},
   "source": [
    "### 2.5.copy备份数据"
   ]
  },
  {
   "cell_type": "code",
   "execution_count": null,
   "metadata": {
    "ExecuteTime": {
     "end_time": "2018-03-17T08:12:09.694474Z",
     "start_time": "2018-03-17T08:12:09.690465Z"
    },
    "collapsed": true
   },
   "outputs": [],
   "source": [
    "data = data_train.copy()"
   ]
  }
 ],
 "metadata": {
  "kernelspec": {
   "display_name": "python_3",
   "language": "python",
   "name": "python_3"
  },
  "language_info": {
   "codemirror_mode": {
    "name": "ipython",
    "version": 3
   },
   "file_extension": ".py",
   "mimetype": "text/x-python",
   "name": "python",
   "nbconvert_exporter": "python",
   "pygments_lexer": "ipython3",
   "version": "3.6.2"
  }
 },
 "nbformat": 4,
 "nbformat_minor": 2
}
