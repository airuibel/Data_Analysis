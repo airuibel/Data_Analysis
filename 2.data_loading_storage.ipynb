{
 "cells": [
  {
   "cell_type": "markdown",
   "metadata": {},
   "source": [
    "### Step1: 导入必要的库"
   ]
  },
  {
   "cell_type": "code",
   "execution_count": null,
   "metadata": {
    "ExecuteTime": {
     "end_time": "2018-04-07T01:15:40.659327Z",
     "start_time": "2018-04-07T01:15:34.134392Z"
    },
    "collapsed": true
   },
   "outputs": [],
   "source": [
    "import pandas as pd #数据分析\n",
    "import numpy as np #科学计算\n",
    "import matplotlib\n",
    "import matplotlib.pyplot as plt\n",
    "import seaborn as sns"
   ]
  },
  {
   "cell_type": "code",
   "execution_count": 29,
   "metadata": {
    "ExecuteTime": {
     "end_time": "2018-04-07T01:40:40.366130Z",
     "start_time": "2018-04-07T01:40:40.362122Z"
    },
    "collapsed": true
   },
   "outputs": [],
   "source": [
    "import os\n",
    "os.chdir('D:\\\\Python\\\\Git_test\\\\Data_Analysis')"
   ]
  },
  {
   "cell_type": "markdown",
   "metadata": {},
   "source": [
    "### Step2:数据读取"
   ]
  },
  {
   "cell_type": "markdown",
   "metadata": {},
   "source": [
    "- 文件格式：csv、txt、 dat、 pickle、Excel等\n",
    "- 数据库：sqlite MySQL MongoDB 等"
   ]
  },
  {
   "cell_type": "markdown",
   "metadata": {},
   "source": [
    "#### 2.1. CSV"
   ]
  },
  {
   "cell_type": "markdown",
   "metadata": {},
   "source": [
    "从csv中数据读取,(不包括索引列)"
   ]
  },
  {
   "cell_type": "code",
   "execution_count": 101,
   "metadata": {
    "ExecuteTime": {
     "end_time": "2018-04-07T02:21:32.807798Z",
     "start_time": "2018-04-07T02:21:32.789459Z"
    },
    "collapsed": true
   },
   "outputs": [],
   "source": [
    "data_train = pd.read_csv(\"./input/pratice_data.csv\",index_col = 0)"
   ]
  },
  {
   "cell_type": "markdown",
   "metadata": {},
   "source": [
    "将数据写入csv"
   ]
  },
  {
   "cell_type": "code",
   "execution_count": null,
   "metadata": {
    "collapsed": true
   },
   "outputs": [],
   "source": [
    "data_train.to_csv(\"./input/pratice_data.csv\")"
   ]
  },
  {
   "cell_type": "markdown",
   "metadata": {
    "ExecuteTime": {
     "end_time": "2018-04-07T10:21:54.065969Z",
     "start_time": "2018-04-07T10:21:54.058115Z"
    }
   },
   "source": [
    "* 设置to_csv()参数 "
   ]
  },
  {
   "cell_type": "markdown",
   "metadata": {
    "ExecuteTime": {
     "end_time": "2018-04-07T10:21:54.065969Z",
     "start_time": "2018-04-07T10:21:54.058115Z"
    }
   },
   "source": [
    "* 查看帮助文档"
   ]
  },
  {
   "cell_type": "code",
   "execution_count": 105,
   "metadata": {
    "ExecuteTime": {
     "end_time": "2018-04-07T02:23:12.876330Z",
     "start_time": "2018-04-07T02:23:12.821557Z"
    },
    "collapsed": true
   },
   "outputs": [],
   "source": [
    "data_train.to_csv(\"./input/pratice_data.csv\",sep =',',header =True,index = False ,encoding ='utf-8')"
   ]
  },
  {
   "cell_type": "code",
   "execution_count": null,
   "metadata": {
    "collapsed": true
   },
   "outputs": [],
   "source": []
  },
  {
   "cell_type": "code",
   "execution_count": 92,
   "metadata": {
    "ExecuteTime": {
     "end_time": "2018-04-07T02:19:45.554239Z",
     "start_time": "2018-04-07T02:19:45.513021Z"
    },
    "collapsed": true
   },
   "outputs": [],
   "source": [
    "# 函数参数不记得，查看帮助文档\n",
    "pd.read_csv??\n",
    "# help(pd.read_csv)\n",
    "\n",
    "data_train.to_csv??"
   ]
  },
  {
   "cell_type": "markdown",
   "metadata": {},
   "source": [
    "#### 2. pandas 的 pickle 格式"
   ]
  },
  {
   "cell_type": "code",
   "execution_count": 85,
   "metadata": {
    "ExecuteTime": {
     "end_time": "2018-04-07T02:17:31.262751Z",
     "start_time": "2018-04-07T02:17:31.245477Z"
    },
    "collapsed": true
   },
   "outputs": [],
   "source": [
    "# 数据读取\n",
    "#保存为pandas 原生格式pickle （pickling' a file）\n",
    "\n",
    "data_train = pd.read_pickle('./input/pratice_data_input.pkl')"
   ]
  },
  {
   "cell_type": "code",
   "execution_count": 84,
   "metadata": {
    "ExecuteTime": {
     "end_time": "2018-04-07T02:17:09.557523Z",
     "start_time": "2018-04-07T02:17:09.540806Z"
    },
    "collapsed": true
   },
   "outputs": [],
   "source": [
    "# 数据写入\n",
    "data_train.to_pickle('./input/pratice_data_output.pkl')"
   ]
  },
  {
   "cell_type": "markdown",
   "metadata": {},
   "source": [
    "#### 3. Excel"
   ]
  },
  {
   "cell_type": "code",
   "execution_count": 44,
   "metadata": {
    "ExecuteTime": {
     "end_time": "2018-04-07T01:51:30.270067Z",
     "start_time": "2018-04-07T01:51:30.249660Z"
    },
    "collapsed": true
   },
   "outputs": [],
   "source": [
    "pd.read_excel??"
   ]
  },
  {
   "cell_type": "code",
   "execution_count": 60,
   "metadata": {
    "ExecuteTime": {
     "end_time": "2018-04-07T02:02:28.214704Z",
     "start_time": "2018-04-07T02:02:27.902605Z"
    },
    "collapsed": true
   },
   "outputs": [],
   "source": [
    "# 数据读取\n",
    "data_train = pd.read_excel('./input/pratice_data.xlsx',sheet_name = 'data')"
   ]
  },
  {
   "cell_type": "code",
   "execution_count": 59,
   "metadata": {
    "ExecuteTime": {
     "end_time": "2018-04-07T02:02:23.018595Z",
     "start_time": "2018-04-07T02:02:22.239435Z"
    },
    "collapsed": true
   },
   "outputs": [],
   "source": [
    "# 写入Excel\n",
    "writer = pd.ExcelWriter('./input/pratice_data.xlsx')\n",
    "\n",
    "data_train.to_excel(writer,sheet_name = 'data')\n",
    "\n",
    "writer.save()"
   ]
  },
  {
   "cell_type": "code",
   "execution_count": 53,
   "metadata": {
    "ExecuteTime": {
     "end_time": "2018-04-07T02:00:28.593050Z",
     "start_time": "2018-04-07T02:00:07.169035Z"
    },
    "collapsed": true
   },
   "outputs": [
    {
     "name": "stdout",
     "output_type": "stream",
     "text": [
      "Collecting openpyxl\n",
      "  Downloading openpyxl-2.5.2.tar.gz (170kB)\n",
      "Collecting jdcal (from openpyxl)\n",
      "  Downloading jdcal-1.3.tar.gz\n",
      "Collecting et_xmlfile (from openpyxl)\n",
      "  Downloading et_xmlfile-1.0.1.tar.gz\n",
      "Building wheels for collected packages: openpyxl, jdcal, et-xmlfile\n",
      "  Running setup.py bdist_wheel for openpyxl: started\n",
      "  Running setup.py bdist_wheel for openpyxl: finished with status 'done'\n",
      "  Stored in directory: C:\\Users\\Administrator.DESKTOP-8UOSO1O\\AppData\\Local\\pip\\Cache\\wheels\\78\\19\\10\\866830f7564cdcb6f78ca6841be465237c66c71aaedf940de3\n",
      "  Running setup.py bdist_wheel for jdcal: started\n",
      "  Running setup.py bdist_wheel for jdcal: finished with status 'done'\n",
      "  Stored in directory: C:\\Users\\Administrator.DESKTOP-8UOSO1O\\AppData\\Local\\pip\\Cache\\wheels\\0f\\63\\92\\19ac65ed64189de4d662f269d39dd08a887258842ad2f29549\n",
      "  Running setup.py bdist_wheel for et-xmlfile: started\n",
      "  Running setup.py bdist_wheel for et-xmlfile: finished with status 'done'\n",
      "  Stored in directory: C:\\Users\\Administrator.DESKTOP-8UOSO1O\\AppData\\Local\\pip\\Cache\\wheels\\99\\f6\\53\\5e18f3ff4ce36c990fa90ebdf2b80cd9b44dc461f750a1a77c\n",
      "Successfully built openpyxl jdcal et-xmlfile\n",
      "Installing collected packages: jdcal, et-xmlfile, openpyxl\n",
      "Successfully installed et-xmlfile-1.0.1 jdcal-1.3 openpyxl-2.5.2\n"
     ]
    },
    {
     "name": "stderr",
     "output_type": "stream",
     "text": [
      "You are using pip version 9.0.1, however version 9.0.3 is available.\n",
      "You should consider upgrading via the 'python -m pip install --upgrade pip' command.\n"
     ]
    }
   ],
   "source": [
    "# 需要安装 openpyxl\n",
    "!pip install openpyxl"
   ]
  },
  {
   "cell_type": "markdown",
   "metadata": {
    "ExecuteTime": {
     "end_time": "2018-04-07T02:08:14.345212Z",
     "start_time": "2018-04-07T02:08:14.341266Z"
    }
   },
   "source": [
    "####  4.读取多个文件"
   ]
  },
  {
   "cell_type": "code",
   "execution_count": 65,
   "metadata": {
    "ExecuteTime": {
     "end_time": "2018-04-07T02:07:51.548176Z",
     "start_time": "2018-04-07T02:07:51.536370Z"
    }
   },
   "outputs": [
    {
     "name": "stdout",
     "output_type": "stream",
     "text": [
      "Max temp\tMin temp\tYear\n",
      "25.3\t-1.5\t1990\n",
      "21.2\t-3.2\t1991\n",
      "\n"
     ]
    }
   ],
   "source": [
    "d ='D:\\\\Python'\n",
    "text = open(os.path.join(d, 'data1.txt')).read()\n",
    "print(text)"
   ]
  },
  {
   "cell_type": "code",
   "execution_count": 70,
   "metadata": {
    "ExecuteTime": {
     "end_time": "2018-04-07T02:10:40.737330Z",
     "start_time": "2018-04-07T02:10:40.728465Z"
    }
   },
   "outputs": [
    {
     "name": "stdout",
     "output_type": "stream",
     "text": [
      "sales.png\n",
      "sas_test.txt\n",
      "sleep.csv\n",
      "spider.py\n"
     ]
    }
   ],
   "source": [
    "for file in os.listdir('D:\\python'):\n",
    "    if file.endswith('csv'):\n",
    "    # if file.startswith('s'):\n",
    "        print(file)    "
   ]
  },
  {
   "cell_type": "markdown",
   "metadata": {},
   "source": [
    "#### 备份数据"
   ]
  },
  {
   "cell_type": "code",
   "execution_count": null,
   "metadata": {
    "ExecuteTime": {
     "end_time": "2018-03-17T08:12:09.694474Z",
     "start_time": "2018-03-17T08:12:09.690465Z"
    },
    "collapsed": true
   },
   "outputs": [],
   "source": [
    "data = data_train.copy()"
   ]
  },
  {
   "cell_type": "markdown",
   "metadata": {},
   "source": [
    "## 二、数据观察"
   ]
  },
  {
   "cell_type": "code",
   "execution_count": 90,
   "metadata": {
    "ExecuteTime": {
     "end_time": "2018-04-07T02:18:47.107249Z",
     "start_time": "2018-04-07T02:18:47.074566Z"
    },
    "collapsed": true
   },
   "outputs": [
    {
     "data": {
      "text/html": [
       "<div>\n",
       "<style scoped>\n",
       "    .dataframe tbody tr th:only-of-type {\n",
       "        vertical-align: middle;\n",
       "    }\n",
       "\n",
       "    .dataframe tbody tr th {\n",
       "        vertical-align: top;\n",
       "    }\n",
       "\n",
       "    .dataframe thead th {\n",
       "        text-align: right;\n",
       "    }\n",
       "</style>\n",
       "<table border=\"1\" class=\"dataframe\">\n",
       "  <thead>\n",
       "    <tr style=\"text-align: right;\">\n",
       "      <th></th>\n",
       "      <th>id</th>\n",
       "      <th>Age</th>\n",
       "      <th>Cabin</th>\n",
       "      <th>Embarked</th>\n",
       "      <th>Fare</th>\n",
       "      <th>Name</th>\n",
       "      <th>Parch</th>\n",
       "      <th>PassengerId</th>\n",
       "      <th>Pclass</th>\n",
       "      <th>Sex</th>\n",
       "      <th>SibSp</th>\n",
       "      <th>Survived</th>\n",
       "      <th>Ticket</th>\n",
       "      <th>timestamp</th>\n",
       "      <th>title</th>\n",
       "      <th>genres</th>\n",
       "      <th>rating</th>\n",
       "      <th>timestamp_1</th>\n",
       "    </tr>\n",
       "  </thead>\n",
       "  <tbody>\n",
       "    <tr>\n",
       "      <th>0</th>\n",
       "      <td>0</td>\n",
       "      <td>22.0</td>\n",
       "      <td>NaN</td>\n",
       "      <td>S</td>\n",
       "      <td>7.2500</td>\n",
       "      <td>Braund, Mr. Owen Harris</td>\n",
       "      <td>0</td>\n",
       "      <td>1</td>\n",
       "      <td>3</td>\n",
       "      <td>male</td>\n",
       "      <td>1</td>\n",
       "      <td>0.0</td>\n",
       "      <td>A/5 21171</td>\n",
       "      <td>03/23/2009 08:30:00</td>\n",
       "      <td>Toy Story (1995)</td>\n",
       "      <td>Animation|Children's|Comedy</td>\n",
       "      <td>5</td>\n",
       "      <td>978300760</td>\n",
       "    </tr>\n",
       "    <tr>\n",
       "      <th>1</th>\n",
       "      <td>1</td>\n",
       "      <td>38.0</td>\n",
       "      <td>C85</td>\n",
       "      <td>C</td>\n",
       "      <td>71.2833</td>\n",
       "      <td>Cumings, Mrs. John Bradley (Florence Briggs Th...</td>\n",
       "      <td>0</td>\n",
       "      <td>2</td>\n",
       "      <td>1</td>\n",
       "      <td>female</td>\n",
       "      <td>1</td>\n",
       "      <td>1.0</td>\n",
       "      <td>PC 17599</td>\n",
       "      <td>03/26/2015 19:10:00</td>\n",
       "      <td>Jumanji (1995)</td>\n",
       "      <td>Adventure|Children's|Fantasy</td>\n",
       "      <td>3</td>\n",
       "      <td>978302109</td>\n",
       "    </tr>\n",
       "    <tr>\n",
       "      <th>2</th>\n",
       "      <td>2</td>\n",
       "      <td>26.0</td>\n",
       "      <td>NaN</td>\n",
       "      <td>S</td>\n",
       "      <td>7.9250</td>\n",
       "      <td>Heikkinen, Miss. Laina</td>\n",
       "      <td>0</td>\n",
       "      <td>3</td>\n",
       "      <td>3</td>\n",
       "      <td>female</td>\n",
       "      <td>0</td>\n",
       "      <td>1.0</td>\n",
       "      <td>STON/O2. 3101282</td>\n",
       "      <td>01/07/2007 07:45:00</td>\n",
       "      <td>Grumpier Old Men (1995)</td>\n",
       "      <td>Comedy|Romance</td>\n",
       "      <td>3</td>\n",
       "      <td>978301968</td>\n",
       "    </tr>\n",
       "    <tr>\n",
       "      <th>3</th>\n",
       "      <td>3</td>\n",
       "      <td>35.0</td>\n",
       "      <td>C123</td>\n",
       "      <td>S</td>\n",
       "      <td>53.1000</td>\n",
       "      <td>Futrelle, Mrs. Jacques Heath (Lily May Peel)</td>\n",
       "      <td>0</td>\n",
       "      <td>4</td>\n",
       "      <td>1</td>\n",
       "      <td>female</td>\n",
       "      <td>1</td>\n",
       "      <td>1.0</td>\n",
       "      <td>113803</td>\n",
       "      <td>04/18/2005 00:10:00</td>\n",
       "      <td>Waiting to Exhale (1995)</td>\n",
       "      <td>Comedy|Drama</td>\n",
       "      <td>4</td>\n",
       "      <td>978300275</td>\n",
       "    </tr>\n",
       "    <tr>\n",
       "      <th>4</th>\n",
       "      <td>4</td>\n",
       "      <td>35.0</td>\n",
       "      <td>NaN</td>\n",
       "      <td>S</td>\n",
       "      <td>8.0500</td>\n",
       "      <td>Allen, Mr. William Henry</td>\n",
       "      <td>0</td>\n",
       "      <td>5</td>\n",
       "      <td>3</td>\n",
       "      <td>male</td>\n",
       "      <td>0</td>\n",
       "      <td>0.0</td>\n",
       "      <td>373450</td>\n",
       "      <td>02/25/2009 09:40:00</td>\n",
       "      <td>Father of the Bride Part II (1995)</td>\n",
       "      <td>Comedy</td>\n",
       "      <td>5</td>\n",
       "      <td>978824291</td>\n",
       "    </tr>\n",
       "  </tbody>\n",
       "</table>\n",
       "</div>"
      ],
      "text/plain": [
       "   id   Age Cabin Embarked     Fare  \\\n",
       "0   0  22.0   NaN        S   7.2500   \n",
       "1   1  38.0   C85        C  71.2833   \n",
       "2   2  26.0   NaN        S   7.9250   \n",
       "3   3  35.0  C123        S  53.1000   \n",
       "4   4  35.0   NaN        S   8.0500   \n",
       "\n",
       "                                                Name  Parch  PassengerId  \\\n",
       "0                            Braund, Mr. Owen Harris      0            1   \n",
       "1  Cumings, Mrs. John Bradley (Florence Briggs Th...      0            2   \n",
       "2                             Heikkinen, Miss. Laina      0            3   \n",
       "3       Futrelle, Mrs. Jacques Heath (Lily May Peel)      0            4   \n",
       "4                           Allen, Mr. William Henry      0            5   \n",
       "\n",
       "   Pclass     Sex  SibSp  Survived            Ticket            timestamp  \\\n",
       "0       3    male      1       0.0         A/5 21171  03/23/2009 08:30:00   \n",
       "1       1  female      1       1.0          PC 17599  03/26/2015 19:10:00   \n",
       "2       3  female      0       1.0  STON/O2. 3101282  01/07/2007 07:45:00   \n",
       "3       1  female      1       1.0            113803  04/18/2005 00:10:00   \n",
       "4       3    male      0       0.0            373450  02/25/2009 09:40:00   \n",
       "\n",
       "                                title                        genres  rating  \\\n",
       "0                    Toy Story (1995)   Animation|Children's|Comedy       5   \n",
       "1                      Jumanji (1995)  Adventure|Children's|Fantasy       3   \n",
       "2             Grumpier Old Men (1995)                Comedy|Romance       3   \n",
       "3            Waiting to Exhale (1995)                  Comedy|Drama       4   \n",
       "4  Father of the Bride Part II (1995)                        Comedy       5   \n",
       "\n",
       "   timestamp_1  \n",
       "0    978300760  \n",
       "1    978302109  \n",
       "2    978301968  \n",
       "3    978300275  \n",
       "4    978824291  "
      ]
     },
     "execution_count": 90,
     "metadata": {},
     "output_type": "execute_result"
    }
   ],
   "source": [
    "data_train.head()  #查看前5行\n",
    "# data_train.tail()"
   ]
  },
  {
   "cell_type": "code",
   "execution_count": null,
   "metadata": {
    "ExecuteTime": {
     "end_time": "2018-01-17T13:02:47.097272Z",
     "start_time": "2018-01-17T13:02:47.091257Z"
    },
    "collapsed": true
   },
   "outputs": [],
   "source": [
    "data_train.shape"
   ]
  },
  {
   "cell_type": "code",
   "execution_count": null,
   "metadata": {
    "ExecuteTime": {
     "end_time": "2018-01-17T10:28:11.067555Z",
     "start_time": "2018-01-17T10:28:11.061540Z"
    },
    "collapsed": true
   },
   "outputs": [],
   "source": [
    "data_train.index"
   ]
  },
  {
   "cell_type": "code",
   "execution_count": null,
   "metadata": {
    "ExecuteTime": {
     "end_time": "2018-01-30T00:32:17.118930Z",
     "start_time": "2018-01-30T00:32:17.103852Z"
    },
    "collapsed": true
   },
   "outputs": [],
   "source": [
    "data_train.columns"
   ]
  },
  {
   "cell_type": "code",
   "execution_count": null,
   "metadata": {
    "ExecuteTime": {
     "end_time": "2018-01-17T10:28:33.318539Z",
     "start_time": "2018-01-17T10:28:33.311520Z"
    },
    "collapsed": true
   },
   "outputs": [],
   "source": [
    "data_train.values"
   ]
  },
  {
   "cell_type": "code",
   "execution_count": 145,
   "metadata": {
    "ExecuteTime": {
     "end_time": "2018-04-07T05:04:16.375156Z",
     "start_time": "2018-04-07T05:04:16.360827Z"
    },
    "collapsed": true
   },
   "outputs": [
    {
     "name": "stdout",
     "output_type": "stream",
     "text": [
      "<class 'pandas.core.frame.DataFrame'>\n",
      "Int64Index: 1309 entries, 0 to 1308\n",
      "Data columns (total 18 columns):\n",
      "id             1309 non-null int64\n",
      "Age            1046 non-null float64\n",
      "Cabin          295 non-null object\n",
      "Embarked       1307 non-null object\n",
      "Fare           1308 non-null float64\n",
      "Name           1309 non-null object\n",
      "Parch          1309 non-null int64\n",
      "PassengerId    1309 non-null int64\n",
      "Pclass         1309 non-null int64\n",
      "Sex            1309 non-null object\n",
      "SibSp          1309 non-null int64\n",
      "Survived       891 non-null float64\n",
      "Ticket         1309 non-null object\n",
      "timestamp      1309 non-null object\n",
      "title          1309 non-null object\n",
      "genres         1309 non-null object\n",
      "rating         1309 non-null int64\n",
      "timestamp_1    1309 non-null int64\n",
      "dtypes: float64(3), int64(7), object(8)\n",
      "memory usage: 837.7 KB\n"
     ]
    }
   ],
   "source": [
    "# data_train.info()  #看到非空元素个数\n",
    "data_train.info(verbose = True, memory_usage = 'deep') # 查看具体内存使用情况\n",
    "# 三种类型  'float','int','object' \n",
    "# object 是指有字符串或包含混合数据类型的情况"
   ]
  },
  {
   "cell_type": "code",
   "execution_count": null,
   "metadata": {
    "collapsed": true
   },
   "outputs": [],
   "source": [
    "data_train.describe() \n",
    "\n",
    "# data_train.columns.tolist()\n",
    "#  dir(df.describe()) #显示所有属性\n",
    "des_data = data_train[['Age','Fare','Pclass']].describe()\n",
    "np.round(des_data.T,2)  #结果保留2位小数\n",
    "\n",
    "# pandas.isnull  alias of isna  #别名"
   ]
  },
  {
   "cell_type": "markdown",
   "metadata": {},
   "source": [
    "** <font color =blue>输出显示不同格式</font>**<br>\n",
    "csv <br> \n",
    "LaTex<br>"
   ]
  },
  {
   "cell_type": "code",
   "execution_count": null,
   "metadata": {
    "ExecuteTime": {
     "end_time": "2018-01-24T18:11:51.643261Z",
     "start_time": "2018-01-24T18:11:51.619196Z"
    },
    "collapsed": true
   },
   "outputs": [],
   "source": [
    "des_data.T.to_latex('summary stats.tex')"
   ]
  },
  {
   "cell_type": "markdown",
   "metadata": {},
   "source": [
    "## 特征工程"
   ]
  },
  {
   "cell_type": "markdown",
   "metadata": {},
   "source": [
    "### 改变变量类型,降低内存占用"
   ]
  },
  {
   "cell_type": "code",
   "execution_count": 147,
   "metadata": {
    "ExecuteTime": {
     "end_time": "2018-04-07T05:55:55.356448Z",
     "start_time": "2018-04-07T05:55:55.347615Z"
    },
    "collapsed": true
   },
   "outputs": [],
   "source": [
    "#选择不同类型的数据  'float', 'int','object'\n",
    "data_obj = data_train.select_dtypes(include = ['object']).copy()"
   ]
  },
  {
   "cell_type": "code",
   "execution_count": 143,
   "metadata": {
    "ExecuteTime": {
     "end_time": "2018-04-07T04:47:16.786721Z",
     "start_time": "2018-04-07T04:47:16.777892Z"
    }
   },
   "outputs": [
    {
     "data": {
      "text/plain": [
       "604487"
      ]
     },
     "execution_count": 143,
     "metadata": {},
     "output_type": "execute_result"
    }
   ],
   "source": [
    "import sys\n",
    "# 两种方式查看数据框内存大小\n",
    "sys.getsizeof(data_obj)  \n",
    "data_obj.memory_usage(deep = True).sum()"
   ]
  },
  {
   "cell_type": "code",
   "execution_count": 141,
   "metadata": {
    "ExecuteTime": {
     "end_time": "2018-04-07T04:46:55.629613Z",
     "start_time": "2018-04-07T04:46:55.604249Z"
    },
    "collapsed": true
   },
   "outputs": [],
   "source": [
    "for col in data_obj.columns:\n",
    "    data_obj[col] = data_obj[col].astype('category') # 转变成因子变量 ,减小内存\n",
    "data_obj.info()"
   ]
  },
  {
   "cell_type": "code",
   "execution_count": 149,
   "metadata": {
    "ExecuteTime": {
     "end_time": "2018-04-07T05:56:42.933778Z",
     "start_time": "2018-04-07T05:56:42.926910Z"
    },
    "collapsed": true
   },
   "outputs": [],
   "source": [
    "data_train['PassengerId'] = data_train['PassengerId'].astype('int16')   #整形有int16 int32(int) int64\n",
    "# data_train['PassengerId'].astype(np.int64)  \n",
    "# data_train['PassengerId'].astype('int16',copy =False)   "
   ]
  },
  {
   "cell_type": "markdown",
   "metadata": {},
   "source": [
    "### 因子变量统计"
   ]
  },
  {
   "cell_type": "markdown",
   "metadata": {},
   "source": [
    "#### 查看字段取值次数 与 不同值"
   ]
  },
  {
   "cell_type": "code",
   "execution_count": null,
   "metadata": {
    "ExecuteTime": {
     "end_time": "2018-01-30T00:32:39.370150Z",
     "start_time": "2018-01-30T00:32:39.355107Z"
    },
    "collapsed": true
   },
   "outputs": [],
   "source": [
    "data_train['Embarked'].value_counts(dropna =False) # 不忽略缺失值"
   ]
  },
  {
   "cell_type": "code",
   "execution_count": null,
   "metadata": {
    "ExecuteTime": {
     "end_time": "2018-01-27T07:21:13.568292Z",
     "start_time": "2018-01-27T07:21:13.554252Z"
    },
    "collapsed": true
   },
   "outputs": [],
   "source": [
    "data_train['Embarked'].unique()"
   ]
  },
  {
   "cell_type": "markdown",
   "metadata": {},
   "source": [
    "### 缺失值\n",
    "* 查看缺失值： 统计缺失值数，分布\n",
    "* 缺失值处理：\n",
    "    + 缺失值删除（按行，按列[某几列]）\n",
    "    + 缺失值填充 \n",
    "        - 基于统计方法：众数、中位数、均值\n",
    "        - 基于模型方法：随机森林"
   ]
  },
  {
   "cell_type": "markdown",
   "metadata": {},
   "source": [
    "#### 缺失值查看\n"
   ]
  },
  {
   "cell_type": "code",
   "execution_count": null,
   "metadata": {
    "ExecuteTime": {
     "end_time": "2018-01-30T00:32:47.081394Z",
     "start_time": "2018-01-30T00:32:47.065381Z"
    },
    "collapsed": true
   },
   "outputs": [],
   "source": [
    "#查看缺失值数量\n",
    "data_train.isnull().sum()\n",
    "# data_train.notnull().sum()"
   ]
  },
  {
   "cell_type": "code",
   "execution_count": null,
   "metadata": {
    "ExecuteTime": {
     "end_time": "2018-01-25T12:30:06.216346Z",
     "start_time": "2018-01-25T12:30:06.205317Z"
    },
    "collapsed": true
   },
   "outputs": [],
   "source": [
    "data_train.notnull().sum()"
   ]
  },
  {
   "cell_type": "markdown",
   "metadata": {},
   "source": [
    "#### 缺失值删除\n"
   ]
  },
  {
   "cell_type": "code",
   "execution_count": null,
   "metadata": {
    "ExecuteTime": {
     "end_time": "2018-03-17T08:13:15.011217Z",
     "start_time": "2018-03-17T08:13:14.995144Z"
    },
    "collapsed": true
   },
   "outputs": [],
   "source": [
    "# 删除列\n",
    "# 对列删除缺失值  每行都是一样的\n",
    "data_train.dropna(axis = 1, how= 'all') \n",
    "data_train.shape"
   ]
  },
  {
   "cell_type": "code",
   "execution_count": null,
   "metadata": {
    "ExecuteTime": {
     "end_time": "2018-03-17T08:13:15.290914Z",
     "start_time": "2018-03-17T08:13:15.281890Z"
    },
    "collapsed": true
   },
   "outputs": [],
   "source": [
    "#删除行\n",
    "data_train.dropna(axis = 0, how= 'any',subset=['Age','Embarked'],inplace =True) \n",
    "#超过三个缺失的被删除\n",
    "# data_train.dropna(axis = 0, how= 'any',subset=['Cabin','Age','Embarked'],inplace =True,thresh = 2)  "
   ]
  },
  {
   "cell_type": "code",
   "execution_count": null,
   "metadata": {
    "ExecuteTime": {
     "end_time": "2018-03-17T08:13:15.583615Z",
     "start_time": "2018-03-17T08:13:15.562560Z"
    },
    "collapsed": true
   },
   "outputs": [],
   "source": [
    "d1.count() #非空元素计算\n",
    "d1.min() #最小值\n",
    "d1.max() #最大值\n",
    "d1.idxmin() #最小值的位置，类似于R中的which.min函数\n",
    "d1.idxmax() #最大值的位置，类似于R中的which.max函数\n",
    "d1.quantile(0.1) #10%分位数\n",
    "d1.sum() #求和\n",
    "d1.mean() #均值\n",
    "d1.median() #中位数\n",
    "d1.mode() #众数\n",
    "d1.var() #方差\n",
    "d1.std() #标准差\n",
    "d1.mad() #平均绝对偏差\n",
    "d1.skew() #偏度\n",
    "d1.kurt() #峰度\n",
    "d1.describe() #一次性输出多个描述性统计指标"
   ]
  },
  {
   "cell_type": "markdown",
   "metadata": {},
   "source": [
    "**<font color=blue>缺失值替换  fillna</font>**<br>\n",
    "\n",
    "* [Pandas参考文档](http://pandas.pydata.org/pandas-docs/stable/generated/pandas.DataFrame.fillna.html?highlight=fillna#pandas.DataFrame.fillna)"
   ]
  },
  {
   "cell_type": "code",
   "execution_count": null,
   "metadata": {
    "ExecuteTime": {
     "end_time": "2018-03-17T08:13:25.084971Z",
     "start_time": "2018-03-17T08:13:25.079955Z"
    },
    "collapsed": true
   },
   "outputs": [],
   "source": [
    "data_train['Fare'].fillna(data_train.Fare.mean(),inplace =True)"
   ]
  },
  {
   "cell_type": "code",
   "execution_count": null,
   "metadata": {
    "ExecuteTime": {
     "end_time": "2018-03-17T08:13:25.902832Z",
     "start_time": "2018-03-17T08:13:25.895813Z"
    },
    "collapsed": true
   },
   "outputs": [],
   "source": [
    "_= data_train.fillna(0, inplace=True)  # 用特定值替换\n",
    "# data_train.fillna(method='ffill', limit=2) #用前一个值替换\n",
    "# data_train.fillna(data.mean())  #  用平均数填充"
   ]
  },
  {
   "cell_type": "code",
   "execution_count": null,
   "metadata": {
    "ExecuteTime": {
     "end_time": "2018-03-17T08:13:26.537856Z",
     "start_time": "2018-03-17T08:13:26.527829Z"
    },
    "collapsed": true
   },
   "outputs": [],
   "source": [
    "# 用replace() 函数替换缺失值\n",
    "data_train['Age'].replace(np.nan,-1)  "
   ]
  },
  {
   "cell_type": "code",
   "execution_count": null,
   "metadata": {
    "ExecuteTime": {
     "end_time": "2018-03-17T08:13:33.970102Z",
     "start_time": "2018-03-17T08:13:33.966117Z"
    },
    "collapsed": true
   },
   "outputs": [],
   "source": [
    "# data_train['Age'].replace({0.42: 0, -1000: np.nan})   # 基于字典\n",
    "# data_train['Age'].replace([0.42,-1000], [0,np.nan])   # 基于列表"
   ]
  },
  {
   "cell_type": "markdown",
   "metadata": {},
   "source": [
    "#### Age"
   ]
  },
  {
   "cell_type": "code",
   "execution_count": null,
   "metadata": {
    "ExecuteTime": {
     "end_time": "2018-03-17T08:13:35.747325Z",
     "start_time": "2018-03-17T08:13:35.631019Z"
    },
    "collapsed": true
   },
   "outputs": [],
   "source": [
    "# 用模型预测填充\n",
    "### 使用 RandomForestClassifier 填补缺失的年龄属性 \n",
    "# 随机森林不要钱变量 转为数值型\n",
    "from sklearn.ensemble import RandomForestRegressor\n",
    "def set_missing_ages(df):\n",
    "    \n",
    "    # 把已有的数值型特征取出来丢进Random Forest Regressor中\n",
    "    age_df = df[['Age','Fare', 'Parch', 'SibSp']]\n",
    "\n",
    "    # 乘客分成已知年龄和未知年龄两部分\n",
    "    known_age = age_df[age_df.Age.notnull()].as_matrix()\n",
    "    unknown_age = age_df[age_df.Age.isnull()].as_matrix()\n",
    "\n",
    "    # y即目标年龄\n",
    "    y = known_age[:, 0]\n",
    "\n",
    "    # X即特征属性值\n",
    "    X = known_age[:, 1:]\n",
    "\n",
    "    # fit到RandomForestRegressor之中\n",
    "    rfr = RandomForestRegressor(random_state=0, n_estimators=2000, n_jobs=-1)\n",
    "    rfr.fit(X, y)\n",
    "    \n",
    "    # 用得到的模型进行未知年龄结果预测\n",
    "    predictedAges = rfr.predict(unknown_age[:, 1::])\n",
    "    \n",
    "    # 用得到的预测结果填补原缺失数据\n",
    "    df['Age_prd'] =df['Age']\n",
    "    df.loc[ (df.Age.isnull()), 'Age_prd' ] = predictedAges \n",
    "    \n",
    "    return df, rfr\n"
   ]
  },
  {
   "cell_type": "code",
   "execution_count": null,
   "metadata": {
    "ExecuteTime": {
     "end_time": "2018-03-17T08:13:38.913544Z",
     "start_time": "2018-03-17T08:13:36.273515Z"
    },
    "collapsed": true
   },
   "outputs": [],
   "source": [
    "# 拟合数据\n",
    "data_train, rfr = set_missing_ages(data_train)"
   ]
  },
  {
   "cell_type": "code",
   "execution_count": null,
   "metadata": {
    "ExecuteTime": {
     "end_time": "2018-03-17T08:13:38.914548Z",
     "start_time": "2018-03-17T08:13:36.726Z"
    },
    "collapsed": true
   },
   "outputs": [],
   "source": [
    "# data.Age_prd.astype('int').value_counts(dropna=False).plot(kind ='bar',figsize=(18,6))\n",
    "# temp = data.Age_prd.astype('int').value_counts(dropna=False).to_frame(name ='age_count').reset_index()\n",
    "# temp.columns =['Age','nums']\n",
    "# temp.sort_values('Age').plot(kind ='bar',x ='Age', y ='nums',figsize = (18,6))\n",
    "# data.head()\n",
    "# data.columns"
   ]
  },
  {
   "cell_type": "code",
   "execution_count": null,
   "metadata": {
    "ExecuteTime": {
     "end_time": "2018-03-17T08:14:13.988289Z",
     "start_time": "2018-03-17T08:14:13.980267Z"
    },
    "collapsed": true
   },
   "outputs": [],
   "source": [
    "# 基于连续变量的分布填充  随机random.ramdint() 抽取 \n",
    "age_avg = data_train['Age'].mean()\n",
    "age_std = data_train['Age'].std()\n",
    "age_null_count = data_train['Age'].isnull().sum()\n",
    "age_null_random_list = np.random.randint(age_avg - age_std, age_avg + age_std, size=age_null_count)  \n",
    "#在正负标准差之间选取"
   ]
  },
  {
   "cell_type": "code",
   "execution_count": null,
   "metadata": {
    "ExecuteTime": {
     "end_time": "2018-03-17T08:14:14.528624Z",
     "start_time": "2018-03-17T08:14:14.461448Z"
    },
    "collapsed": true
   },
   "outputs": [],
   "source": [
    "# isnan 是numpy 中的方法\n",
    "data_train['AgeFill']=data_train['Age']\n",
    "data_train['AgeFill'][data_train.Age.isnull()] = age_null_random_list\n",
    "# data['Age'][np.isnan(data['Age'])] = age_null_random_list   # 效果同样\n",
    "# data['Age'][data['Age'].isnull()]  = age_null_random_list   # 效果同样\n",
    "data_train['AgeFill'] = data_train['AgeFill'].astype(int)"
   ]
  },
  {
   "cell_type": "code",
   "execution_count": null,
   "metadata": {
    "ExecuteTime": {
     "end_time": "2018-03-17T08:14:15.050504Z",
     "start_time": "2018-03-17T08:14:15.036470Z"
    },
    "collapsed": true
   },
   "outputs": [],
   "source": [
    "# 画图前后对比\n",
    "data_train['Age'].dropna().astype(int).hist(bins=70, ax=axis1)\n",
    "titanic_df['AgeFill'].hist(bins=70, ax=axis2)"
   ]
  },
  {
   "cell_type": "code",
   "execution_count": null,
   "metadata": {
    "ExecuteTime": {
     "end_time": "2018-03-17T08:14:15.953748Z",
     "start_time": "2018-03-17T08:14:15.934695Z"
    },
    "collapsed": true
   },
   "outputs": [],
   "source": [
    "# data_train['Age'] = data_train['Age_prd'] \n",
    "data_train['Age'].value_counts(dropna =False)"
   ]
  },
  {
   "cell_type": "code",
   "execution_count": null,
   "metadata": {
    "ExecuteTime": {
     "end_time": "2018-03-06T11:57:39.599763Z",
     "start_time": "2018-03-06T11:57:39.441342Z"
    },
    "collapsed": true
   },
   "outputs": [],
   "source": [
    "data_train['Age'] = data_train['Age_prd']\n",
    "data_train['Age'].isnull().sum()"
   ]
  },
  {
   "cell_type": "code",
   "execution_count": null,
   "metadata": {
    "ExecuteTime": {
     "end_time": "2018-03-17T08:13:58.865700Z",
     "start_time": "2018-03-17T08:13:58.818577Z"
    },
    "collapsed": true
   },
   "outputs": [],
   "source": [
    "#基于条件填充（粗略）\n",
    "## Assigning the NaN Values with the Ceil values of the mean ages\n",
    "data.loc[(data.Age.isnull())&(data.Initial=='Mr'),'Age']=33\n",
    "data.loc[(data.Age.isnull())&(data.Initial=='Mrs'),'Age']=36\n",
    "data.loc[(data.Age.isnull())&(data.Initial=='Master'),'Age']=5\n",
    "data.loc[(data.Age.isnull())&(data.Initial=='Miss'),'Age']=22\n",
    "data.loc[(data.Age.isnull())&(data.Initial=='Other'),'Age']=46\n",
    "data.Age.isnull().any() #So no null values left finally   检查是否还有空值"
   ]
  },
  {
   "cell_type": "code",
   "execution_count": null,
   "metadata": {
    "ExecuteTime": {
     "end_time": "2018-01-27T07:31:58.967488Z",
     "start_time": "2018-01-27T07:31:58.892713Z"
    },
    "collapsed": true
   },
   "outputs": [],
   "source": [
    "data_train.loc[data_train[\"Title2\"]==1,'Age'].mean()"
   ]
  },
  {
   "cell_type": "code",
   "execution_count": null,
   "metadata": {
    "ExecuteTime": {
     "end_time": "2018-01-28T08:03:31.173992Z",
     "start_time": "2018-01-28T08:03:31.168979Z"
    },
    "collapsed": true
   },
   "outputs": [],
   "source": []
  },
  {
   "cell_type": "markdown",
   "metadata": {},
   "source": [
    "#### Embarked"
   ]
  },
  {
   "cell_type": "code",
   "execution_count": null,
   "metadata": {
    "ExecuteTime": {
     "end_time": "2018-01-30T00:39:22.295879Z",
     "start_time": "2018-01-30T00:39:22.287885Z"
    },
    "collapsed": true
   },
   "outputs": [],
   "source": [
    "# 用众数填充  mode()   中位数median()  -->数值型\n",
    "data_train['Embarked'].value_counts(dropna = False)"
   ]
  },
  {
   "cell_type": "code",
   "execution_count": null,
   "metadata": {
    "ExecuteTime": {
     "end_time": "2018-01-28T08:04:03.448531Z",
     "start_time": "2018-01-28T08:04:03.440511Z"
    },
    "collapsed": true
   },
   "outputs": [],
   "source": [
    "data['Embarked'].mode()"
   ]
  },
  {
   "cell_type": "code",
   "execution_count": null,
   "metadata": {
    "ExecuteTime": {
     "end_time": "2018-01-28T08:04:03.951148Z",
     "start_time": "2018-01-28T08:04:03.947138Z"
    },
    "collapsed": true
   },
   "outputs": [],
   "source": [
    "data_train['Embarked'].fillna('S',inplace =True)\n",
    "# data_train['Embarked'].replace({0: np.nan},inplace =True)"
   ]
  },
  {
   "cell_type": "markdown",
   "metadata": {},
   "source": [
    "\n",
    "## 衍生变量\n",
    "### 单变量\n",
    "#### 离散型——字符变量\n",
    "* 字符串处理：大小写\n",
    "* 字符串截取、分割\n",
    "    + 按位置\n",
    "    + 正则表达式\n",
    "* 字符串变换：合并、归类、LabelEncoder、One-Hot\n",
    "#### 连续型\n",
    "* 归一化、正交化\n",
    "* 离散化：分箱"
   ]
  },
  {
   "cell_type": "markdown",
   "metadata": {},
   "source": [
    "### 数据字符串变量\n",
    "* 字符串处理：大小写\n",
    "* 字符串截取、分割\n",
    "    + 按位置\n",
    "    + 正则表达式\n",
    "* 字符串变换：合并、归类、LabelEncoder、One-Hot"
   ]
  },
  {
   "cell_type": "markdown",
   "metadata": {},
   "source": [
    "#### 字符串截取  （正则表达式）\n"
   ]
  },
  {
   "cell_type": "code",
   "execution_count": null,
   "metadata": {
    "ExecuteTime": {
     "end_time": "2018-03-17T08:15:40.221867Z",
     "start_time": "2018-03-17T08:15:40.179755Z"
    },
    "collapsed": true
   },
   "outputs": [],
   "source": [
    "data_train['Initial'] = 0 \n",
    "for i in data_train:\n",
    "    data_train['Initial'] = data_train.Name.str.extract('([A-Za-z]+)\\.')"
   ]
  },
  {
   "cell_type": "code",
   "execution_count": null,
   "metadata": {
    "ExecuteTime": {
     "end_time": "2018-03-17T08:15:40.808103Z",
     "start_time": "2018-03-17T08:15:40.800087Z"
    },
    "collapsed": true
   },
   "outputs": [],
   "source": [
    "#调用 apply函数 \n",
    "# findall()[0] 返回列表\n",
    "import re\n",
    "data_train['Initial']=data_train['Name'].apply(lambda x: re.findall(\"([A-Za-z]+)\\.\",x)[0]) #lets extract the Salutations"
   ]
  },
  {
   "cell_type": "code",
   "execution_count": null,
   "metadata": {
    "ExecuteTime": {
     "end_time": "2018-03-17T08:15:41.319881Z",
     "start_time": "2018-03-17T08:15:41.313895Z"
    },
    "collapsed": true
   },
   "outputs": [],
   "source": [
    "# 调用map函数  用字符串分割方法\n",
    "data_train[ 'Initial' ] = data_train[ 'Name' ].map( lambda name: name.split( ',' )[1].split( '.' )[0].strip() )"
   ]
  },
  {
   "cell_type": "code",
   "execution_count": null,
   "metadata": {
    "ExecuteTime": {
     "end_time": "2018-03-17T08:15:41.805239Z",
     "start_time": "2018-03-17T08:15:41.790199Z"
    },
    "collapsed": true
   },
   "outputs": [],
   "source": [
    "data_train['Initial'].value_counts(dropna =False)"
   ]
  },
  {
   "cell_type": "code",
   "execution_count": null,
   "metadata": {
    "ExecuteTime": {
     "end_time": "2018-03-17T08:15:42.653932Z",
     "start_time": "2018-03-17T08:15:42.640893Z"
    },
    "collapsed": true
   },
   "outputs": [],
   "source": [
    "da = data_train['Initial'].value_counts()\n",
    "temp =da.to_frame().reset_index()\n",
    "temp.to_pickle(\"title_counts.pkl\")"
   ]
  },
  {
   "cell_type": "code",
   "execution_count": null,
   "metadata": {
    "ExecuteTime": {
     "end_time": "2018-03-17T08:15:43.611512Z",
     "start_time": "2018-03-17T08:15:43.436045Z"
    },
    "collapsed": true
   },
   "outputs": [],
   "source": [
    "dat = pd.read_pickle(\"title_counts.pkl\")\n",
    "!pwd"
   ]
  },
  {
   "cell_type": "markdown",
   "metadata": {},
   "source": [
    "### 衍生变量"
   ]
  },
  {
   "cell_type": "markdown",
   "metadata": {},
   "source": [
    "####  Name"
   ]
  },
  {
   "cell_type": "code",
   "execution_count": null,
   "metadata": {
    "ExecuteTime": {
     "end_time": "2018-03-17T08:15:44.909549Z",
     "start_time": "2018-03-17T08:15:44.881475Z"
    },
    "collapsed": true
   },
   "outputs": [],
   "source": [
    "data_train[data_train['Name'].str.contains(\"Major\")]  #contains查看数据"
   ]
  },
  {
   "cell_type": "code",
   "execution_count": null,
   "metadata": {
    "ExecuteTime": {
     "end_time": "2018-03-17T08:15:45.184373Z",
     "start_time": "2018-03-17T08:15:45.180362Z"
    },
    "collapsed": true
   },
   "outputs": [],
   "source": [
    "# 计算字符串长度\n",
    "data_train['Name_length'] =data_train['Name'].apply(len)"
   ]
  },
  {
   "cell_type": "code",
   "execution_count": null,
   "metadata": {
    "ExecuteTime": {
     "end_time": "2018-03-17T08:15:45.473442Z",
     "start_time": "2018-03-17T08:15:45.467456Z"
    },
    "collapsed": true
   },
   "outputs": [],
   "source": [
    "# 归一化\n",
    "from sklearn.preprocessing import StandardScaler\n",
    "data_train['Name_scaled'] = StandardScaler().fit_transform(data_train['Name_length'].reshape(-1,1))"
   ]
  },
  {
   "cell_type": "code",
   "execution_count": null,
   "metadata": {
    "ExecuteTime": {
     "end_time": "2018-03-17T08:15:46.223067Z",
     "start_time": "2018-03-17T08:15:46.208026Z"
    },
    "collapsed": true
   },
   "outputs": [],
   "source": [
    "# 因子型分箱\n",
    "#map 替换有多个类型 情况\n",
    "title_dict = {\n",
    "        \"Capt\":       \"Officer\",\n",
    "        \"Col\":        \"Officer\",\n",
    "        \"Major\":      \"Officer\",\n",
    "        \"Jonkheer\":   \"Royalty\",\n",
    "        \"Don\":        \"Royalty\",\n",
    "        \"Sir\" :       \"Royalty\",\n",
    "        \"Dr\":         \"Officer\",\n",
    "        \"Rev\":        \"Officer\",\n",
    "        \"the Countess\":\"Royalty\",\n",
    "        \"Dona\":       \"Royalty\",\n",
    "        \"Mme\":        \"Mrs\",\n",
    "        \"Mlle\":       \"Miss\",\n",
    "        \"Ms\":         \"Mrs\",\n",
    "        \"Mr\" :        \"Mr\",\n",
    "        \"Mrs\" :       \"Mrs\",\n",
    "        \"Miss\" :      \"Miss\",\n",
    "        \"Master\" :    \"Master\",\n",
    "        \"Lady\" :      \"Royalty\"\n",
    "}\n",
    "data_train['Title'] = data_train['Initial'].map(title_dict)"
   ]
  },
  {
   "cell_type": "code",
   "execution_count": null,
   "metadata": {
    "ExecuteTime": {
     "end_time": "2018-03-17T08:15:47.260784Z",
     "start_time": "2018-03-17T08:15:47.252762Z"
    },
    "collapsed": true
   },
   "outputs": [],
   "source": [
    "#稀少因子 合并统计\n",
    "#首先替换少数称呼\n",
    "data_train['Initial'] = data_train['Initial'].replace('Mlle','Miss')\n",
    "data_train['Initial'] = data_train['Initial'].replace('Ms','Miss')\n",
    "data_train['Initial'] = data_train['Initial'].replace('Mme','Mrs')"
   ]
  },
  {
   "cell_type": "code",
   "execution_count": null,
   "metadata": {
    "ExecuteTime": {
     "end_time": "2018-03-17T08:15:47.837294Z",
     "start_time": "2018-03-17T08:15:47.827267Z"
    },
    "collapsed": true
   },
   "outputs": [],
   "source": [
    "temp = data_train['Initial'].value_counts(dropna=False)\n",
    "rare_title1 = list(temp[temp<40].index)  # 查看不加index 情况\n",
    "rare_title2= ['Dr', 'Rev', 'Col', 'Major', 'Capt', 'the Countess', 'Jonkheer', 'Sir', 'Lady', 'Don']\n",
    "data_train['Title2'] = data_train['Initial'].replace(rare_title1, 'Rare')"
   ]
  },
  {
   "cell_type": "code",
   "execution_count": null,
   "metadata": {
    "ExecuteTime": {
     "end_time": "2018-03-17T08:15:49.178148Z",
     "start_time": "2018-03-17T08:15:49.170152Z"
    },
    "collapsed": true
   },
   "outputs": [],
   "source": [
    "# data_train['Initial'].value_counts(dropna=False)\n",
    "data_train['Title'].value_counts(dropna =False)"
   ]
  },
  {
   "cell_type": "code",
   "execution_count": null,
   "metadata": {
    "ExecuteTime": {
     "end_time": "2018-03-17T08:15:50.031931Z",
     "start_time": "2018-03-17T08:15:50.024885Z"
    },
    "collapsed": true
   },
   "outputs": [],
   "source": [
    "data_train['Title2'].value_counts(dropna =False)"
   ]
  },
  {
   "cell_type": "code",
   "execution_count": null,
   "metadata": {
    "ExecuteTime": {
     "end_time": "2018-01-30T00:39:52.540704Z",
     "start_time": "2018-01-30T00:39:52.533682Z"
    },
    "collapsed": true
   },
   "outputs": [],
   "source": [
    "title_mapping ={\n",
    "    'Mr':1,\n",
    "    'Miss':2,\n",
    "    'Mrs':3,\n",
    "    'Master':4,\n",
    "    'Rare':5,\n",
    "}\n",
    "data_train['Title_train'] = data_train['Title2'].map(title_mapping)"
   ]
  },
  {
   "cell_type": "code",
   "execution_count": null,
   "metadata": {
    "ExecuteTime": {
     "end_time": "2018-01-30T00:39:53.662050Z",
     "start_time": "2018-01-30T00:39:53.657036Z"
    },
    "collapsed": true
   },
   "outputs": [],
   "source": [
    "#np.where 方法\n",
    "data_train['W_Master'] = np.where(data_train['Title2']=='Master', 0, 1)"
   ]
  },
  {
   "cell_type": "markdown",
   "metadata": {},
   "source": [
    "####  Age"
   ]
  },
  {
   "cell_type": "code",
   "execution_count": null,
   "metadata": {
    "ExecuteTime": {
     "end_time": "2018-01-30T00:39:58.035984Z",
     "start_time": "2018-01-30T00:39:58.027994Z"
    },
    "collapsed": true
   },
   "outputs": [],
   "source": [
    "# 连续型变量分箱\n",
    "cut_points = [0,16,32,48,64,np.inf]\n",
    "labels = [1,2,3,4,5]\n",
    "data_train['Age_cut1']= pd.cut(data_train['Age'],cut_points,labels= labels,right =False) #默认右闭"
   ]
  },
  {
   "cell_type": "code",
   "execution_count": null,
   "metadata": {
    "ExecuteTime": {
     "end_time": "2018-01-30T00:39:58.666232Z",
     "start_time": "2018-01-30T00:39:58.624154Z"
    },
    "collapsed": true
   },
   "outputs": [],
   "source": [
    "# 用条件划分\n",
    "data_train['Age_band']=0\n",
    "data_train.loc[data['Age']<=16,'Age_band']=0\n",
    "data_train.loc[(data['Age']>16)&(data['Age']<=32),'Age_band']=1\n",
    "data_train.loc[(data['Age']>32)&(data['Age']<=48),'Age_band']=2\n",
    "data_train.loc[(data['Age']>48)&(data['Age']<=64),'Age_band']=3\n",
    "data_train.loc[data['Age']>64,'Age_band']=4\n",
    "# data_train.head(2)"
   ]
  },
  {
   "cell_type": "code",
   "execution_count": null,
   "metadata": {
    "ExecuteTime": {
     "end_time": "2018-01-30T00:39:59.632063Z",
     "start_time": "2018-01-30T00:39:59.624012Z"
    },
    "collapsed": true
   },
   "outputs": [],
   "source": [
    "# 均等切分\n",
    "data_train['CategoricalAge'] = pd.cut(data_train['Age'], 5)"
   ]
  },
  {
   "cell_type": "code",
   "execution_count": null,
   "metadata": {
    "ExecuteTime": {
     "end_time": "2018-01-30T00:40:00.392655Z",
     "start_time": "2018-01-30T00:40:00.384127Z"
    },
    "collapsed": true
   },
   "outputs": [],
   "source": [
    "data_train['CategoricalAge'].value_counts(dropna =False)"
   ]
  },
  {
   "cell_type": "code",
   "execution_count": null,
   "metadata": {
    "ExecuteTime": {
     "end_time": "2018-01-30T00:40:01.704683Z",
     "start_time": "2018-01-30T00:40:01.670592Z"
    },
    "collapsed": true
   },
   "outputs": [],
   "source": [
    "# 连续变量数值幅度变化过大，采用正交化，降低对模型干扰 ，包括Fare变量（极端值->不好归一化）\n",
    "from sklearn.preprocessing import StandardScaler\n",
    "data_train['Age_scaled'] = StandardScaler().fit_transform(data_train['Age'].reshape(-1,1))\n",
    "data_train.head()\n",
    "# data_train.drop('temp',axis =1, inplace =True)"
   ]
  },
  {
   "cell_type": "markdown",
   "metadata": {},
   "source": [
    "####  Fare"
   ]
  },
  {
   "cell_type": "code",
   "execution_count": null,
   "metadata": {
    "ExecuteTime": {
     "end_time": "2018-01-30T00:40:04.950654Z",
     "start_time": "2018-01-30T00:40:04.926619Z"
    },
    "collapsed": true
   },
   "outputs": [],
   "source": [
    "# 连续变量 Fare\n",
    "data_train['FareCut'] = data_train['Fare'] \n",
    "data_train.loc[data_train['FareCut']<=7.91,'FareCut']  \t\t\t\t\t                 = 0\n",
    "data_train.loc[(data_train['FareCut']>7.91) & (data_train['FareCut']<=14.454),'FareCut'] = 1\n",
    "data_train.loc[(data_train['FareCut']>14.454) & (data_train['FareCut']<=31),'FareCut']   = 2\n",
    "data_train.loc[data_train['FareCut']>31,'FareCut'] \t\t\t\t\t                     = 3"
   ]
  },
  {
   "cell_type": "code",
   "execution_count": null,
   "metadata": {
    "ExecuteTime": {
     "end_time": "2018-01-30T00:40:05.791276Z",
     "start_time": "2018-01-30T00:40:05.786260Z"
    },
    "collapsed": true
   },
   "outputs": [],
   "source": [
    "#对Fare 进行归一化\n",
    "data_train['Fare_scaled'] = StandardScaler().fit_transform(data_train['Fare'].reshape(-1,1))"
   ]
  },
  {
   "cell_type": "markdown",
   "metadata": {},
   "source": [
    "**<font color=blue>数据格式化</font>**<br>\n"
   ]
  },
  {
   "cell_type": "code",
   "execution_count": null,
   "metadata": {
    "ExecuteTime": {
     "end_time": "2018-01-30T00:40:07.342024Z",
     "start_time": "2018-01-30T00:40:07.327985Z"
    },
    "collapsed": true
   },
   "outputs": [],
   "source": [
    "# 对于浮点数\n",
    "data_train['Fare_scale'] = data_train['Fare'].apply(lambda x: '%.2f' %x)\n",
    "data_train['Fare_scale'].head()"
   ]
  },
  {
   "cell_type": "markdown",
   "metadata": {},
   "source": [
    "####  Sex"
   ]
  },
  {
   "cell_type": "code",
   "execution_count": null,
   "metadata": {
    "ExecuteTime": {
     "end_time": "2018-01-30T00:40:09.055888Z",
     "start_time": "2018-01-30T00:40:09.042855Z"
    },
    "collapsed": true
   },
   "outputs": [],
   "source": [
    "data_train['Sex_bool']=data_train['Sex'].replace({'male':0,'female':1})\n",
    "data_train['Sex'].replace({'male':0,'female':1},inplace = True)\n",
    "data_train['Sex'].astype(int)  # 真正替换"
   ]
  },
  {
   "cell_type": "markdown",
   "metadata": {
    "ExecuteTime": {
     "end_time": "2018-01-17T17:09:49.772366Z",
     "start_time": "2018-01-17T17:09:49.763838Z"
    }
   },
   "source": [
    "#### Cabin"
   ]
  },
  {
   "cell_type": "code",
   "execution_count": null,
   "metadata": {
    "ExecuteTime": {
     "end_time": "2018-01-30T00:40:23.259136Z",
     "start_time": "2018-01-30T00:40:23.254124Z"
    },
    "collapsed": true
   },
   "outputs": [],
   "source": [
    "#apply 替换只有两个类型 情况\n",
    "# 把有值和无值作为衍生变量，因为数值分散，缺失值较多\n",
    "data_train['Has_Cabin'] = data_train[\"Cabin\"].apply(lambda x: 0 if type(x) == float else 1)  "
   ]
  },
  {
   "cell_type": "markdown",
   "metadata": {},
   "source": [
    "#### SibSp  +  Parch"
   ]
  },
  {
   "cell_type": "code",
   "execution_count": null,
   "metadata": {
    "ExecuteTime": {
     "end_time": "2018-01-30T00:40:25.538373Z",
     "start_time": "2018-01-30T00:40:25.533863Z"
    },
    "collapsed": true
   },
   "outputs": [],
   "source": [
    "data_train['Family_Size'] = data_train[\"SibSp\"] + data_train['Parch'] + 1 "
   ]
  },
  {
   "cell_type": "code",
   "execution_count": null,
   "metadata": {
    "ExecuteTime": {
     "end_time": "2018-01-30T00:40:26.220833Z",
     "start_time": "2018-01-30T00:40:26.210834Z"
    },
    "collapsed": true
   },
   "outputs": [],
   "source": [
    "data_train['IsAlone'] = 0\n",
    "data_train.loc[data_train['Family_Size'] == 1,'IsAlone'] = 1"
   ]
  },
  {
   "cell_type": "markdown",
   "metadata": {},
   "source": [
    "#### Embarked"
   ]
  },
  {
   "cell_type": "code",
   "execution_count": null,
   "metadata": {
    "ExecuteTime": {
     "end_time": "2018-01-30T00:40:27.782546Z",
     "start_time": "2018-01-30T00:40:27.776532Z"
    },
    "collapsed": true
   },
   "outputs": [],
   "source": [
    "# Mapping Embarked\n",
    "data_train['Embarked'] = data_train['Embarked'].map( {'S': 0, 'C': 1, 'Q': 2, np.nan: -1}).astype(int)"
   ]
  },
  {
   "cell_type": "code",
   "execution_count": null,
   "metadata": {
    "ExecuteTime": {
     "end_time": "2018-01-30T00:40:28.803266Z",
     "start_time": "2018-01-30T00:40:28.795274Z"
    },
    "collapsed": true
   },
   "outputs": [],
   "source": [
    "data_train.Embarked.value_counts(dropna =False)"
   ]
  },
  {
   "cell_type": "markdown",
   "metadata": {},
   "source": [
    "#### One-Hot编码"
   ]
  },
  {
   "cell_type": "code",
   "execution_count": null,
   "metadata": {
    "ExecuteTime": {
     "end_time": "2018-01-30T00:40:30.560661Z",
     "start_time": "2018-01-30T00:40:30.522578Z"
    },
    "collapsed": true
   },
   "outputs": [],
   "source": [
    "data_train.head()"
   ]
  },
  {
   "cell_type": "code",
   "execution_count": null,
   "metadata": {
    "ExecuteTime": {
     "end_time": "2018-01-30T00:40:31.516362Z",
     "start_time": "2018-01-30T00:40:31.491295Z"
    },
    "collapsed": true
   },
   "outputs": [],
   "source": [
    "Embarked_dummies = pd.get_dummies(data_train['Embarked'],prefix ='Cabin')\n",
    "\n",
    "Title2_dummies = pd.get_dummies(data_train['Title2'],prefix ='Title')\n",
    "\n",
    "df1 = pd.concat([data_train,Embarked_dummies, Title2_dummies],axis = 1)\n",
    "df1.drop(['Embarked','Title2'],axis = 1,inplace = True )\n",
    "df1.isnull().sum()"
   ]
  },
  {
   "cell_type": "code",
   "execution_count": null,
   "metadata": {
    "ExecuteTime": {
     "end_time": "2018-01-30T00:41:01.824948Z",
     "start_time": "2018-01-30T00:41:01.783334Z"
    },
    "collapsed": true
   },
   "outputs": [],
   "source": [
    "# 或者用 sklearn  中的方法\n",
    "from sklearn.preprocessing import  , OneHotEncoder\n",
    "\n",
    "cat_vars = ['Embarked','Title2']\n",
    "for col in cat_vars:\n",
    "    data_train[col + 'ch'] = LabelEncoder().fit_transform(data_train[col])\n",
    "\n",
    "data_train.head()"
   ]
  },
  {
   "cell_type": "code",
   "execution_count": null,
   "metadata": {
    "ExecuteTime": {
     "end_time": "2018-01-30T00:46:07.964713Z",
     "start_time": "2018-01-30T00:46:07.957161Z"
    },
    "collapsed": true
   },
   "outputs": [],
   "source": [
    "LabelEncoder().fit_transform(data_train['Title2'])"
   ]
  },
  {
   "cell_type": "code",
   "execution_count": null,
   "metadata": {
    "ExecuteTime": {
     "end_time": "2018-01-30T00:46:14.262768Z",
     "start_time": "2018-01-30T00:46:14.254777Z"
    },
    "collapsed": true
   },
   "outputs": [],
   "source": [
    "# data_train.loc[data_train['Embarked']=='O',:]\n",
    "data_train['Embarked'].value_counts()\n",
    "# data_train['Embarked1'].replace({'Q':'Q1'},inplace = True)"
   ]
  },
  {
   "cell_type": "code",
   "execution_count": null,
   "metadata": {
    "ExecuteTime": {
     "end_time": "2018-01-26T15:27:29.726989Z",
     "start_time": "2018-01-26T15:27:29.703926Z"
    },
    "collapsed": true
   },
   "outputs": [],
   "source": [
    "enc = OneHotEncoder()\n",
    "# enc.transform(data_train['Embarked1'])\n",
    "# print(temp)\n",
    "# data_train['temp'].head()"
   ]
  },
  {
   "cell_type": "code",
   "execution_count": null,
   "metadata": {
    "ExecuteTime": {
     "end_time": "2018-01-27T07:53:45.411203Z",
     "start_time": "2018-01-27T07:53:45.237700Z"
    },
    "collapsed": true
   },
   "outputs": [],
   "source": [
    "!pwd"
   ]
  },
  {
   "cell_type": "markdown",
   "metadata": {},
   "source": [
    "###  删除 行列"
   ]
  },
  {
   "cell_type": "code",
   "execution_count": null,
   "metadata": {
    "ExecuteTime": {
     "end_time": "2018-01-30T00:46:23.264558Z",
     "start_time": "2018-01-30T00:46:23.258574Z"
    },
    "collapsed": true
   },
   "outputs": [],
   "source": [
    "# da  = data_train.copy()\n",
    "# 删除行\n",
    "# da.drop([2,3],axis = 0 )\n",
    "df1.columns"
   ]
  },
  {
   "cell_type": "code",
   "execution_count": null,
   "metadata": {
    "ExecuteTime": {
     "end_time": "2018-01-30T00:46:33.132005Z",
     "start_time": "2018-01-30T00:46:33.042233Z"
    },
    "collapsed": true
   },
   "outputs": [],
   "source": [
    "# 删除列\n",
    "df1.drop(['Name','Ticket','Cabin','Initial','Title','CategoricalAge','Age_prd','Fare_scale'],axis = 1 ,inplace = True)\n",
    "df1.drop(['Fare','Sex_bool','Age','Name_length','Age_cut1'],axis = 1,inplace =True)\n",
    "df1 #,'AgeFill','Age_cut'"
   ]
  },
  {
   "cell_type": "code",
   "execution_count": null,
   "metadata": {
    "ExecuteTime": {
     "end_time": "2018-01-30T00:46:58.090650Z",
     "start_time": "2018-01-30T00:46:58.078617Z"
    },
    "collapsed": true
   },
   "outputs": [],
   "source": [
    "df1.to_pickle(\"D:\\\\Python\\\\Kaggle_data\\\\Titanic\\\\Model_test.pkl\")  #生成模型数据集"
   ]
  },
  {
   "cell_type": "markdown",
   "metadata": {},
   "source": [
    "### 数据切片"
   ]
  },
  {
   "cell_type": "code",
   "execution_count": null,
   "metadata": {
    "ExecuteTime": {
     "end_time": "2018-01-25T12:32:44.252853Z",
     "start_time": "2018-01-25T12:32:44.240851Z"
    },
    "collapsed": true
   },
   "outputs": [],
   "source": [
    "select_cols = ['PassengerId','Survived', 'Pclass', 'Sex', 'Age','Age_band', 'Embarked',  'Title','Fare', 'FareCut']\n",
    "sub_data1 = data_train.loc[:,select_cols]\n",
    "sub_data2 = data_train.loc[(data_train.Embarked == 0),select_cols]"
   ]
  },
  {
   "cell_type": "code",
   "execution_count": null,
   "metadata": {
    "ExecuteTime": {
     "end_time": "2018-01-21T15:23:14.964488Z",
     "start_time": "2018-01-21T15:23:14.939418Z"
    },
    "collapsed": true
   },
   "outputs": [],
   "source": [
    "data_train.head()"
   ]
  },
  {
   "cell_type": "code",
   "execution_count": null,
   "metadata": {
    "ExecuteTime": {
     "end_time": "2018-01-21T15:23:46.276741Z",
     "start_time": "2018-01-21T15:23:46.254464Z"
    },
    "collapsed": true
   },
   "outputs": [],
   "source": [
    "sub_data3 = data_train.loc[:,['Sex_bool','Age_band','Title2']]\n",
    "sub_data4 = data_train.loc[:,['Sex_bool','SibSp','Title2']]\n",
    "sub_data5 = sub_data3.iloc[:100,:]\n",
    "sub_data6 = sub_data3.iloc[50:150,:]\n",
    "sub_data7 = sub_data4.iloc[:100,:]\n",
    "sub_data8 = sub_data4.iloc[50:150,:]"
   ]
  },
  {
   "cell_type": "code",
   "execution_count": null,
   "metadata": {
    "ExecuteTime": {
     "end_time": "2018-01-21T15:23:54.930412Z",
     "start_time": "2018-01-21T15:23:54.919384Z"
    },
    "collapsed": true
   },
   "outputs": [],
   "source": [
    "sub_data6.head()"
   ]
  },
  {
   "cell_type": "markdown",
   "metadata": {},
   "source": [
    "### 拼接"
   ]
  },
  {
   "cell_type": "code",
   "execution_count": null,
   "metadata": {
    "ExecuteTime": {
     "end_time": "2018-01-21T15:23:56.880566Z",
     "start_time": "2018-01-21T15:23:56.863518Z"
    },
    "collapsed": true
   },
   "outputs": [],
   "source": [
    "# 对行axis = 1 情况    ====边长\n",
    "# 忽略索引按行拼接\n",
    "data1 = pd.concat([sub_data5,sub_data6],axis = 0, ignore_index = True)\n",
    "data2 = pd.concat([sub_data5,sub_data7],axis = 0, ignore_index = True, join = 'inner')\n",
    "# join 对应 axis 相反的方向   ignore 负责axis同方设置"
   ]
  },
  {
   "cell_type": "code",
   "execution_count": null,
   "metadata": {
    "ExecuteTime": {
     "end_time": "2018-01-21T15:23:57.990989Z",
     "start_time": "2018-01-21T15:23:57.953885Z"
    },
    "collapsed": true
   },
   "outputs": [],
   "source": [
    "# 对列axis = 1 情况  （相同列名情况） 变宽  如果根据 列还是merge引好\n",
    "data3 = pd.concat([sub_data5,sub_data6],axis = 1, ignore_index = True)   # ignore_index = True 忽略列名\n",
    "data4 = pd.concat([sub_data5,sub_data8],axis = 1, join = 'inner')  # 只有50 行\n",
    "data4"
   ]
  },
  {
   "cell_type": "markdown",
   "metadata": {},
   "source": [
    "####   history命令"
   ]
  },
  {
   "cell_type": "markdown",
   "metadata": {},
   "source": [
    "### 去重"
   ]
  },
  {
   "cell_type": "code",
   "execution_count": null,
   "metadata": {
    "ExecuteTime": {
     "end_time": "2018-01-21T15:24:04.950531Z",
     "start_time": "2018-01-21T15:24:04.939504Z"
    },
    "collapsed": true
   },
   "outputs": [],
   "source": [
    "# 统计重复数量\n",
    "# sub_data3.duplicated().sum()\n",
    "#计算唯一样本数量\n",
    "dup_num = len(sub_data3) - sub_data3.duplicated().sum()\n",
    "dup_num"
   ]
  },
  {
   "cell_type": "code",
   "execution_count": null,
   "metadata": {
    "ExecuteTime": {
     "end_time": "2018-01-21T15:24:06.182562Z",
     "start_time": "2018-01-21T15:24:06.148436Z"
    },
    "collapsed": true
   },
   "outputs": [],
   "source": [
    "# 显示重复的行数\n",
    "sub_data3[sub_data3.duplicated()] "
   ]
  },
  {
   "cell_type": "code",
   "execution_count": null,
   "metadata": {
    "ExecuteTime": {
     "end_time": "2018-01-21T15:24:12.155523Z",
     "start_time": "2018-01-21T15:24:12.146531Z"
    },
    "collapsed": true
   },
   "outputs": [],
   "source": [
    "#剔重操作\n",
    "#排序\n",
    "sub_data3.sort_values(by =['Age_band'],ascending =False)\n",
    "sub_data4 = sub_data3.drop_duplicates(['Sex_bool','Title2'])\n",
    "# sub_data3.drop_duplicates(['Sex_bool','Title2'],keep = 'last',inplace =False)"
   ]
  },
  {
   "cell_type": "markdown",
   "metadata": {},
   "source": [
    "###  数据排序"
   ]
  },
  {
   "cell_type": "code",
   "execution_count": null,
   "metadata": {
    "ExecuteTime": {
     "end_time": "2018-01-21T15:24:13.484673Z",
     "start_time": "2018-01-21T15:24:13.458090Z"
    },
    "collapsed": true
   },
   "outputs": [],
   "source": [
    "sub_data2.sort_values(by = ['Age','Pclass'])\n",
    "sub_data2.sort_values(by = ['Age','Pclass'],ascending = False, na_position = 'first')"
   ]
  },
  {
   "cell_type": "code",
   "execution_count": null,
   "metadata": {
    "ExecuteTime": {
     "end_time": "2018-01-17T17:38:11.303005Z",
     "start_time": "2018-01-17T17:38:11.246855Z"
    },
    "collapsed": true
   },
   "outputs": [],
   "source": [
    "# 还有rank() 方法\n",
    "# sub_data2.rank(axis =1)"
   ]
  },
  {
   "cell_type": "markdown",
   "metadata": {},
   "source": [
    "### 重命名"
   ]
  },
  {
   "cell_type": "code",
   "execution_count": null,
   "metadata": {
    "ExecuteTime": {
     "end_time": "2018-01-23T14:54:44.049291Z",
     "start_time": "2018-01-23T14:54:44.034251Z"
    },
    "collapsed": true
   },
   "outputs": [],
   "source": [
    "# 将索引变为列\n",
    "# sub_data4 = sub_data4.reset_index()\n",
    "\n",
    "#将索引变为列\n",
    "sub_data4.set_index('index',inplace = True)\n",
    "# sub_data4.reset_index(drop=True)"
   ]
  },
  {
   "cell_type": "code",
   "execution_count": null,
   "metadata": {
    "ExecuteTime": {
     "end_time": "2018-01-21T15:24:48.137559Z",
     "start_time": "2018-01-21T15:24:48.132546Z"
    },
    "collapsed": true
   },
   "outputs": [],
   "source": [
    "# 重命名 --全部替换\n",
    "sub_data4.column = ['index','Sex_Bool','Age_Band','Title']"
   ]
  },
  {
   "cell_type": "code",
   "execution_count": null,
   "metadata": {
    "ExecuteTime": {
     "end_time": "2018-01-21T15:24:50.553422Z",
     "start_time": "2018-01-21T15:24:50.538378Z"
    },
    "collapsed": true
   },
   "outputs": [],
   "source": [
    "# 重命名 --部分替换\n",
    "sub_data4.rename(columns =str.upper)\n",
    "sub_data4.rename(columns = {'Sex_bool':'Sex_Bool','Title2': 'Title'})\n",
    "# sub_data4.rename(columns = {'Sex_bool':'Sex_Bool','Title2': 'Title'},index ={7:3,30:4,556:5} )"
   ]
  },
  {
   "cell_type": "markdown",
   "metadata": {},
   "source": [
    "###  数据合并"
   ]
  },
  {
   "cell_type": "code",
   "execution_count": null,
   "metadata": {
    "ExecuteTime": {
     "end_time": "2018-01-21T15:24:52.642514Z",
     "start_time": "2018-01-21T15:24:52.621953Z"
    },
    "collapsed": true
   },
   "outputs": [],
   "source": [
    "full_data = pd.merge(data_train,sub_data4,on = ['Age_band'], how ='left' )"
   ]
  },
  {
   "cell_type": "code",
   "execution_count": null,
   "metadata": {
    "ExecuteTime": {
     "end_time": "2018-01-21T15:24:53.686501Z",
     "start_time": "2018-01-21T15:24:53.665475Z"
    },
    "collapsed": true
   },
   "outputs": [],
   "source": [
    "# suffixes= 默认_x _y\n",
    "full_data = pd.merge(data_train,sub_data4,left_index =  True, right_on =['index'], how ='left', suffixes=('_left', '_right'))"
   ]
  },
  {
   "cell_type": "code",
   "execution_count": null,
   "metadata": {
    "ExecuteTime": {
     "end_time": "2018-01-21T15:24:54.644287Z",
     "start_time": "2018-01-21T15:24:54.632252Z"
    },
    "collapsed": true
   },
   "outputs": [],
   "source": [
    "full_data = pd.merge(data_train,sub_data4,on =['Sex_bool','Age_band','Title2'], how ='left' )"
   ]
  },
  {
   "cell_type": "code",
   "execution_count": null,
   "metadata": {
    "ExecuteTime": {
     "end_time": "2018-03-17T08:11:56.212382Z",
     "start_time": "2018-03-17T08:11:56.107101Z"
    },
    "collapsed": true
   },
   "outputs": [],
   "source": [
    "data_train.head()"
   ]
  },
  {
   "cell_type": "markdown",
   "metadata": {},
   "source": [
    "### 数据聚合"
   ]
  },
  {
   "cell_type": "markdown",
   "metadata": {},
   "source": [
    "#### 聚合函数\n",
    "* count()\n",
    "* mean()\n",
    "* std()\n",
    "* agg()  ==>一次运用多个函数"
   ]
  },
  {
   "cell_type": "markdown",
   "metadata": {},
   "source": [
    "#### 查看每组数量"
   ]
  },
  {
   "cell_type": "code",
   "execution_count": null,
   "metadata": {
    "ExecuteTime": {
     "end_time": "2018-01-25T12:33:17.132647Z",
     "start_time": "2018-01-25T12:33:16.914760Z"
    },
    "collapsed": true
   },
   "outputs": [],
   "source": [
    "# 两个变量关系\n",
    "data_group = data_train[['Sex','Survived']].groupby('Sex').count()\n",
    "data_group.plot(kind ='bar')"
   ]
  },
  {
   "cell_type": "code",
   "execution_count": null,
   "metadata": {
    "ExecuteTime": {
     "end_time": "2018-01-25T12:33:29.949781Z",
     "start_time": "2018-01-25T12:33:29.906603Z"
    },
    "collapsed": true
   },
   "outputs": [],
   "source": [
    "# 对同一类型变量聚合\n",
    "for x in data_train:\n",
    "    if data_train[x].dtype == 'object' :\n",
    "#     if data1[x].dtype not in  ['float64' , 'int32','int64'] :\n",
    "        print('Survival Correlation by:', x)\n",
    "        print(data_train[[x, 'Survived']].groupby(x, as_index=False).mean())\n",
    "        print('-'*10, '\\n')\n",
    "        "
   ]
  },
  {
   "cell_type": "code",
   "execution_count": null,
   "metadata": {
    "ExecuteTime": {
     "end_time": "2018-01-25T12:34:00.212218Z",
     "start_time": "2018-01-25T12:34:00.202193Z"
    },
    "collapsed": true
   },
   "outputs": [],
   "source": [
    "data_train.groupby(['Sex','Survived'])['Survived'].count()"
   ]
  },
  {
   "cell_type": "code",
   "execution_count": null,
   "metadata": {
    "ExecuteTime": {
     "end_time": "2018-01-25T12:34:01.832224Z",
     "start_time": "2018-01-25T12:34:01.825202Z"
    },
    "collapsed": true
   },
   "outputs": [],
   "source": [
    "temp = data_train.groupby(['Sex','Survived'])['Survived'].count().to_frame()"
   ]
  },
  {
   "cell_type": "code",
   "execution_count": null,
   "metadata": {
    "ExecuteTime": {
     "end_time": "2018-01-25T12:34:02.847501Z",
     "start_time": "2018-01-25T12:34:02.837474Z"
    },
    "collapsed": true
   },
   "outputs": [],
   "source": [
    "data_train.groupby(['Sex','Survived'],as_index =False)['Survived'].size()"
   ]
  },
  {
   "cell_type": "code",
   "execution_count": null,
   "metadata": {
    "ExecuteTime": {
     "end_time": "2018-01-25T12:34:05.740371Z",
     "start_time": "2018-01-25T12:34:05.729341Z"
    },
    "collapsed": true
   },
   "outputs": [],
   "source": [
    "#折线图(对于 Series 加上索引)\n",
    "# data_train['Fare'].cumsum().plot()   # cumsum() 累加函数\n",
    "\n",
    "embark_perc = data_train[[\"Embarked\", \"Survived\"]].groupby(['Embarked'],as_index=False).mean()"
   ]
  },
  {
   "cell_type": "code",
   "execution_count": null,
   "metadata": {
    "ExecuteTime": {
     "end_time": "2018-01-25T12:34:12.167821Z",
     "start_time": "2018-01-25T12:34:11.649916Z"
    },
    "collapsed": true
   },
   "outputs": [],
   "source": [
    "f,ax=plt.subplots(1,3,figsize=(18,6))\n",
    "\n",
    "data_train[['Sex','Survived']].groupby(['Sex']).mean().plot.bar(ax=ax[0])\n",
    "ax[0].set_title('Survived vs Sex')\n",
    "\n",
    "sns.countplot('Sex',hue='Survived',data=data_train,ax=ax[1])\n",
    "ax[1].set_title('Sex:Survived vs Dead')\n",
    "\n",
    "sns.barplot(x='Embarked', y='Survived', data=embark_perc,order=['S','C','Q'],ax=ax[2])\n",
    "\n",
    "plt.show()"
   ]
  },
  {
   "cell_type": "code",
   "execution_count": null,
   "metadata": {
    "ExecuteTime": {
     "end_time": "2018-01-21T15:26:44.592147Z",
     "start_time": "2018-01-21T15:26:44.588138Z"
    },
    "collapsed": true
   },
   "outputs": [],
   "source": [
    "# data_train[['Title', 'Survived']].groupby(['Title'],as_index =False).agg(['mean','count','sum'])"
   ]
  },
  {
   "cell_type": "code",
   "execution_count": null,
   "metadata": {
    "ExecuteTime": {
     "end_time": "2018-03-17T08:16:59.019922Z",
     "start_time": "2018-03-17T08:16:58.972795Z"
    },
    "collapsed": true
   },
   "outputs": [],
   "source": [
    "cembark_sum = data_train[[\"Embarked\", \"Title2\",'Fare']].groupby([\"Embarked\", \"Title2\"]).count()\n",
    "embark_prec = cembark_sum.unstack(0).fillna(0)\n",
    "embark_prec.div(embark_prec.sum(axis =1), axis = 0,).applymap(lambda x: '%.1f%%' %(x*100))  #行加总\n",
    "embark_prec.div(embark_prec.sum(axis =0), axis = 1,).applymap(lambda x: '%.1f%%' %(x*100))  #列加总\n",
    "embark_prec.div(len(data_train)).applymap(lambda x: '%.1f%%' %(x*100))   # 对整体除百分比\n",
    "# apply(lambda x: '%.2f%%' %(x*100))\n",
    "# applymap 对所有元素操作   map 仅对series   apply既可以行 也可以列"
   ]
  },
  {
   "cell_type": "markdown",
   "metadata": {},
   "source": [
    "### pandas 风格style\n",
    "参考：\n",
    "* CSDN风格文档 http://blog.csdn.net/wuwan5296/article/details/78636347\n",
    "* pandas style http://pandas.pydata.org/pandas-docs/version/0.18.1/style.html"
   ]
  },
  {
   "cell_type": "code",
   "execution_count": null,
   "metadata": {
    "ExecuteTime": {
     "end_time": "2018-03-17T08:42:34.459420Z",
     "start_time": "2018-03-17T08:42:34.453402Z"
    },
    "collapsed": true
   },
   "outputs": [],
   "source": [
    "df = embark_prec\n",
    "df1 = df['Fare'] \n",
    "# df['Fare']['C']"
   ]
  },
  {
   "cell_type": "code",
   "execution_count": null,
   "metadata": {
    "ExecuteTime": {
     "end_time": "2018-03-17T08:35:43.743622Z",
     "start_time": "2018-03-17T08:35:43.734630Z"
    },
    "collapsed": true,
    "scrolled": true
   },
   "outputs": [],
   "source": [
    "df1.style.format({'C':'{:+.2f}'})  # 添加正负号"
   ]
  },
  {
   "cell_type": "code",
   "execution_count": null,
   "metadata": {
    "ExecuteTime": {
     "end_time": "2018-03-17T08:56:52.732320Z",
     "start_time": "2018-03-17T08:56:52.705280Z"
    },
    "collapsed": true
   },
   "outputs": [],
   "source": [
    "embark_prec.style.background_gradient(cmap = 'summer_r')\n",
    "# 调用sns 调色板 rgb\n",
    "# 使用light_palette() 和dark_palette()调用定制连续调色板\n",
    "cm = sns.light_palette((210, 90, 60), input=\"husl\", as_cmap=True)\n",
    "df1.style.background_gradient(cmap = cm,axis =1 )  # 默认每一列,axis = 0"
   ]
  },
  {
   "cell_type": "code",
   "execution_count": null,
   "metadata": {
    "ExecuteTime": {
     "end_time": "2018-03-17T08:52:11.997651Z",
     "start_time": "2018-03-17T08:52:11.973586Z"
    },
    "collapsed": true
   },
   "outputs": [],
   "source": [
    "# cm = sns.light_palette(color, input=\"husl\", as_cmap=True)\n",
    "df1.style.background_gradient??"
   ]
  },
  {
   "cell_type": "code",
   "execution_count": null,
   "metadata": {
    "ExecuteTime": {
     "end_time": "2018-03-17T08:49:40.489233Z",
     "start_time": "2018-03-17T08:49:40.474195Z"
    },
    "collapsed": true
   },
   "outputs": [],
   "source": [
    "sns.light_palette??"
   ]
  },
  {
   "cell_type": "code",
   "execution_count": null,
   "metadata": {
    "ExecuteTime": {
     "end_time": "2018-03-17T08:19:37.451970Z",
     "start_time": "2018-03-17T08:19:37.392840Z"
    },
    "collapsed": true
   },
   "outputs": [],
   "source": [
    "embark_prec.style.background_gradient??"
   ]
  },
  {
   "cell_type": "code",
   "execution_count": null,
   "metadata": {
    "ExecuteTime": {
     "end_time": "2018-03-17T08:37:32.049150Z",
     "start_time": "2018-03-17T08:37:32.032133Z"
    },
    "collapsed": true,
    "scrolled": true
   },
   "outputs": [],
   "source": [
    "df1.style.highlight_max(axis = 0)  # 高亮每列 最大值"
   ]
  },
  {
   "cell_type": "code",
   "execution_count": null,
   "metadata": {
    "ExecuteTime": {
     "end_time": "2018-03-17T08:41:37.454066Z",
     "start_time": "2018-03-17T08:41:37.442035Z"
    },
    "collapsed": true
   },
   "outputs": [],
   "source": [
    "df1.style.bar(['S'],width= 100,align = 'mid')  # 高亮每列 最大值"
   ]
  },
  {
   "cell_type": "code",
   "execution_count": null,
   "metadata": {
    "ExecuteTime": {
     "end_time": "2018-03-17T08:41:37.454066Z",
     "start_time": "2018-03-17T08:41:37.442035Z"
    },
    "collapsed": true
   },
   "outputs": [],
   "source": [
    "df1.style.bar(['S'],width= 100,align = 'mid')  # 高亮每列 最大值"
   ]
  },
  {
   "cell_type": "code",
   "execution_count": null,
   "metadata": {
    "collapsed": true
   },
   "outputs": [],
   "source": []
  },
  {
   "cell_type": "code",
   "execution_count": null,
   "metadata": {
    "ExecuteTime": {
     "end_time": "2018-03-17T08:39:55.148502Z",
     "start_time": "2018-03-17T08:39:55.124464Z"
    },
    "collapsed": true
   },
   "outputs": [],
   "source": [
    "df1.style.bar??"
   ]
  },
  {
   "cell_type": "code",
   "execution_count": null,
   "metadata": {
    "collapsed": true
   },
   "outputs": [],
   "source": []
  },
  {
   "cell_type": "code",
   "execution_count": null,
   "metadata": {
    "ExecuteTime": {
     "end_time": "2018-01-25T13:46:59.404722Z",
     "start_time": "2018-01-25T13:46:59.390687Z"
    },
    "collapsed": true
   },
   "outputs": [],
   "source": [
    "# full_data = [data_train, data_test]  #是个list  不可取\n",
    "# 然后 用 for 用循环处理\n",
    "# for dataset in full_data:\n",
    "#     dataset['IsAlone'] = 0\n",
    "#     dataset.loc[dataset['FamilySize'] == 1, 'IsAlone'] = 1\n",
    "\n",
    "\n",
    "# pd.set_option('display.folat_format',lambda x: '%.2f' %x)\n",
    "#对行 队列 对总体求占比\n",
    "# pd.set_option('display.float_format', lambda x: '%.2f' % x)\n",
    "# pd.crosstab(data_train['Survived'], data_train['Title2']).apply(lambda r: r/r.sum(), axis=1)  #对行"
   ]
  },
  {
   "cell_type": "code",
   "execution_count": null,
   "metadata": {
    "collapsed": true
   },
   "outputs": [],
   "source": []
  },
  {
   "cell_type": "markdown",
   "metadata": {},
   "source": [
    "###  画图"
   ]
  },
  {
   "cell_type": "markdown",
   "metadata": {},
   "source": [
    "#### seaborn  https://seaborn.pydata.org/api.html"
   ]
  },
  {
   "cell_type": "markdown",
   "metadata": {},
   "source": [
    "###   因子变量"
   ]
  },
  {
   "cell_type": "code",
   "execution_count": null,
   "metadata": {
    "ExecuteTime": {
     "end_time": "2018-01-25T14:19:53.307070Z",
     "start_time": "2018-01-25T14:19:51.387839Z"
    },
    "collapsed": true
   },
   "outputs": [],
   "source": [
    "# 单连续变量==>连续分布  某一列\n",
    "\n",
    "from scipy.stats import norm\n",
    "with sns.plotting_context(\"notebook\",font_scale=1.2):  #缩放字体\n",
    "    f, ax = plt.subplots(1,1,figsize = (6,4))\n",
    "    # sns.distplot(data_train['Age'],ax =ax[0])\n",
    "    sns.distplot(data_train['Age'],rug = True, fit = norm,ax =ax)\n",
    "    plt.show()"
   ]
  },
  {
   "cell_type": "code",
   "execution_count": null,
   "metadata": {
    "collapsed": true
   },
   "outputs": [],
   "source": [
    "# 怎么样让分布图 按照类别映射（hist ）"
   ]
  },
  {
   "cell_type": "code",
   "execution_count": null,
   "metadata": {
    "ExecuteTime": {
     "end_time": "2018-01-21T15:37:31.807918Z",
     "start_time": "2018-01-21T15:37:31.226675Z"
    },
    "collapsed": true
   },
   "outputs": [],
   "source": [
    "# 单因子变量 ==> 频数统计  countplot\n",
    "fig, ax = plt.subplots(1,3,figsize=(18,6))\n",
    "sns.countplot(x='Title2', data= data_train,ax =ax[0])\n",
    "# 映射 目标变量（是否存活）  存在问题 堆积情况下\n",
    "sns.countplot(x='Title2',hue = 'Survived', data= data_train,ax =ax[1])\n",
    "\n",
    "sns.countplot(x='Title2',hue = 'Survived', data= data_train,hue_order =[1,0],dodge = False,ax =ax[2])"
   ]
  },
  {
   "cell_type": "markdown",
   "metadata": {},
   "source": [
    "\n",
    "####  按照因子变量映射\n",
    "- factorplot()      -->  简单本 --factorplot\n",
    "    + kind : { count,  | box, violin, strip |双变量 point, bar,  |}"
   ]
  },
  {
   "cell_type": "code",
   "execution_count": null,
   "metadata": {
    "ExecuteTime": {
     "end_time": "2018-01-21T11:52:29.714705Z",
     "start_time": "2018-01-21T11:52:29.326876Z"
    },
    "collapsed": true
   },
   "outputs": [],
   "source": [
    "# 单变量 离散型  count (没有连续 分布图)  \n",
    "sns.factorplot(x='Title', kind ='count',col = 'Survived',data =data_train)"
   ]
  },
  {
   "cell_type": "code",
   "execution_count": null,
   "metadata": {
    "ExecuteTime": {
     "end_time": "2018-01-21T15:38:18.556780Z",
     "start_time": "2018-01-21T15:38:18.193796Z"
    },
    "collapsed": true
   },
   "outputs": [],
   "source": [
    "# 单变量 连续型   box, violin, strip\n",
    "sns.factorplot(x='Age', kind ='violin',col = 'Survived',data =data_train)"
   ]
  },
  {
   "cell_type": "code",
   "execution_count": null,
   "metadata": {
    "ExecuteTime": {
     "end_time": "2018-01-21T13:21:34.860791Z",
     "start_time": "2018-01-21T13:21:32.623687Z"
    },
    "collapsed": true
   },
   "outputs": [],
   "source": [
    "# point 图会给出置信度 ---波动区间    point要求因子变量是 数值型 \n",
    "# 将目标变量作为y轴\n",
    "sns.factorplot(x='Title',y='Survived', kind ='point',col = 'FareCut',data =data_train,col_wrap =2)"
   ]
  },
  {
   "cell_type": "code",
   "execution_count": null,
   "metadata": {
    "ExecuteTime": {
     "end_time": "2018-01-21T13:16:28.026530Z",
     "start_time": "2018-01-21T13:16:27.304928Z"
    },
    "collapsed": true
   },
   "outputs": [],
   "source": [
    "#纵轴 计算的连续变量的平均数（因子数值型）\n",
    "sns.factorplot(x='Title',y='Family_Size', kind ='bar',col = 'Survived',data =data_train)"
   ]
  },
  {
   "cell_type": "markdown",
   "metadata": {},
   "source": [
    "####  连续 变量散点图    lmplot(）\n",
    "不能用factorplot()"
   ]
  },
  {
   "cell_type": "code",
   "execution_count": null,
   "metadata": {
    "ExecuteTime": {
     "end_time": "2018-01-21T13:24:55.113332Z",
     "start_time": "2018-01-21T13:24:55.109322Z"
    },
    "collapsed": true
   },
   "outputs": [],
   "source": [
    "sns.factorplot(x='Age',y='Fare',hue=\"IsAlone\", kind ='point',col = 'Survived',data =data_train,col_wrap =2)"
   ]
  },
  {
   "cell_type": "code",
   "execution_count": null,
   "metadata": {
    "ExecuteTime": {
     "end_time": "2018-01-21T13:20:07.509940Z",
     "start_time": "2018-01-21T13:20:06.401684Z"
    },
    "collapsed": true
   },
   "outputs": [],
   "source": [
    "sns.lmplot(x='Age' ,y='Fare' ,hue=\"IsAlone\",col =\"Survived\",data = data_train)"
   ]
  },
  {
   "cell_type": "markdown",
   "metadata": {},
   "source": [
    "####  多变量相关图  PairGrid  \n",
    "简便函数 pairplot"
   ]
  },
  {
   "cell_type": "code",
   "execution_count": null,
   "metadata": {
    "ExecuteTime": {
     "end_time": "2018-01-21T15:39:52.243400Z",
     "start_time": "2018-01-21T15:39:49.807344Z"
    },
    "collapsed": true
   },
   "outputs": [],
   "source": [
    "# columns =['Survived', 'Pclass', 'Sex', 'Age','Fare', 'Embarked', 'Age_cut',\n",
    "#        'FareCut', 'Has_Cabin','Title2', 'Name_length', 'Family_Size', 'IsAlone',\n",
    "#        'Fare_scale', 'Title_train']\n",
    "\n",
    "plot_vars = ['Family_Size','Age','Fare','Name_length']\n",
    "\n",
    "# kind : {‘scatter’, ‘reg’}\n",
    "\n",
    "sns.pairplot(data = data_train,vars = plot_vars , hue = 'Survived',kind ='reg',markers=[\"+\",'*'])\n"
   ]
  },
  {
   "cell_type": "code",
   "execution_count": null,
   "metadata": {
    "ExecuteTime": {
     "end_time": "2018-01-21T15:45:36.142457Z",
     "start_time": "2018-01-21T15:45:36.137473Z"
    },
    "collapsed": true
   },
   "outputs": [],
   "source": [
    "train = data_train[['Survived','Pclass','Sex','Age','Parch','Fare','Has_Cabin','Family_Size','IsAlone','Title_train']]"
   ]
  },
  {
   "cell_type": "code",
   "execution_count": null,
   "metadata": {
    "ExecuteTime": {
     "end_time": "2018-01-21T15:44:28.351395Z",
     "start_time": "2018-01-21T15:44:28.345381Z"
    },
    "collapsed": true
   },
   "outputs": [],
   "source": [
    "data_train.columns"
   ]
  },
  {
   "cell_type": "code",
   "execution_count": null,
   "metadata": {
    "ExecuteTime": {
     "end_time": "2018-01-26T15:34:41.102080Z",
     "start_time": "2018-01-26T15:34:40.072690Z"
    },
    "collapsed": true
   },
   "outputs": [],
   "source": [
    "# titanic.corr()[\"Survived\"]\n",
    "colormap = plt.cm.viridis\n",
    "plt.figure(figsize=(12,12))\n",
    "plt.title('Pearson Correlation of Features', y=1.05, size=15)\n",
    "sns.heatmap(train.astype(float).corr(),linewidths=0.1,vmax=1.0, square=True, cmap=colormap, linecolor='white', annot=True)"
   ]
  },
  {
   "cell_type": "markdown",
   "metadata": {},
   "source": [
    "##### 除以上的简单描述性统计之外，还提供了连续变量的相关系数（corr）和协方差矩阵（cov）的求解\n",
    "df.corr()\n",
    "关于相关系数的计算可以调用pearson方法或kendell方法或spearman方法，默认使用pearson方法。\n",
    "\n",
    "df.corr('spearman')\n",
    "如果只想关注某一个变量与其余变量的相关系数的话，可以使用corrwith,如下方只关心x1与其余变量的相关系数:\n",
    "\n",
    "df.corrwith(df['x1'])\n",
    "数值型变量间的协方差矩阵\n",
    "\n",
    "df.cov()"
   ]
  },
  {
   "cell_type": "code",
   "execution_count": null,
   "metadata": {
    "ExecuteTime": {
     "end_time": "2018-01-27T06:02:55.585976Z",
     "start_time": "2018-01-27T06:02:55.581972Z"
    },
    "collapsed": true
   },
   "outputs": [],
   "source": [
    "# data_train.corr('kendall')   #相关系数pearson（默认）、spearman、kendall  \n",
    "# data_train[['Age','Family_Size']].corrwith(data_train['Fare'])\n",
    "# data_train.cov() #协方差矩阵"
   ]
  },
  {
   "cell_type": "markdown",
   "metadata": {
    "ExecuteTime": {
     "end_time": "2018-01-21T11:58:21.754371Z",
     "start_time": "2018-01-21T11:58:21.208337Z"
    }
   },
   "source": [
    "#### FacetGrid 通用 \n",
    "Tidy (“long-form”) dataframe\n",
    "\n",
    "可以map  不同的绘图函数（plt: scatter area hist  | sns: 的函数） 但是函数内部的参数设置？\n"
   ]
  },
  {
   "cell_type": "code",
   "execution_count": null,
   "metadata": {
    "ExecuteTime": {
     "end_time": "2018-01-21T16:21:04.803806Z",
     "start_time": "2018-01-21T16:21:04.797790Z"
    },
    "collapsed": true
   },
   "outputs": [],
   "source": [
    "def boo_plot(data,color):\n",
    "    data.plot(kind ='scatter',x='Age',y='Fare',s=np.pi*(data_train['Family_Size']*3)**2,alpha =0.3,ax=plt.gca())\n",
    "    "
   ]
  },
  {
   "cell_type": "code",
   "execution_count": null,
   "metadata": {
    "ExecuteTime": {
     "end_time": "2018-01-21T16:21:10.329280Z",
     "start_time": "2018-01-21T16:21:05.863957Z"
    },
    "collapsed": true
   },
   "outputs": [],
   "source": [
    "g= sns.FacetGrid(data=data_train,col='Survived',size= 5 ,aspect = 1.2)\n",
    "g.map_dataframe(boo_plot)"
   ]
  },
  {
   "cell_type": "code",
   "execution_count": null,
   "metadata": {
    "ExecuteTime": {
     "end_time": "2018-01-21T16:22:35.361489Z",
     "start_time": "2018-01-21T16:22:34.722907Z"
    },
    "collapsed": true
   },
   "outputs": [],
   "source": [
    "# 效果下相当于 直接使用 lmplot()\n",
    "def def_plot(data,color):\n",
    "    sns.regplot('Age','Fare',data,ax=plt.gca())\n",
    "# 自定义的 jointplot()失败\n",
    "    \n",
    "g = sns.FacetGrid(data= data_train, col=\"Survived\",size= 5 ,aspect = 1.2)  #   row=\"smoker\"  \n",
    "g = g.map_dataframe(def_plot)\n",
    "\n",
    "# map_dataframe() Like map but passes args as strings and inserts data in kwargs."
   ]
  },
  {
   "cell_type": "code",
   "execution_count": null,
   "metadata": {
    "ExecuteTime": {
     "end_time": "2018-01-21T12:38:52.540256Z",
     "start_time": "2018-01-21T12:38:52.106629Z"
    },
    "collapsed": true
   },
   "outputs": [],
   "source": [
    "# 设置每个小图 图片尺寸 高：size  宽 ：aspect * size\n",
    "g = sns.FacetGrid(data_train, col=\"Survived\",size= 5 ,aspect = 1.2)  #   row=\"smoker\"  \n",
    "# g = g.map(sns.regplot, \"Age\",\"Fare\")\n",
    "g = g.map(plt.scatter, \"Age\",\"Fare\")"
   ]
  },
  {
   "cell_type": "markdown",
   "metadata": {},
   "source": [
    "#### 绘制年龄 和 票价的相关图"
   ]
  },
  {
   "cell_type": "code",
   "execution_count": null,
   "metadata": {
    "ExecuteTime": {
     "end_time": "2018-01-21T09:22:53.547090Z",
     "start_time": "2018-01-21T09:22:52.729231Z"
    },
    "collapsed": true
   },
   "outputs": [],
   "source": [
    "import seaborn as sns\n",
    "# 体现相关性\n",
    "# 两个连续变量的相关性 通过这个看\n",
    "sns.jointplot('Age','Fare',data_train.loc[data_train['Fare']<=300],kind = 'reg')"
   ]
  },
  {
   "cell_type": "code",
   "execution_count": null,
   "metadata": {
    "ExecuteTime": {
     "end_time": "2018-01-21T09:47:53.833252Z",
     "start_time": "2018-01-21T09:47:53.045113Z"
    },
    "collapsed": true
   },
   "outputs": [],
   "source": [
    "# 优：可以展示 两个变量的整体分布情况  \n",
    "# 缺：但是看不到 因子内部的分布情况  不能映射第三个变量\n",
    "sns.jointplot('Title_train','Age',data = data_train)"
   ]
  },
  {
   "cell_type": "code",
   "execution_count": null,
   "metadata": {
    "ExecuteTime": {
     "end_time": "2018-01-21T09:50:16.352094Z",
     "start_time": "2018-01-21T09:50:13.203738Z"
    },
    "collapsed": true
   },
   "outputs": [],
   "source": [
    "# 优：可以看不到 因子内部的分布情况   映射第三个变量\n",
    "# 缺：但是不能展示 两个变量的整体分布情况 \n",
    "f, ax = plt.subplots(1,2,figsize =(18,8))\n",
    "sns.violinplot('Title2','Age',hue ='Survived',data = data_train, split =True, ax =ax[0])\n",
    "ax[0].set_title(\"Simplified Version\") # 标题不支持中文\n",
    "sns.violinplot('Title2','Age',hue ='Survived',data = data_train, split =True,inner = 'stick',scale ='count', ax =ax[1])\n",
    "\n",
    "plt.show()"
   ]
  },
  {
   "cell_type": "code",
   "execution_count": null,
   "metadata": {
    "ExecuteTime": {
     "end_time": "2018-01-21T09:56:09.171369Z",
     "start_time": "2018-01-21T09:56:08.950742Z"
    },
    "collapsed": true
   },
   "outputs": [],
   "source": [
    "# data_train['Fare'].plot(kind ='box')\n",
    "\n",
    "sns.violinplot(x= 'Survived',y = 'Sex',data = data_train, split =True)"
   ]
  },
  {
   "cell_type": "markdown",
   "metadata": {},
   "source": [
    "#### 小提琴图 "
   ]
  },
  {
   "cell_type": "code",
   "execution_count": null,
   "metadata": {
    "ExecuteTime": {
     "end_time": "2018-01-21T09:14:51.535753Z",
     "start_time": "2018-01-21T09:14:51.029769Z"
    },
    "collapsed": true
   },
   "outputs": [],
   "source": [
    "#因为Fare 有极端值  画的也不好看\n",
    "f, ax = plt.subplots(1,2,figsize =(18,8))\n",
    "sns.violinplot('Sex','Fare',hue = \"Survived\", data = data_train, split = True, ax = ax[0])\n",
    "ax[0].set_title('Sex and Fare vs Survived')\n",
    "ax[0].set_yticks(range(1,500,50))\n",
    "\n",
    "sns.violinplot('Sex','Age', hue = \"Survived\", data = data_train, split = True, ax = ax[1])\n",
    "ax[1].set_title('Sex and Age vs Survived')\n",
    "\n",
    "plt.show()"
   ]
  },
  {
   "cell_type": "code",
   "execution_count": null,
   "metadata": {
    "ExecuteTime": {
     "end_time": "2018-01-21T09:05:08.465810Z",
     "start_time": "2018-01-21T09:05:08.168957Z"
    },
    "collapsed": true
   },
   "outputs": [],
   "source": [
    "sns.violinplot(\"Sex\",\"Age\", hue=\"Survived\", data=data_train,split=True)"
   ]
  },
  {
   "cell_type": "code",
   "execution_count": null,
   "metadata": {
    "ExecuteTime": {
     "end_time": "2018-01-21T15:57:11.882122Z",
     "start_time": "2018-01-21T15:57:11.701598Z"
    },
    "collapsed": true
   },
   "outputs": [],
   "source": [
    "sns.boxplot(y = 'Fare',hue = 'Survived', data= data_train)"
   ]
  },
  {
   "cell_type": "code",
   "execution_count": null,
   "metadata": {
    "collapsed": true
   },
   "outputs": [],
   "source": [
    "Survived\tPclass\tSex\tAge\tParch\tFare\tEmbarked\tHas_Cabin\tFamilySize\tIsAlone\tTitle"
   ]
  },
  {
   "cell_type": "code",
   "execution_count": null,
   "metadata": {
    "ExecuteTime": {
     "end_time": "2018-01-18T16:29:15.289759Z",
     "start_time": "2018-01-18T16:29:15.276725Z"
    },
    "collapsed": true
   },
   "outputs": [],
   "source": [
    "attr = plt.subplots(1,2,sharex=True,figsize=(10,5))"
   ]
  },
  {
   "cell_type": "code",
   "execution_count": null,
   "metadata": {
    "ExecuteTime": {
     "end_time": "2018-01-18T16:15:04.606638Z",
     "start_time": "2018-01-18T16:15:04.593603Z"
    },
    "collapsed": true
   },
   "outputs": [],
   "source": [
    "f=plt.subplots(1,2,figsize=(18,8))"
   ]
  },
  {
   "cell_type": "code",
   "execution_count": null,
   "metadata": {
    "ExecuteTime": {
     "end_time": "2018-01-18T15:56:11.369714Z",
     "start_time": "2018-01-18T15:56:11.354167Z"
    },
    "collapsed": true
   },
   "outputs": [],
   "source": [
    "temp = data_train[['Family_Size','Survived']].groupby(['Survived'],as_index =False).mean()\n",
    "temp"
   ]
  },
  {
   "cell_type": "code",
   "execution_count": null,
   "metadata": {
    "ExecuteTime": {
     "end_time": "2018-01-18T16:01:47.070775Z",
     "start_time": "2018-01-18T16:01:47.057740Z"
    },
    "collapsed": true
   },
   "outputs": [],
   "source": [
    "# size()  产生一个Series  运用 to_frame()\n",
    "temp = data_train[['Family_Size','Survived']].groupby(['Survived'],as_index =False).size()\n",
    "temp\n",
    "temp.to_frame(name = 'Family').reset_index()  # name  时Series 的列名"
   ]
  },
  {
   "cell_type": "code",
   "execution_count": null,
   "metadata": {
    "ExecuteTime": {
     "end_time": "2018-01-18T13:35:40.664717Z",
     "start_time": "2018-01-18T13:35:40.649710Z"
    },
    "collapsed": true
   },
   "outputs": [],
   "source": [
    "# 对两个变量 进行聚合\n",
    "# 统计数量，随便选一列 用count() 函数即可\n",
    "data_train.groupby(['Family_Size','Survived'],as_index =False)['Name'].count()"
   ]
  },
  {
   "cell_type": "code",
   "execution_count": null,
   "metadata": {
    "ExecuteTime": {
     "end_time": "2018-01-17T13:27:38.975483Z",
     "start_time": "2018-01-17T13:27:38.637585Z"
    },
    "collapsed": true
   },
   "outputs": [],
   "source": [
    "f,ax=plt.subplots(1,2,figsize=(18,8))"
   ]
  },
  {
   "cell_type": "code",
   "execution_count": null,
   "metadata": {
    "ExecuteTime": {
     "end_time": "2018-01-17T17:30:30.696987Z",
     "start_time": "2018-01-17T17:30:30.675930Z"
    },
    "collapsed": true
   },
   "outputs": [],
   "source": [
    "final_data.head()"
   ]
  },
  {
   "cell_type": "code",
   "execution_count": null,
   "metadata": {
    "ExecuteTime": {
     "end_time": "2018-01-18T14:01:47.789935Z",
     "start_time": "2018-01-18T14:01:47.725764Z"
    },
    "collapsed": true
   },
   "outputs": [],
   "source": [
    "#用list 去查看聚合内部\n",
    "dict(list(data_train[['Family_Size','Survived','Title2']].groupby(['Survived','Title2'])))"
   ]
  },
  {
   "cell_type": "code",
   "execution_count": null,
   "metadata": {
    "ExecuteTime": {
     "end_time": "2018-01-21T08:42:04.781528Z",
     "start_time": "2018-01-21T08:42:04.769996Z"
    },
    "collapsed": true
   },
   "outputs": [],
   "source": [
    "# data_train.columns\n",
    "test = data_train[['Family_Size','Survived','Title2']]"
   ]
  },
  {
   "cell_type": "code",
   "execution_count": null,
   "metadata": {
    "collapsed": true
   },
   "outputs": [],
   "source": []
  },
  {
   "cell_type": "markdown",
   "metadata": {},
   "source": [
    "###  数据透视表 ： pivot_table  (数据透视图？)"
   ]
  },
  {
   "cell_type": "code",
   "execution_count": null,
   "metadata": {
    "ExecuteTime": {
     "end_time": "2018-01-24T17:37:52.091737Z",
     "start_time": "2018-01-24T17:37:52.047614Z"
    },
    "collapsed": true
   },
   "outputs": [],
   "source": [
    "# 对某一变量求和    len(可行) /count\n",
    "pd.pivot_table(test,index=['Survived'],columns=['Title2'],values=['Family_Size'], aggfunc=np.sum )"
   ]
  },
  {
   "cell_type": "code",
   "execution_count": null,
   "metadata": {
    "ExecuteTime": {
     "end_time": "2018-01-24T17:37:58.164881Z",
     "start_time": "2018-01-24T17:37:57.975835Z"
    },
    "collapsed": true
   },
   "outputs": [],
   "source": [
    "pd.pivot_table(test,index=['Survived'], \\\n",
    "                    columns=['Title2'], \\\n",
    "                    values=['Family_Size'], \\\n",
    "                    aggfunc=[len,np.sum,np.mean] ,margins =True)"
   ]
  },
  {
   "cell_type": "code",
   "execution_count": null,
   "metadata": {
    "ExecuteTime": {
     "end_time": "2018-01-24T17:37:59.385203Z",
     "start_time": "2018-01-24T17:37:59.355089Z"
    },
    "collapsed": true
   },
   "outputs": [],
   "source": [
    "import numpy as np\n",
    "pivot1.reset_index(drop =False)"
   ]
  },
  {
   "cell_type": "code",
   "execution_count": null,
   "metadata": {
    "ExecuteTime": {
     "end_time": "2018-01-24T17:38:06.513875Z",
     "start_time": "2018-01-24T17:38:06.473263Z"
    },
    "collapsed": true
   },
   "outputs": [],
   "source": [
    "pivot1 = pd.pivot_table(test,index=['Survived'],columns=['Title2'],values = ['Family_Size'], aggfunc=[len])\n",
    "pivot1\n",
    "# pivot1 = pd.pivot_table(test,index=['Survived'],columns=['Title2'],values = ['Family_Size'], aggfunc=[len,np.sum])"
   ]
  },
  {
   "cell_type": "code",
   "execution_count": null,
   "metadata": {
    "ExecuteTime": {
     "end_time": "2018-01-24T17:38:18.179971Z",
     "start_time": "2018-01-24T17:38:17.257056Z"
    },
    "collapsed": true
   },
   "outputs": [],
   "source": [
    "# 运用pandas 基础绘图\n",
    "pivot1.plot(kind = 'bar')"
   ]
  },
  {
   "cell_type": "code",
   "execution_count": null,
   "metadata": {
    "ExecuteTime": {
     "end_time": "2018-01-24T17:38:22.128793Z",
     "start_time": "2018-01-24T17:38:22.103727Z"
    },
    "collapsed": true
   },
   "outputs": [],
   "source": [
    "\n",
    "pivot2 = pivot1[pivot1.sum(axis = 1) >400]\n",
    "pivot2"
   ]
  },
  {
   "cell_type": "code",
   "execution_count": null,
   "metadata": {
    "ExecuteTime": {
     "end_time": "2018-01-24T17:38:41.364442Z",
     "start_time": "2018-01-24T17:38:41.356420Z"
    },
    "collapsed": true
   },
   "outputs": [],
   "source": [
    "# 对透视表进行切片\n",
    "# 首先进行 切片 然后再进行 透视表\n",
    "\n",
    "\n",
    "# pivot1.loc[pivot1['Title2']  == [\"Master\"]]\n",
    "# pivot1.query('Title2 == \"Master\"')\n",
    "# .str.contains(\"1\")\n",
    "# pivot1[pivot1.index == 1]  \n",
    "# pivot1[pivot1.columns.levels[2] == ['Family_Size']]\n",
    "\n",
    "# pivot1.columns\n",
    "# pivot1.index\n",
    "# pivot1.columns.levels[1]\n",
    "# pivot1[pivot1.columns.levels[2][3]]"
   ]
  },
  {
   "cell_type": "markdown",
   "metadata": {},
   "source": [
    "#### 有只基于频数的 crosstab()"
   ]
  },
  {
   "cell_type": "code",
   "execution_count": null,
   "metadata": {
    "ExecuteTime": {
     "end_time": "2018-01-24T17:46:10.058167Z",
     "start_time": "2018-01-24T17:46:10.025040Z"
    },
    "collapsed": true
   },
   "outputs": [],
   "source": [
    "# 仅有两列时 怎么看 数量 ，和 每个的百分比\n",
    "pd.crosstab(data_train['Survived'],data_train['Title2'])\n",
    "# pd.crosstab(data_train['Survived'],data_train['Title2'],margins =True)"
   ]
  },
  {
   "cell_type": "markdown",
   "metadata": {},
   "source": [
    "##### 在corsstab 中显示百分比"
   ]
  },
  {
   "cell_type": "code",
   "execution_count": null,
   "metadata": {
    "ExecuteTime": {
     "end_time": "2018-01-24T17:42:13.726545Z",
     "start_time": "2018-01-24T17:42:13.695465Z"
    },
    "collapsed": true
   },
   "outputs": [],
   "source": [
    "\n",
    "#对行 队列 对总体求占比\n",
    "pd.set_option('display.float_format', lambda x: '%.2f' % x)\n",
    "pd.crosstab(data_train['Survived'], data_train['Title2']).apply(lambda r: r/r.sum(), axis=1)  #对行"
   ]
  },
  {
   "cell_type": "code",
   "execution_count": null,
   "metadata": {
    "ExecuteTime": {
     "end_time": "2018-01-24T17:42:29.555900Z",
     "start_time": "2018-01-24T17:42:29.526823Z"
    },
    "collapsed": true
   },
   "outputs": [],
   "source": [
    "pd.crosstab(data_train['Survived'], data_train['Title2']).apply(lambda r: r/r.sum(), axis=0)  #对行"
   ]
  },
  {
   "cell_type": "code",
   "execution_count": null,
   "metadata": {
    "ExecuteTime": {
     "end_time": "2018-01-24T17:43:50.683619Z",
     "start_time": "2018-01-24T17:43:50.626595Z"
    },
    "collapsed": true
   },
   "outputs": [],
   "source": [
    "#对总体\n",
    "pd.crosstab(data_train['Survived'], data_train['Title2'],margins =True).apply(lambda r: r/len(data_train), axis=0)  #对行"
   ]
  },
  {
   "cell_type": "code",
   "execution_count": null,
   "metadata": {
    "ExecuteTime": {
     "end_time": "2018-01-24T17:39:09.045898Z",
     "start_time": "2018-01-24T17:39:09.041889Z"
    },
    "collapsed": true
   },
   "outputs": [],
   "source": [
    "#只返回2个变量的计数\n",
    "# def table(data,list = None,margins = False):\n",
    "#     return pd.pivot_table(data,index=list[0],columns=list[1], aggfunc=[len] ,margins=margins)\n",
    "\n",
    "# table(test,['Survived','Title2'])"
   ]
  },
  {
   "cell_type": "code",
   "execution_count": null,
   "metadata": {
    "ExecuteTime": {
     "end_time": "2018-01-24T17:40:12.023466Z",
     "start_time": "2018-01-24T17:40:12.004415Z"
    },
    "collapsed": true
   },
   "outputs": [],
   "source": [
    "# 计算相关Pearson系数\n",
    "data_train['Survived'].corr(data_train['Fare'])"
   ]
  },
  {
   "cell_type": "code",
   "execution_count": null,
   "metadata": {
    "ExecuteTime": {
     "end_time": "2018-01-23T14:52:02.617259Z",
     "start_time": "2018-01-23T14:52:02.586177Z"
    },
    "collapsed": true
   },
   "outputs": [],
   "source": [
    "data_train =data.copy()\n",
    "data_train.head()"
   ]
  },
  {
   "cell_type": "code",
   "execution_count": null,
   "metadata": {
    "ExecuteTime": {
     "end_time": "2018-01-25T12:36:11.731298Z",
     "start_time": "2018-01-25T12:36:11.705226Z"
    },
    "collapsed": true
   },
   "outputs": [],
   "source": [
    "data_train.head()"
   ]
  },
  {
   "cell_type": "code",
   "execution_count": null,
   "metadata": {
    "ExecuteTime": {
     "end_time": "2018-01-25T12:49:02.132013Z",
     "start_time": "2018-01-25T12:49:02.094914Z"
    },
    "collapsed": true
   },
   "outputs": [],
   "source": [
    "pd.pivot_table(data_train,index =['Title2','Embarked'],values =['Age'],aggfunc = [np.sum,len,np.mean]\n",
    "# pd.pivot_table(data_train,index =['Title2','Embarked'],values =['Age'],aggfunc = [np.sum,len,np.mean],\n",
    "#                fill_value =0,margins =True)\n",
    "               "
   ]
  },
  {
   "cell_type": "code",
   "execution_count": null,
   "metadata": {
    "ExecuteTime": {
     "end_time": "2018-01-25T12:58:27.381500Z",
     "start_time": "2018-01-25T12:58:27.341350Z"
    },
    "collapsed": true
   },
   "outputs": [],
   "source": [
    "table = pd.pivot_table(data_train,index =['Title2','Embarked'],values =['Age'],columns = ['Sex_bool'],aggfunc = [np.sum,len,np.mean])  \n",
    "# table.query('Embarked ==[\"C\",\"S\"]')\n",
    "# table.query('Embarked == [\"C\"]').query('Title2 ==[\"Master\"] ')"
   ]
  },
  {
   "cell_type": "code",
   "execution_count": null,
   "metadata": {
    "ExecuteTime": {
     "end_time": "2018-01-25T12:42:40.838630Z",
     "start_time": "2018-01-25T12:42:40.830608Z"
    },
    "collapsed": true
   },
   "outputs": [],
   "source": [
    "data_train.Title2.value_counts()"
   ]
  },
  {
   "cell_type": "code",
   "execution_count": null,
   "metadata": {
    "ExecuteTime": {
     "end_time": "2018-02-22T11:40:54.246706Z",
     "start_time": "2018-02-22T11:40:54.228659Z"
    },
    "collapsed": true
   },
   "outputs": [],
   "source": [
    "data = pd.read_csv('Pratice_Data.csv',encoding = 'utf-8')"
   ]
  },
  {
   "cell_type": "code",
   "execution_count": null,
   "metadata": {
    "ExecuteTime": {
     "end_time": "2018-02-22T11:50:01.873225Z",
     "start_time": "2018-02-22T11:50:01.867210Z"
    },
    "collapsed": true
   },
   "outputs": [],
   "source": [
    "# 处理分割字段\n",
    "genre_iter = (set(x.split('|')) for x in data.genres)\n",
    "\n",
    "genres = sorted(set.union(*genre_iter))\n",
    "\n",
    "dummies = pd.DataFrame(np.zeros((len(data),len(genres))),columns = genres)\n",
    "for i,gen in enumerate(data.genres):\n",
    "    dummies.loc[i,gen.split('|')] = 1\n",
    "\n",
    "data_genres = data.join(dummies.add_prefix('Genre_'))\n"
   ]
  },
  {
   "cell_type": "markdown",
   "metadata": {},
   "source": [
    "### 处理时间字段"
   ]
  },
  {
   "cell_type": "markdown",
   "metadata": {},
   "source": [
    "#### 拆分时间段：年、月、日、小时、分钟、 星期、季度\n",
    "#### 日期偏移：\n",
    "#### 日期区间切片：\n"
   ]
  },
  {
   "cell_type": "code",
   "execution_count": null,
   "metadata": {
    "ExecuteTime": {
     "end_time": "2018-02-22T12:22:27.198055Z",
     "start_time": "2018-02-22T12:22:27.194044Z"
    },
    "collapsed": true
   },
   "outputs": [],
   "source": [
    "from datetime import datetime,timedelta"
   ]
  },
  {
   "cell_type": "code",
   "execution_count": null,
   "metadata": {
    "ExecuteTime": {
     "end_time": "2018-02-22T12:24:49.092669Z",
     "start_time": "2018-02-22T12:24:48.615347Z"
    },
    "collapsed": true
   },
   "outputs": [],
   "source": [
    "data['Timestamp'] = data['timestamp'].apply(lambda x: pd.to_datetime(x))"
   ]
  },
  {
   "cell_type": "code",
   "execution_count": null,
   "metadata": {
    "ExecuteTime": {
     "end_time": "2018-02-22T13:53:40.160707Z",
     "start_time": "2018-02-22T13:53:40.115589Z"
    },
    "collapsed": true
   },
   "outputs": [],
   "source": [
    "data['year'] = data['Timestamp'].apply(lambda x:x.year)\n",
    "data['month'] = data['Timestamp'].apply(lambda x:x.month)\n",
    "data['day'] = data['Timestamp'].apply(lambda x:x.day)\n",
    "data['hour'] = data['Timestamp'].apply(lambda x:x.hour)\n",
    "data['minute'] = data['Timestamp'].apply(lambda x:x.minute)\n",
    "data['second'] = data['Timestamp'].apply(lambda x:x.second)\n",
    "# 星期\n",
    "data['weekday'] = data['Timestamp'].apply(lambda x:x.weekday()+1)"
   ]
  },
  {
   "cell_type": "code",
   "execution_count": null,
   "metadata": {
    "ExecuteTime": {
     "end_time": "2018-02-22T14:05:44.206083Z",
     "start_time": "2018-02-22T14:05:44.199065Z"
    },
    "collapsed": true
   },
   "outputs": [],
   "source": [
    "#数据切片\n",
    "data_test = data.loc[(data['Timestamp']>datetime(2005,12,31))&(data['Timestamp']<datetime(2007,12,31)),:]"
   ]
  },
  {
   "cell_type": "code",
   "execution_count": null,
   "metadata": {
    "ExecuteTime": {
     "end_time": "2018-02-22T13:08:56.557528Z",
     "start_time": "2018-02-22T13:08:56.551511Z"
    },
    "collapsed": true
   },
   "outputs": [],
   "source": [
    "str1 = '03/23/2009 08:30:00'\n",
    "time_pk = datetime.strptime(str1,'%m/%d/%Y %H:%M:%S')\n",
    "pd_pk = pd.to_datetime(str1)\n",
    "\n",
    "#将datetime 转化为 str\n",
    "pd_pk.strftime('%Y-%m-%d')"
   ]
  },
  {
   "cell_type": "code",
   "execution_count": null,
   "metadata": {
    "ExecuteTime": {
     "end_time": "2018-02-22T13:21:09.176237Z",
     "start_time": "2018-02-22T13:21:09.168243Z"
    },
    "collapsed": true
   },
   "outputs": [],
   "source": [
    "# 时间偏移\n",
    "# pandas 包\n",
    "from pandas.tseries.offsets import *\n",
    "pd_pk + Day(5)\n",
    "pd_pk + DateOffset(months = -5,days = 5)\n",
    "#  'years', 'months', 'weeks', 'days',\n",
    "#  'year', 'month', 'week', 'day', \n",
    "#  'weekday','hour', 'minute', 'second', 'microsecond'\n",
    "\n",
    "# 月初 月末\n",
    "pd_pk + DateOffset(days = 1-pd_pk.day)\n",
    "pd_pk + DateOffset(months = 1, days = -pd_pk.day)\n",
    "\n",
    "# 季初 季末\n",
    "pd_pk + DateOffset(months = -((pd_pk.month - 1) % 3),days = 1-pd_pk.day)\n",
    "pd_pk + DateOffset(months =3 - ((pd_pk.month - 1) % 3), days = -pd_pk.day)\n",
    "\n",
    "# 年初 年末\n",
    "pd_pk + DateOffset(years = 1- pd_pk.month ,days = 1-pd_pk.day)\n",
    "pd_pk + DateOffset(years =1 ,months =1 - pd_pk.month, days = -pd_pk.day)"
   ]
  },
  {
   "cell_type": "code",
   "execution_count": null,
   "metadata": {
    "collapsed": true
   },
   "outputs": [],
   "source": []
  },
  {
   "cell_type": "code",
   "execution_count": null,
   "metadata": {
    "collapsed": true
   },
   "outputs": [],
   "source": [
    "ou can use pd.isin().\n",
    "# https://stackoverflow.com/questions/32980087/pandas-not-in-in-and-between\n",
    "For \"IN\" use: something.isin(somewhere)\n",
    "\n",
    "Or for \"NOT IN\": ~something.isin(somewhere)"
   ]
  }
 ],
 "metadata": {
  "kernelspec": {
   "display_name": "python_3",
   "language": "python",
   "name": "python_3"
  },
  "language_info": {
   "codemirror_mode": {
    "name": "ipython",
    "version": 3
   },
   "file_extension": ".py",
   "mimetype": "text/x-python",
   "name": "python",
   "nbconvert_exporter": "python",
   "pygments_lexer": "ipython3",
   "version": "3.6.2"
  }
 },
 "nbformat": 4,
 "nbformat_minor": 2
}
