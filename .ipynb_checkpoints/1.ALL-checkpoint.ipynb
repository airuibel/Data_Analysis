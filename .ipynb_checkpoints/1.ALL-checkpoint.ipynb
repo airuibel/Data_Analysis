{
 "cells": [
  {
   "cell_type": "markdown",
   "metadata": {},
   "source": [
    "### Step1: 导入必要的库"
   ]
  },
  {
   "cell_type": "code",
   "execution_count": 3,
   "metadata": {
    "ExecuteTime": {
     "end_time": "2018-04-07T11:47:28.993686Z",
     "start_time": "2018-04-07T11:47:27.981603Z"
    },
    "collapsed": true
   },
   "outputs": [],
   "source": [
    "import pandas as pd #数据分析\n",
    "import numpy as np #科学计算\n",
    "import matplotlib\n",
    "import matplotlib.pyplot as plt\n",
    "import seaborn as sns"
   ]
  },
  {
   "cell_type": "code",
   "execution_count": 4,
   "metadata": {
    "ExecuteTime": {
     "end_time": "2018-04-07T11:47:29.483428Z",
     "start_time": "2018-04-07T11:47:29.478286Z"
    },
    "collapsed": true
   },
   "outputs": [],
   "source": [
    "import os\n",
    "os.chdir('D:\\\\Python\\\\Git_test\\\\Data_Analysis')"
   ]
  },
  {
   "cell_type": "markdown",
   "metadata": {},
   "source": [
    "## 一、数据读取"
   ]
  },
  {
   "cell_type": "markdown",
   "metadata": {},
   "source": [
    "### 1.1. CSV"
   ]
  },
  {
   "cell_type": "markdown",
   "metadata": {},
   "source": [
    "从csv中数据读取,(不包括索引列)  读取./input/pratice_data.csv数据"
   ]
  },
  {
   "cell_type": "code",
   "execution_count": 5,
   "metadata": {
    "ExecuteTime": {
     "end_time": "2018-04-07T11:47:32.161291Z",
     "start_time": "2018-04-07T11:47:32.143627Z"
    },
    "collapsed": true
   },
   "outputs": [],
   "source": [
    "data_train = pd.read_csv(\"./input/pratice_data.csv\",index_col = 0)"
   ]
  },
  {
   "cell_type": "markdown",
   "metadata": {},
   "source": [
    "### 1.2.copy备份数据"
   ]
  },
  {
   "cell_type": "code",
   "execution_count": null,
   "metadata": {
    "ExecuteTime": {
     "end_time": "2018-03-17T08:12:09.694474Z",
     "start_time": "2018-03-17T08:12:09.690465Z"
    },
    "collapsed": true
   },
   "outputs": [],
   "source": [
    "data = data_train.copy()"
   ]
  },
  {
   "cell_type": "code",
   "execution_count": null,
   "metadata": {
    "collapsed": true
   },
   "outputs": [],
   "source": []
  },
  {
   "cell_type": "markdown",
   "metadata": {},
   "source": [
    "## 二、数据观察"
   ]
  },
  {
   "cell_type": "code",
   "execution_count": 90,
   "metadata": {
    "ExecuteTime": {
     "end_time": "2018-04-07T02:18:47.107249Z",
     "start_time": "2018-04-07T02:18:47.074566Z"
    },
    "collapsed": true
   },
   "outputs": [
    {
     "data": {
      "text/html": [
       "<div>\n",
       "<style scoped>\n",
       "    .dataframe tbody tr th:only-of-type {\n",
       "        vertical-align: middle;\n",
       "    }\n",
       "\n",
       "    .dataframe tbody tr th {\n",
       "        vertical-align: top;\n",
       "    }\n",
       "\n",
       "    .dataframe thead th {\n",
       "        text-align: right;\n",
       "    }\n",
       "</style>\n",
       "<table border=\"1\" class=\"dataframe\">\n",
       "  <thead>\n",
       "    <tr style=\"text-align: right;\">\n",
       "      <th></th>\n",
       "      <th>id</th>\n",
       "      <th>Age</th>\n",
       "      <th>Cabin</th>\n",
       "      <th>Embarked</th>\n",
       "      <th>Fare</th>\n",
       "      <th>Name</th>\n",
       "      <th>Parch</th>\n",
       "      <th>PassengerId</th>\n",
       "      <th>Pclass</th>\n",
       "      <th>Sex</th>\n",
       "      <th>SibSp</th>\n",
       "      <th>Survived</th>\n",
       "      <th>Ticket</th>\n",
       "      <th>timestamp</th>\n",
       "      <th>title</th>\n",
       "      <th>genres</th>\n",
       "      <th>rating</th>\n",
       "      <th>timestamp_1</th>\n",
       "    </tr>\n",
       "  </thead>\n",
       "  <tbody>\n",
       "    <tr>\n",
       "      <th>0</th>\n",
       "      <td>0</td>\n",
       "      <td>22.0</td>\n",
       "      <td>NaN</td>\n",
       "      <td>S</td>\n",
       "      <td>7.2500</td>\n",
       "      <td>Braund, Mr. Owen Harris</td>\n",
       "      <td>0</td>\n",
       "      <td>1</td>\n",
       "      <td>3</td>\n",
       "      <td>male</td>\n",
       "      <td>1</td>\n",
       "      <td>0.0</td>\n",
       "      <td>A/5 21171</td>\n",
       "      <td>03/23/2009 08:30:00</td>\n",
       "      <td>Toy Story (1995)</td>\n",
       "      <td>Animation|Children's|Comedy</td>\n",
       "      <td>5</td>\n",
       "      <td>978300760</td>\n",
       "    </tr>\n",
       "    <tr>\n",
       "      <th>1</th>\n",
       "      <td>1</td>\n",
       "      <td>38.0</td>\n",
       "      <td>C85</td>\n",
       "      <td>C</td>\n",
       "      <td>71.2833</td>\n",
       "      <td>Cumings, Mrs. John Bradley (Florence Briggs Th...</td>\n",
       "      <td>0</td>\n",
       "      <td>2</td>\n",
       "      <td>1</td>\n",
       "      <td>female</td>\n",
       "      <td>1</td>\n",
       "      <td>1.0</td>\n",
       "      <td>PC 17599</td>\n",
       "      <td>03/26/2015 19:10:00</td>\n",
       "      <td>Jumanji (1995)</td>\n",
       "      <td>Adventure|Children's|Fantasy</td>\n",
       "      <td>3</td>\n",
       "      <td>978302109</td>\n",
       "    </tr>\n",
       "    <tr>\n",
       "      <th>2</th>\n",
       "      <td>2</td>\n",
       "      <td>26.0</td>\n",
       "      <td>NaN</td>\n",
       "      <td>S</td>\n",
       "      <td>7.9250</td>\n",
       "      <td>Heikkinen, Miss. Laina</td>\n",
       "      <td>0</td>\n",
       "      <td>3</td>\n",
       "      <td>3</td>\n",
       "      <td>female</td>\n",
       "      <td>0</td>\n",
       "      <td>1.0</td>\n",
       "      <td>STON/O2. 3101282</td>\n",
       "      <td>01/07/2007 07:45:00</td>\n",
       "      <td>Grumpier Old Men (1995)</td>\n",
       "      <td>Comedy|Romance</td>\n",
       "      <td>3</td>\n",
       "      <td>978301968</td>\n",
       "    </tr>\n",
       "    <tr>\n",
       "      <th>3</th>\n",
       "      <td>3</td>\n",
       "      <td>35.0</td>\n",
       "      <td>C123</td>\n",
       "      <td>S</td>\n",
       "      <td>53.1000</td>\n",
       "      <td>Futrelle, Mrs. Jacques Heath (Lily May Peel)</td>\n",
       "      <td>0</td>\n",
       "      <td>4</td>\n",
       "      <td>1</td>\n",
       "      <td>female</td>\n",
       "      <td>1</td>\n",
       "      <td>1.0</td>\n",
       "      <td>113803</td>\n",
       "      <td>04/18/2005 00:10:00</td>\n",
       "      <td>Waiting to Exhale (1995)</td>\n",
       "      <td>Comedy|Drama</td>\n",
       "      <td>4</td>\n",
       "      <td>978300275</td>\n",
       "    </tr>\n",
       "    <tr>\n",
       "      <th>4</th>\n",
       "      <td>4</td>\n",
       "      <td>35.0</td>\n",
       "      <td>NaN</td>\n",
       "      <td>S</td>\n",
       "      <td>8.0500</td>\n",
       "      <td>Allen, Mr. William Henry</td>\n",
       "      <td>0</td>\n",
       "      <td>5</td>\n",
       "      <td>3</td>\n",
       "      <td>male</td>\n",
       "      <td>0</td>\n",
       "      <td>0.0</td>\n",
       "      <td>373450</td>\n",
       "      <td>02/25/2009 09:40:00</td>\n",
       "      <td>Father of the Bride Part II (1995)</td>\n",
       "      <td>Comedy</td>\n",
       "      <td>5</td>\n",
       "      <td>978824291</td>\n",
       "    </tr>\n",
       "  </tbody>\n",
       "</table>\n",
       "</div>"
      ],
      "text/plain": [
       "   id   Age Cabin Embarked     Fare  \\\n",
       "0   0  22.0   NaN        S   7.2500   \n",
       "1   1  38.0   C85        C  71.2833   \n",
       "2   2  26.0   NaN        S   7.9250   \n",
       "3   3  35.0  C123        S  53.1000   \n",
       "4   4  35.0   NaN        S   8.0500   \n",
       "\n",
       "                                                Name  Parch  PassengerId  \\\n",
       "0                            Braund, Mr. Owen Harris      0            1   \n",
       "1  Cumings, Mrs. John Bradley (Florence Briggs Th...      0            2   \n",
       "2                             Heikkinen, Miss. Laina      0            3   \n",
       "3       Futrelle, Mrs. Jacques Heath (Lily May Peel)      0            4   \n",
       "4                           Allen, Mr. William Henry      0            5   \n",
       "\n",
       "   Pclass     Sex  SibSp  Survived            Ticket            timestamp  \\\n",
       "0       3    male      1       0.0         A/5 21171  03/23/2009 08:30:00   \n",
       "1       1  female      1       1.0          PC 17599  03/26/2015 19:10:00   \n",
       "2       3  female      0       1.0  STON/O2. 3101282  01/07/2007 07:45:00   \n",
       "3       1  female      1       1.0            113803  04/18/2005 00:10:00   \n",
       "4       3    male      0       0.0            373450  02/25/2009 09:40:00   \n",
       "\n",
       "                                title                        genres  rating  \\\n",
       "0                    Toy Story (1995)   Animation|Children's|Comedy       5   \n",
       "1                      Jumanji (1995)  Adventure|Children's|Fantasy       3   \n",
       "2             Grumpier Old Men (1995)                Comedy|Romance       3   \n",
       "3            Waiting to Exhale (1995)                  Comedy|Drama       4   \n",
       "4  Father of the Bride Part II (1995)                        Comedy       5   \n",
       "\n",
       "   timestamp_1  \n",
       "0    978300760  \n",
       "1    978302109  \n",
       "2    978301968  \n",
       "3    978300275  \n",
       "4    978824291  "
      ]
     },
     "execution_count": 90,
     "metadata": {},
     "output_type": "execute_result"
    }
   ],
   "source": [
    "data_train.head()  #查看前5行\n",
    "# data_train.tail()"
   ]
  },
  {
   "cell_type": "code",
   "execution_count": null,
   "metadata": {
    "ExecuteTime": {
     "end_time": "2018-01-17T13:02:47.097272Z",
     "start_time": "2018-01-17T13:02:47.091257Z"
    },
    "collapsed": true
   },
   "outputs": [],
   "source": [
    "data_train.shape"
   ]
  },
  {
   "cell_type": "code",
   "execution_count": null,
   "metadata": {
    "ExecuteTime": {
     "end_time": "2018-01-17T10:28:11.067555Z",
     "start_time": "2018-01-17T10:28:11.061540Z"
    },
    "collapsed": true
   },
   "outputs": [],
   "source": [
    "data_train.index"
   ]
  },
  {
   "cell_type": "code",
   "execution_count": null,
   "metadata": {
    "ExecuteTime": {
     "end_time": "2018-01-30T00:32:17.118930Z",
     "start_time": "2018-01-30T00:32:17.103852Z"
    },
    "collapsed": true
   },
   "outputs": [],
   "source": [
    "data_train.columns"
   ]
  },
  {
   "cell_type": "code",
   "execution_count": null,
   "metadata": {
    "ExecuteTime": {
     "end_time": "2018-01-17T10:28:33.318539Z",
     "start_time": "2018-01-17T10:28:33.311520Z"
    },
    "collapsed": true
   },
   "outputs": [],
   "source": [
    "data_train.values"
   ]
  },
  {
   "cell_type": "code",
   "execution_count": null,
   "metadata": {
    "collapsed": true
   },
   "outputs": [],
   "source": [
    "data_train.describe() \n",
    "# data_train.columns.tolist()\n",
    "#  dir(df.describe()) #显示所有属性\n",
    "des_data = data_train[['Age','Fare','Pclass']].describe()\n",
    "np.round(des_data.T,2)  #结果保留2位小数\n",
    "\n",
    "# pandas.isnull  alias of isna  #别名"
   ]
  },
  {
   "cell_type": "markdown",
   "metadata": {},
   "source": [
    "####  两种方式查看数据框内存大小"
   ]
  },
  {
   "cell_type": "code",
   "execution_count": 143,
   "metadata": {
    "ExecuteTime": {
     "end_time": "2018-04-07T04:47:16.786721Z",
     "start_time": "2018-04-07T04:47:16.777892Z"
    }
   },
   "outputs": [
    {
     "data": {
      "text/plain": [
       "604487"
      ]
     },
     "execution_count": 143,
     "metadata": {},
     "output_type": "execute_result"
    }
   ],
   "source": [
    "import sys\n",
    "\n",
    "sys.getsizeof(data_obj)  \n",
    "data_obj.memory_usage(deep = True).sum()"
   ]
  },
  {
   "cell_type": "markdown",
   "metadata": {},
   "source": [
    "## 三、查看不同变量的类型\n",
    "三种类型  'float','int','object' "
   ]
  },
  {
   "cell_type": "code",
   "execution_count": 145,
   "metadata": {
    "ExecuteTime": {
     "end_time": "2018-04-07T05:04:16.375156Z",
     "start_time": "2018-04-07T05:04:16.360827Z"
    },
    "collapsed": true
   },
   "outputs": [
    {
     "name": "stdout",
     "output_type": "stream",
     "text": [
      "<class 'pandas.core.frame.DataFrame'>\n",
      "Int64Index: 1309 entries, 0 to 1308\n",
      "Data columns (total 18 columns):\n",
      "id             1309 non-null int64\n",
      "Age            1046 non-null float64\n",
      "Cabin          295 non-null object\n",
      "Embarked       1307 non-null object\n",
      "Fare           1308 non-null float64\n",
      "Name           1309 non-null object\n",
      "Parch          1309 non-null int64\n",
      "PassengerId    1309 non-null int64\n",
      "Pclass         1309 non-null int64\n",
      "Sex            1309 non-null object\n",
      "SibSp          1309 non-null int64\n",
      "Survived       891 non-null float64\n",
      "Ticket         1309 non-null object\n",
      "timestamp      1309 non-null object\n",
      "title          1309 non-null object\n",
      "genres         1309 non-null object\n",
      "rating         1309 non-null int64\n",
      "timestamp_1    1309 non-null int64\n",
      "dtypes: float64(3), int64(7), object(8)\n",
      "memory usage: 837.7 KB\n"
     ]
    }
   ],
   "source": [
    "data_train.info(verbose = True, memory_usage = 'deep') "
   ]
  },
  {
   "cell_type": "markdown",
   "metadata": {},
   "source": [
    "### 改变变量类型,降低内存占用"
   ]
  },
  {
   "cell_type": "markdown",
   "metadata": {},
   "source": [
    "### 选择出 object 变量"
   ]
  },
  {
   "cell_type": "code",
   "execution_count": 147,
   "metadata": {
    "ExecuteTime": {
     "end_time": "2018-04-07T05:55:55.356448Z",
     "start_time": "2018-04-07T05:55:55.347615Z"
    },
    "collapsed": true
   },
   "outputs": [],
   "source": [
    "data_obj = data_train.select_dtypes(include = ['object']).copy()"
   ]
  },
  {
   "cell_type": "code",
   "execution_count": 141,
   "metadata": {
    "ExecuteTime": {
     "end_time": "2018-04-07T04:46:55.629613Z",
     "start_time": "2018-04-07T04:46:55.604249Z"
    },
    "collapsed": true
   },
   "outputs": [],
   "source": [
    "for col in data_obj.columns:\n",
    "    data_obj[col] = data_obj[col].astype('category') # 转变成因子变量 ,减小内存\n",
    "data_obj.info()"
   ]
  },
  {
   "cell_type": "markdown",
   "metadata": {},
   "source": [
    "### 选择出 数值型int 变量PassenagerID 变为 int16\n",
    "整形有int16 int32(int) int64"
   ]
  },
  {
   "cell_type": "code",
   "execution_count": 149,
   "metadata": {
    "ExecuteTime": {
     "end_time": "2018-04-07T05:56:42.933778Z",
     "start_time": "2018-04-07T05:56:42.926910Z"
    },
    "collapsed": true
   },
   "outputs": [],
   "source": [
    "data_train['PassengerId'] = data_train['PassengerId'].astype('int16',copy =False)  "
   ]
  },
  {
   "cell_type": "markdown",
   "metadata": {},
   "source": [
    "### 因子变量统计"
   ]
  },
  {
   "cell_type": "markdown",
   "metadata": {},
   "source": [
    "### 查看Embarked字段 不同取值"
   ]
  },
  {
   "cell_type": "code",
   "execution_count": null,
   "metadata": {
    "ExecuteTime": {
     "end_time": "2018-01-27T07:21:13.568292Z",
     "start_time": "2018-01-27T07:21:13.554252Z"
    },
    "collapsed": true
   },
   "outputs": [],
   "source": [
    "data_train['Embarked'].unique()"
   ]
  },
  {
   "cell_type": "markdown",
   "metadata": {},
   "source": [
    "### 查看Embarked字段 不同取值 出现频次"
   ]
  },
  {
   "cell_type": "code",
   "execution_count": null,
   "metadata": {
    "ExecuteTime": {
     "end_time": "2018-01-30T00:32:39.370150Z",
     "start_time": "2018-01-30T00:32:39.355107Z"
    },
    "collapsed": true
   },
   "outputs": [],
   "source": [
    "data_train['Embarked'].value_counts(dropna =False) # 不忽略缺失值"
   ]
  },
  {
   "cell_type": "markdown",
   "metadata": {},
   "source": [
    "## 四、缺失值\n",
    "* 查看缺失值： 统计缺失值数，分布\n",
    "* 缺失值处理：\n",
    "    + 缺失值删除（按行，按列[某几列]）\n",
    "    + 缺失值填充 \n",
    "        - 基于统计方法：众数、中位数、均值\n",
    "        - 基于模型方法：随机森林"
   ]
  },
  {
   "cell_type": "markdown",
   "metadata": {},
   "source": [
    "### 查看缺失值数量\n"
   ]
  },
  {
   "cell_type": "code",
   "execution_count": null,
   "metadata": {
    "ExecuteTime": {
     "end_time": "2018-01-30T00:32:47.081394Z",
     "start_time": "2018-01-30T00:32:47.065381Z"
    },
    "collapsed": true
   },
   "outputs": [],
   "source": [
    "data_train.isnull().sum()"
   ]
  },
  {
   "cell_type": "markdown",
   "metadata": {},
   "source": [
    "### 查看非缺失值数量"
   ]
  },
  {
   "cell_type": "code",
   "execution_count": null,
   "metadata": {
    "ExecuteTime": {
     "end_time": "2018-01-25T12:30:06.216346Z",
     "start_time": "2018-01-25T12:30:06.205317Z"
    },
    "collapsed": true
   },
   "outputs": [],
   "source": [
    "data_train.notnull().sum()"
   ]
  },
  {
   "cell_type": "markdown",
   "metadata": {},
   "source": [
    "### 查看在数据框中的分布情况"
   ]
  },
  {
   "cell_type": "code",
   "execution_count": 1,
   "metadata": {
    "ExecuteTime": {
     "end_time": "2018-04-07T11:46:55.795342Z",
     "start_time": "2018-04-07T11:46:55.762958Z"
    },
    "collapsed": true
   },
   "outputs": [],
   "source": [
    "def md_patten(data):\n",
    "    \"\"\"\n",
    "    Display missing-data patterns. and highlight the missing values\n",
    "    \"\"\"\n",
    "    df = data.isnull().replace({True:-1,False:0})\n",
    "    df['.Row_Nums'] = 1\n",
    "\n",
    "    df1 = df.groupby(by=list(data.columns)).agg(sum).sort_values('.Row_Nums',ascending =False).reset_index()\n",
    "    df2 = data.isnull().sum().to_frame().T.rename(index = {0:' '})\n",
    "    tem = pd.concat([df1,df2]).fillna('Missing_Nums')\n",
    "    return tem\n",
    "\n",
    "def showHight(col):\n",
    "    \"\"\"\n",
    "    Highlight certain values.\n",
    "    \"\"\"\n",
    "    c = col ==-1\n",
    "    #c = col ==col.max()\n",
    "    return ['background-color:red' if v else ' ' for v in c]\n"
   ]
  },
  {
   "cell_type": "markdown",
   "metadata": {
    "ExecuteTime": {
     "end_time": "2018-04-07T11:49:31.260704Z",
     "start_time": "2018-04-07T11:49:31.242058Z"
    }
   },
   "source": [
    "运用md_patten函数以及style风格"
   ]
  },
  {
   "cell_type": "code",
   "execution_count": 8,
   "metadata": {
    "ExecuteTime": {
     "end_time": "2018-04-07T11:48:49.976614Z",
     "start_time": "2018-04-07T11:48:49.196254Z"
    }
   },
   "outputs": [
    {
     "data": {
      "text/html": [
       "<style  type=\"text/css\" >\n",
       "    #T_a3378cee_3a59_11e8_9d23_aaa795456fa7row0_col2 {\n",
       "            background-color: red;\n",
       "        }    #T_a3378cee_3a59_11e8_9d23_aaa795456fa7row1_col2 {\n",
       "            background-color: red;\n",
       "        }    #T_a3378cee_3a59_11e8_9d23_aaa795456fa7row1_col11 {\n",
       "            background-color: red;\n",
       "        }    #T_a3378cee_3a59_11e8_9d23_aaa795456fa7row3_col1 {\n",
       "            background-color: red;\n",
       "        }    #T_a3378cee_3a59_11e8_9d23_aaa795456fa7row3_col2 {\n",
       "            background-color: red;\n",
       "        }    #T_a3378cee_3a59_11e8_9d23_aaa795456fa7row4_col11 {\n",
       "            background-color: red;\n",
       "        }    #T_a3378cee_3a59_11e8_9d23_aaa795456fa7row5_col1 {\n",
       "            background-color: red;\n",
       "        }    #T_a3378cee_3a59_11e8_9d23_aaa795456fa7row5_col2 {\n",
       "            background-color: red;\n",
       "        }    #T_a3378cee_3a59_11e8_9d23_aaa795456fa7row5_col11 {\n",
       "            background-color: red;\n",
       "        }    #T_a3378cee_3a59_11e8_9d23_aaa795456fa7row6_col1 {\n",
       "            background-color: red;\n",
       "        }    #T_a3378cee_3a59_11e8_9d23_aaa795456fa7row7_col1 {\n",
       "            background-color: red;\n",
       "        }    #T_a3378cee_3a59_11e8_9d23_aaa795456fa7row7_col11 {\n",
       "            background-color: red;\n",
       "        }    #T_a3378cee_3a59_11e8_9d23_aaa795456fa7row8_col3 {\n",
       "            background-color: red;\n",
       "        }    #T_a3378cee_3a59_11e8_9d23_aaa795456fa7row9_col2 {\n",
       "            background-color: red;\n",
       "        }    #T_a3378cee_3a59_11e8_9d23_aaa795456fa7row9_col4 {\n",
       "            background-color: red;\n",
       "        }    #T_a3378cee_3a59_11e8_9d23_aaa795456fa7row9_col11 {\n",
       "            background-color: red;\n",
       "        }</style>  \n",
       "<table id=\"T_a3378cee_3a59_11e8_9d23_aaa795456fa7\" > \n",
       "<thead>    <tr> \n",
       "        <th class=\"blank level0\" ></th> \n",
       "        <th class=\"col_heading level0 col0\" >.Row_Nums</th> \n",
       "        <th class=\"col_heading level0 col1\" >Age</th> \n",
       "        <th class=\"col_heading level0 col2\" >Cabin</th> \n",
       "        <th class=\"col_heading level0 col3\" >Embarked</th> \n",
       "        <th class=\"col_heading level0 col4\" >Fare</th> \n",
       "        <th class=\"col_heading level0 col5\" >Name</th> \n",
       "        <th class=\"col_heading level0 col6\" >Parch</th> \n",
       "        <th class=\"col_heading level0 col7\" >PassengerId</th> \n",
       "        <th class=\"col_heading level0 col8\" >Pclass</th> \n",
       "        <th class=\"col_heading level0 col9\" >Sex</th> \n",
       "        <th class=\"col_heading level0 col10\" >SibSp</th> \n",
       "        <th class=\"col_heading level0 col11\" >Survived</th> \n",
       "        <th class=\"col_heading level0 col12\" >Ticket</th> \n",
       "        <th class=\"col_heading level0 col13\" >genres</th> \n",
       "        <th class=\"col_heading level0 col14\" >rating</th> \n",
       "        <th class=\"col_heading level0 col15\" >timestamp</th> \n",
       "        <th class=\"col_heading level0 col16\" >timestamp_1</th> \n",
       "        <th class=\"col_heading level0 col17\" >title</th> \n",
       "    </tr></thead> \n",
       "<tbody>    <tr> \n",
       "        <th id=\"T_a3378cee_3a59_11e8_9d23_aaa795456fa7level0_row0\" class=\"row_heading level0 row0\" >0</th> \n",
       "        <td id=\"T_a3378cee_3a59_11e8_9d23_aaa795456fa7row0_col0\" class=\"data row0 col0\" >529</td> \n",
       "        <td id=\"T_a3378cee_3a59_11e8_9d23_aaa795456fa7row0_col1\" class=\"data row0 col1\" >0</td> \n",
       "        <td id=\"T_a3378cee_3a59_11e8_9d23_aaa795456fa7row0_col2\" class=\"data row0 col2\" >-1</td> \n",
       "        <td id=\"T_a3378cee_3a59_11e8_9d23_aaa795456fa7row0_col3\" class=\"data row0 col3\" >0</td> \n",
       "        <td id=\"T_a3378cee_3a59_11e8_9d23_aaa795456fa7row0_col4\" class=\"data row0 col4\" >0</td> \n",
       "        <td id=\"T_a3378cee_3a59_11e8_9d23_aaa795456fa7row0_col5\" class=\"data row0 col5\" >0</td> \n",
       "        <td id=\"T_a3378cee_3a59_11e8_9d23_aaa795456fa7row0_col6\" class=\"data row0 col6\" >0</td> \n",
       "        <td id=\"T_a3378cee_3a59_11e8_9d23_aaa795456fa7row0_col7\" class=\"data row0 col7\" >0</td> \n",
       "        <td id=\"T_a3378cee_3a59_11e8_9d23_aaa795456fa7row0_col8\" class=\"data row0 col8\" >0</td> \n",
       "        <td id=\"T_a3378cee_3a59_11e8_9d23_aaa795456fa7row0_col9\" class=\"data row0 col9\" >0</td> \n",
       "        <td id=\"T_a3378cee_3a59_11e8_9d23_aaa795456fa7row0_col10\" class=\"data row0 col10\" >0</td> \n",
       "        <td id=\"T_a3378cee_3a59_11e8_9d23_aaa795456fa7row0_col11\" class=\"data row0 col11\" >0</td> \n",
       "        <td id=\"T_a3378cee_3a59_11e8_9d23_aaa795456fa7row0_col12\" class=\"data row0 col12\" >0</td> \n",
       "        <td id=\"T_a3378cee_3a59_11e8_9d23_aaa795456fa7row0_col13\" class=\"data row0 col13\" >0</td> \n",
       "        <td id=\"T_a3378cee_3a59_11e8_9d23_aaa795456fa7row0_col14\" class=\"data row0 col14\" >0</td> \n",
       "        <td id=\"T_a3378cee_3a59_11e8_9d23_aaa795456fa7row0_col15\" class=\"data row0 col15\" >0</td> \n",
       "        <td id=\"T_a3378cee_3a59_11e8_9d23_aaa795456fa7row0_col16\" class=\"data row0 col16\" >0</td> \n",
       "        <td id=\"T_a3378cee_3a59_11e8_9d23_aaa795456fa7row0_col17\" class=\"data row0 col17\" >0</td> \n",
       "    </tr>    <tr> \n",
       "        <th id=\"T_a3378cee_3a59_11e8_9d23_aaa795456fa7level0_row1\" class=\"row_heading level0 row1\" >1</th> \n",
       "        <td id=\"T_a3378cee_3a59_11e8_9d23_aaa795456fa7row1_col0\" class=\"data row1 col0\" >244</td> \n",
       "        <td id=\"T_a3378cee_3a59_11e8_9d23_aaa795456fa7row1_col1\" class=\"data row1 col1\" >0</td> \n",
       "        <td id=\"T_a3378cee_3a59_11e8_9d23_aaa795456fa7row1_col2\" class=\"data row1 col2\" >-1</td> \n",
       "        <td id=\"T_a3378cee_3a59_11e8_9d23_aaa795456fa7row1_col3\" class=\"data row1 col3\" >0</td> \n",
       "        <td id=\"T_a3378cee_3a59_11e8_9d23_aaa795456fa7row1_col4\" class=\"data row1 col4\" >0</td> \n",
       "        <td id=\"T_a3378cee_3a59_11e8_9d23_aaa795456fa7row1_col5\" class=\"data row1 col5\" >0</td> \n",
       "        <td id=\"T_a3378cee_3a59_11e8_9d23_aaa795456fa7row1_col6\" class=\"data row1 col6\" >0</td> \n",
       "        <td id=\"T_a3378cee_3a59_11e8_9d23_aaa795456fa7row1_col7\" class=\"data row1 col7\" >0</td> \n",
       "        <td id=\"T_a3378cee_3a59_11e8_9d23_aaa795456fa7row1_col8\" class=\"data row1 col8\" >0</td> \n",
       "        <td id=\"T_a3378cee_3a59_11e8_9d23_aaa795456fa7row1_col9\" class=\"data row1 col9\" >0</td> \n",
       "        <td id=\"T_a3378cee_3a59_11e8_9d23_aaa795456fa7row1_col10\" class=\"data row1 col10\" >0</td> \n",
       "        <td id=\"T_a3378cee_3a59_11e8_9d23_aaa795456fa7row1_col11\" class=\"data row1 col11\" >-1</td> \n",
       "        <td id=\"T_a3378cee_3a59_11e8_9d23_aaa795456fa7row1_col12\" class=\"data row1 col12\" >0</td> \n",
       "        <td id=\"T_a3378cee_3a59_11e8_9d23_aaa795456fa7row1_col13\" class=\"data row1 col13\" >0</td> \n",
       "        <td id=\"T_a3378cee_3a59_11e8_9d23_aaa795456fa7row1_col14\" class=\"data row1 col14\" >0</td> \n",
       "        <td id=\"T_a3378cee_3a59_11e8_9d23_aaa795456fa7row1_col15\" class=\"data row1 col15\" >0</td> \n",
       "        <td id=\"T_a3378cee_3a59_11e8_9d23_aaa795456fa7row1_col16\" class=\"data row1 col16\" >0</td> \n",
       "        <td id=\"T_a3378cee_3a59_11e8_9d23_aaa795456fa7row1_col17\" class=\"data row1 col17\" >0</td> \n",
       "    </tr>    <tr> \n",
       "        <th id=\"T_a3378cee_3a59_11e8_9d23_aaa795456fa7level0_row2\" class=\"row_heading level0 row2\" >2</th> \n",
       "        <td id=\"T_a3378cee_3a59_11e8_9d23_aaa795456fa7row2_col0\" class=\"data row2 col0\" >183</td> \n",
       "        <td id=\"T_a3378cee_3a59_11e8_9d23_aaa795456fa7row2_col1\" class=\"data row2 col1\" >0</td> \n",
       "        <td id=\"T_a3378cee_3a59_11e8_9d23_aaa795456fa7row2_col2\" class=\"data row2 col2\" >0</td> \n",
       "        <td id=\"T_a3378cee_3a59_11e8_9d23_aaa795456fa7row2_col3\" class=\"data row2 col3\" >0</td> \n",
       "        <td id=\"T_a3378cee_3a59_11e8_9d23_aaa795456fa7row2_col4\" class=\"data row2 col4\" >0</td> \n",
       "        <td id=\"T_a3378cee_3a59_11e8_9d23_aaa795456fa7row2_col5\" class=\"data row2 col5\" >0</td> \n",
       "        <td id=\"T_a3378cee_3a59_11e8_9d23_aaa795456fa7row2_col6\" class=\"data row2 col6\" >0</td> \n",
       "        <td id=\"T_a3378cee_3a59_11e8_9d23_aaa795456fa7row2_col7\" class=\"data row2 col7\" >0</td> \n",
       "        <td id=\"T_a3378cee_3a59_11e8_9d23_aaa795456fa7row2_col8\" class=\"data row2 col8\" >0</td> \n",
       "        <td id=\"T_a3378cee_3a59_11e8_9d23_aaa795456fa7row2_col9\" class=\"data row2 col9\" >0</td> \n",
       "        <td id=\"T_a3378cee_3a59_11e8_9d23_aaa795456fa7row2_col10\" class=\"data row2 col10\" >0</td> \n",
       "        <td id=\"T_a3378cee_3a59_11e8_9d23_aaa795456fa7row2_col11\" class=\"data row2 col11\" >0</td> \n",
       "        <td id=\"T_a3378cee_3a59_11e8_9d23_aaa795456fa7row2_col12\" class=\"data row2 col12\" >0</td> \n",
       "        <td id=\"T_a3378cee_3a59_11e8_9d23_aaa795456fa7row2_col13\" class=\"data row2 col13\" >0</td> \n",
       "        <td id=\"T_a3378cee_3a59_11e8_9d23_aaa795456fa7row2_col14\" class=\"data row2 col14\" >0</td> \n",
       "        <td id=\"T_a3378cee_3a59_11e8_9d23_aaa795456fa7row2_col15\" class=\"data row2 col15\" >0</td> \n",
       "        <td id=\"T_a3378cee_3a59_11e8_9d23_aaa795456fa7row2_col16\" class=\"data row2 col16\" >0</td> \n",
       "        <td id=\"T_a3378cee_3a59_11e8_9d23_aaa795456fa7row2_col17\" class=\"data row2 col17\" >0</td> \n",
       "    </tr>    <tr> \n",
       "        <th id=\"T_a3378cee_3a59_11e8_9d23_aaa795456fa7level0_row3\" class=\"row_heading level0 row3\" >3</th> \n",
       "        <td id=\"T_a3378cee_3a59_11e8_9d23_aaa795456fa7row3_col0\" class=\"data row3 col0\" >158</td> \n",
       "        <td id=\"T_a3378cee_3a59_11e8_9d23_aaa795456fa7row3_col1\" class=\"data row3 col1\" >-1</td> \n",
       "        <td id=\"T_a3378cee_3a59_11e8_9d23_aaa795456fa7row3_col2\" class=\"data row3 col2\" >-1</td> \n",
       "        <td id=\"T_a3378cee_3a59_11e8_9d23_aaa795456fa7row3_col3\" class=\"data row3 col3\" >0</td> \n",
       "        <td id=\"T_a3378cee_3a59_11e8_9d23_aaa795456fa7row3_col4\" class=\"data row3 col4\" >0</td> \n",
       "        <td id=\"T_a3378cee_3a59_11e8_9d23_aaa795456fa7row3_col5\" class=\"data row3 col5\" >0</td> \n",
       "        <td id=\"T_a3378cee_3a59_11e8_9d23_aaa795456fa7row3_col6\" class=\"data row3 col6\" >0</td> \n",
       "        <td id=\"T_a3378cee_3a59_11e8_9d23_aaa795456fa7row3_col7\" class=\"data row3 col7\" >0</td> \n",
       "        <td id=\"T_a3378cee_3a59_11e8_9d23_aaa795456fa7row3_col8\" class=\"data row3 col8\" >0</td> \n",
       "        <td id=\"T_a3378cee_3a59_11e8_9d23_aaa795456fa7row3_col9\" class=\"data row3 col9\" >0</td> \n",
       "        <td id=\"T_a3378cee_3a59_11e8_9d23_aaa795456fa7row3_col10\" class=\"data row3 col10\" >0</td> \n",
       "        <td id=\"T_a3378cee_3a59_11e8_9d23_aaa795456fa7row3_col11\" class=\"data row3 col11\" >0</td> \n",
       "        <td id=\"T_a3378cee_3a59_11e8_9d23_aaa795456fa7row3_col12\" class=\"data row3 col12\" >0</td> \n",
       "        <td id=\"T_a3378cee_3a59_11e8_9d23_aaa795456fa7row3_col13\" class=\"data row3 col13\" >0</td> \n",
       "        <td id=\"T_a3378cee_3a59_11e8_9d23_aaa795456fa7row3_col14\" class=\"data row3 col14\" >0</td> \n",
       "        <td id=\"T_a3378cee_3a59_11e8_9d23_aaa795456fa7row3_col15\" class=\"data row3 col15\" >0</td> \n",
       "        <td id=\"T_a3378cee_3a59_11e8_9d23_aaa795456fa7row3_col16\" class=\"data row3 col16\" >0</td> \n",
       "        <td id=\"T_a3378cee_3a59_11e8_9d23_aaa795456fa7row3_col17\" class=\"data row3 col17\" >0</td> \n",
       "    </tr>    <tr> \n",
       "        <th id=\"T_a3378cee_3a59_11e8_9d23_aaa795456fa7level0_row4\" class=\"row_heading level0 row4\" >4</th> \n",
       "        <td id=\"T_a3378cee_3a59_11e8_9d23_aaa795456fa7row4_col0\" class=\"data row4 col0\" >87</td> \n",
       "        <td id=\"T_a3378cee_3a59_11e8_9d23_aaa795456fa7row4_col1\" class=\"data row4 col1\" >0</td> \n",
       "        <td id=\"T_a3378cee_3a59_11e8_9d23_aaa795456fa7row4_col2\" class=\"data row4 col2\" >0</td> \n",
       "        <td id=\"T_a3378cee_3a59_11e8_9d23_aaa795456fa7row4_col3\" class=\"data row4 col3\" >0</td> \n",
       "        <td id=\"T_a3378cee_3a59_11e8_9d23_aaa795456fa7row4_col4\" class=\"data row4 col4\" >0</td> \n",
       "        <td id=\"T_a3378cee_3a59_11e8_9d23_aaa795456fa7row4_col5\" class=\"data row4 col5\" >0</td> \n",
       "        <td id=\"T_a3378cee_3a59_11e8_9d23_aaa795456fa7row4_col6\" class=\"data row4 col6\" >0</td> \n",
       "        <td id=\"T_a3378cee_3a59_11e8_9d23_aaa795456fa7row4_col7\" class=\"data row4 col7\" >0</td> \n",
       "        <td id=\"T_a3378cee_3a59_11e8_9d23_aaa795456fa7row4_col8\" class=\"data row4 col8\" >0</td> \n",
       "        <td id=\"T_a3378cee_3a59_11e8_9d23_aaa795456fa7row4_col9\" class=\"data row4 col9\" >0</td> \n",
       "        <td id=\"T_a3378cee_3a59_11e8_9d23_aaa795456fa7row4_col10\" class=\"data row4 col10\" >0</td> \n",
       "        <td id=\"T_a3378cee_3a59_11e8_9d23_aaa795456fa7row4_col11\" class=\"data row4 col11\" >-1</td> \n",
       "        <td id=\"T_a3378cee_3a59_11e8_9d23_aaa795456fa7row4_col12\" class=\"data row4 col12\" >0</td> \n",
       "        <td id=\"T_a3378cee_3a59_11e8_9d23_aaa795456fa7row4_col13\" class=\"data row4 col13\" >0</td> \n",
       "        <td id=\"T_a3378cee_3a59_11e8_9d23_aaa795456fa7row4_col14\" class=\"data row4 col14\" >0</td> \n",
       "        <td id=\"T_a3378cee_3a59_11e8_9d23_aaa795456fa7row4_col15\" class=\"data row4 col15\" >0</td> \n",
       "        <td id=\"T_a3378cee_3a59_11e8_9d23_aaa795456fa7row4_col16\" class=\"data row4 col16\" >0</td> \n",
       "        <td id=\"T_a3378cee_3a59_11e8_9d23_aaa795456fa7row4_col17\" class=\"data row4 col17\" >0</td> \n",
       "    </tr>    <tr> \n",
       "        <th id=\"T_a3378cee_3a59_11e8_9d23_aaa795456fa7level0_row5\" class=\"row_heading level0 row5\" >5</th> \n",
       "        <td id=\"T_a3378cee_3a59_11e8_9d23_aaa795456fa7row5_col0\" class=\"data row5 col0\" >82</td> \n",
       "        <td id=\"T_a3378cee_3a59_11e8_9d23_aaa795456fa7row5_col1\" class=\"data row5 col1\" >-1</td> \n",
       "        <td id=\"T_a3378cee_3a59_11e8_9d23_aaa795456fa7row5_col2\" class=\"data row5 col2\" >-1</td> \n",
       "        <td id=\"T_a3378cee_3a59_11e8_9d23_aaa795456fa7row5_col3\" class=\"data row5 col3\" >0</td> \n",
       "        <td id=\"T_a3378cee_3a59_11e8_9d23_aaa795456fa7row5_col4\" class=\"data row5 col4\" >0</td> \n",
       "        <td id=\"T_a3378cee_3a59_11e8_9d23_aaa795456fa7row5_col5\" class=\"data row5 col5\" >0</td> \n",
       "        <td id=\"T_a3378cee_3a59_11e8_9d23_aaa795456fa7row5_col6\" class=\"data row5 col6\" >0</td> \n",
       "        <td id=\"T_a3378cee_3a59_11e8_9d23_aaa795456fa7row5_col7\" class=\"data row5 col7\" >0</td> \n",
       "        <td id=\"T_a3378cee_3a59_11e8_9d23_aaa795456fa7row5_col8\" class=\"data row5 col8\" >0</td> \n",
       "        <td id=\"T_a3378cee_3a59_11e8_9d23_aaa795456fa7row5_col9\" class=\"data row5 col9\" >0</td> \n",
       "        <td id=\"T_a3378cee_3a59_11e8_9d23_aaa795456fa7row5_col10\" class=\"data row5 col10\" >0</td> \n",
       "        <td id=\"T_a3378cee_3a59_11e8_9d23_aaa795456fa7row5_col11\" class=\"data row5 col11\" >-1</td> \n",
       "        <td id=\"T_a3378cee_3a59_11e8_9d23_aaa795456fa7row5_col12\" class=\"data row5 col12\" >0</td> \n",
       "        <td id=\"T_a3378cee_3a59_11e8_9d23_aaa795456fa7row5_col13\" class=\"data row5 col13\" >0</td> \n",
       "        <td id=\"T_a3378cee_3a59_11e8_9d23_aaa795456fa7row5_col14\" class=\"data row5 col14\" >0</td> \n",
       "        <td id=\"T_a3378cee_3a59_11e8_9d23_aaa795456fa7row5_col15\" class=\"data row5 col15\" >0</td> \n",
       "        <td id=\"T_a3378cee_3a59_11e8_9d23_aaa795456fa7row5_col16\" class=\"data row5 col16\" >0</td> \n",
       "        <td id=\"T_a3378cee_3a59_11e8_9d23_aaa795456fa7row5_col17\" class=\"data row5 col17\" >0</td> \n",
       "    </tr>    <tr> \n",
       "        <th id=\"T_a3378cee_3a59_11e8_9d23_aaa795456fa7level0_row6\" class=\"row_heading level0 row6\" >6</th> \n",
       "        <td id=\"T_a3378cee_3a59_11e8_9d23_aaa795456fa7row6_col0\" class=\"data row6 col0\" >19</td> \n",
       "        <td id=\"T_a3378cee_3a59_11e8_9d23_aaa795456fa7row6_col1\" class=\"data row6 col1\" >-1</td> \n",
       "        <td id=\"T_a3378cee_3a59_11e8_9d23_aaa795456fa7row6_col2\" class=\"data row6 col2\" >0</td> \n",
       "        <td id=\"T_a3378cee_3a59_11e8_9d23_aaa795456fa7row6_col3\" class=\"data row6 col3\" >0</td> \n",
       "        <td id=\"T_a3378cee_3a59_11e8_9d23_aaa795456fa7row6_col4\" class=\"data row6 col4\" >0</td> \n",
       "        <td id=\"T_a3378cee_3a59_11e8_9d23_aaa795456fa7row6_col5\" class=\"data row6 col5\" >0</td> \n",
       "        <td id=\"T_a3378cee_3a59_11e8_9d23_aaa795456fa7row6_col6\" class=\"data row6 col6\" >0</td> \n",
       "        <td id=\"T_a3378cee_3a59_11e8_9d23_aaa795456fa7row6_col7\" class=\"data row6 col7\" >0</td> \n",
       "        <td id=\"T_a3378cee_3a59_11e8_9d23_aaa795456fa7row6_col8\" class=\"data row6 col8\" >0</td> \n",
       "        <td id=\"T_a3378cee_3a59_11e8_9d23_aaa795456fa7row6_col9\" class=\"data row6 col9\" >0</td> \n",
       "        <td id=\"T_a3378cee_3a59_11e8_9d23_aaa795456fa7row6_col10\" class=\"data row6 col10\" >0</td> \n",
       "        <td id=\"T_a3378cee_3a59_11e8_9d23_aaa795456fa7row6_col11\" class=\"data row6 col11\" >0</td> \n",
       "        <td id=\"T_a3378cee_3a59_11e8_9d23_aaa795456fa7row6_col12\" class=\"data row6 col12\" >0</td> \n",
       "        <td id=\"T_a3378cee_3a59_11e8_9d23_aaa795456fa7row6_col13\" class=\"data row6 col13\" >0</td> \n",
       "        <td id=\"T_a3378cee_3a59_11e8_9d23_aaa795456fa7row6_col14\" class=\"data row6 col14\" >0</td> \n",
       "        <td id=\"T_a3378cee_3a59_11e8_9d23_aaa795456fa7row6_col15\" class=\"data row6 col15\" >0</td> \n",
       "        <td id=\"T_a3378cee_3a59_11e8_9d23_aaa795456fa7row6_col16\" class=\"data row6 col16\" >0</td> \n",
       "        <td id=\"T_a3378cee_3a59_11e8_9d23_aaa795456fa7row6_col17\" class=\"data row6 col17\" >0</td> \n",
       "    </tr>    <tr> \n",
       "        <th id=\"T_a3378cee_3a59_11e8_9d23_aaa795456fa7level0_row7\" class=\"row_heading level0 row7\" >7</th> \n",
       "        <td id=\"T_a3378cee_3a59_11e8_9d23_aaa795456fa7row7_col0\" class=\"data row7 col0\" >4</td> \n",
       "        <td id=\"T_a3378cee_3a59_11e8_9d23_aaa795456fa7row7_col1\" class=\"data row7 col1\" >-1</td> \n",
       "        <td id=\"T_a3378cee_3a59_11e8_9d23_aaa795456fa7row7_col2\" class=\"data row7 col2\" >0</td> \n",
       "        <td id=\"T_a3378cee_3a59_11e8_9d23_aaa795456fa7row7_col3\" class=\"data row7 col3\" >0</td> \n",
       "        <td id=\"T_a3378cee_3a59_11e8_9d23_aaa795456fa7row7_col4\" class=\"data row7 col4\" >0</td> \n",
       "        <td id=\"T_a3378cee_3a59_11e8_9d23_aaa795456fa7row7_col5\" class=\"data row7 col5\" >0</td> \n",
       "        <td id=\"T_a3378cee_3a59_11e8_9d23_aaa795456fa7row7_col6\" class=\"data row7 col6\" >0</td> \n",
       "        <td id=\"T_a3378cee_3a59_11e8_9d23_aaa795456fa7row7_col7\" class=\"data row7 col7\" >0</td> \n",
       "        <td id=\"T_a3378cee_3a59_11e8_9d23_aaa795456fa7row7_col8\" class=\"data row7 col8\" >0</td> \n",
       "        <td id=\"T_a3378cee_3a59_11e8_9d23_aaa795456fa7row7_col9\" class=\"data row7 col9\" >0</td> \n",
       "        <td id=\"T_a3378cee_3a59_11e8_9d23_aaa795456fa7row7_col10\" class=\"data row7 col10\" >0</td> \n",
       "        <td id=\"T_a3378cee_3a59_11e8_9d23_aaa795456fa7row7_col11\" class=\"data row7 col11\" >-1</td> \n",
       "        <td id=\"T_a3378cee_3a59_11e8_9d23_aaa795456fa7row7_col12\" class=\"data row7 col12\" >0</td> \n",
       "        <td id=\"T_a3378cee_3a59_11e8_9d23_aaa795456fa7row7_col13\" class=\"data row7 col13\" >0</td> \n",
       "        <td id=\"T_a3378cee_3a59_11e8_9d23_aaa795456fa7row7_col14\" class=\"data row7 col14\" >0</td> \n",
       "        <td id=\"T_a3378cee_3a59_11e8_9d23_aaa795456fa7row7_col15\" class=\"data row7 col15\" >0</td> \n",
       "        <td id=\"T_a3378cee_3a59_11e8_9d23_aaa795456fa7row7_col16\" class=\"data row7 col16\" >0</td> \n",
       "        <td id=\"T_a3378cee_3a59_11e8_9d23_aaa795456fa7row7_col17\" class=\"data row7 col17\" >0</td> \n",
       "    </tr>    <tr> \n",
       "        <th id=\"T_a3378cee_3a59_11e8_9d23_aaa795456fa7level0_row8\" class=\"row_heading level0 row8\" >8</th> \n",
       "        <td id=\"T_a3378cee_3a59_11e8_9d23_aaa795456fa7row8_col0\" class=\"data row8 col0\" >2</td> \n",
       "        <td id=\"T_a3378cee_3a59_11e8_9d23_aaa795456fa7row8_col1\" class=\"data row8 col1\" >0</td> \n",
       "        <td id=\"T_a3378cee_3a59_11e8_9d23_aaa795456fa7row8_col2\" class=\"data row8 col2\" >0</td> \n",
       "        <td id=\"T_a3378cee_3a59_11e8_9d23_aaa795456fa7row8_col3\" class=\"data row8 col3\" >-1</td> \n",
       "        <td id=\"T_a3378cee_3a59_11e8_9d23_aaa795456fa7row8_col4\" class=\"data row8 col4\" >0</td> \n",
       "        <td id=\"T_a3378cee_3a59_11e8_9d23_aaa795456fa7row8_col5\" class=\"data row8 col5\" >0</td> \n",
       "        <td id=\"T_a3378cee_3a59_11e8_9d23_aaa795456fa7row8_col6\" class=\"data row8 col6\" >0</td> \n",
       "        <td id=\"T_a3378cee_3a59_11e8_9d23_aaa795456fa7row8_col7\" class=\"data row8 col7\" >0</td> \n",
       "        <td id=\"T_a3378cee_3a59_11e8_9d23_aaa795456fa7row8_col8\" class=\"data row8 col8\" >0</td> \n",
       "        <td id=\"T_a3378cee_3a59_11e8_9d23_aaa795456fa7row8_col9\" class=\"data row8 col9\" >0</td> \n",
       "        <td id=\"T_a3378cee_3a59_11e8_9d23_aaa795456fa7row8_col10\" class=\"data row8 col10\" >0</td> \n",
       "        <td id=\"T_a3378cee_3a59_11e8_9d23_aaa795456fa7row8_col11\" class=\"data row8 col11\" >0</td> \n",
       "        <td id=\"T_a3378cee_3a59_11e8_9d23_aaa795456fa7row8_col12\" class=\"data row8 col12\" >0</td> \n",
       "        <td id=\"T_a3378cee_3a59_11e8_9d23_aaa795456fa7row8_col13\" class=\"data row8 col13\" >0</td> \n",
       "        <td id=\"T_a3378cee_3a59_11e8_9d23_aaa795456fa7row8_col14\" class=\"data row8 col14\" >0</td> \n",
       "        <td id=\"T_a3378cee_3a59_11e8_9d23_aaa795456fa7row8_col15\" class=\"data row8 col15\" >0</td> \n",
       "        <td id=\"T_a3378cee_3a59_11e8_9d23_aaa795456fa7row8_col16\" class=\"data row8 col16\" >0</td> \n",
       "        <td id=\"T_a3378cee_3a59_11e8_9d23_aaa795456fa7row8_col17\" class=\"data row8 col17\" >0</td> \n",
       "    </tr>    <tr> \n",
       "        <th id=\"T_a3378cee_3a59_11e8_9d23_aaa795456fa7level0_row9\" class=\"row_heading level0 row9\" >9</th> \n",
       "        <td id=\"T_a3378cee_3a59_11e8_9d23_aaa795456fa7row9_col0\" class=\"data row9 col0\" >1</td> \n",
       "        <td id=\"T_a3378cee_3a59_11e8_9d23_aaa795456fa7row9_col1\" class=\"data row9 col1\" >0</td> \n",
       "        <td id=\"T_a3378cee_3a59_11e8_9d23_aaa795456fa7row9_col2\" class=\"data row9 col2\" >-1</td> \n",
       "        <td id=\"T_a3378cee_3a59_11e8_9d23_aaa795456fa7row9_col3\" class=\"data row9 col3\" >0</td> \n",
       "        <td id=\"T_a3378cee_3a59_11e8_9d23_aaa795456fa7row9_col4\" class=\"data row9 col4\" >-1</td> \n",
       "        <td id=\"T_a3378cee_3a59_11e8_9d23_aaa795456fa7row9_col5\" class=\"data row9 col5\" >0</td> \n",
       "        <td id=\"T_a3378cee_3a59_11e8_9d23_aaa795456fa7row9_col6\" class=\"data row9 col6\" >0</td> \n",
       "        <td id=\"T_a3378cee_3a59_11e8_9d23_aaa795456fa7row9_col7\" class=\"data row9 col7\" >0</td> \n",
       "        <td id=\"T_a3378cee_3a59_11e8_9d23_aaa795456fa7row9_col8\" class=\"data row9 col8\" >0</td> \n",
       "        <td id=\"T_a3378cee_3a59_11e8_9d23_aaa795456fa7row9_col9\" class=\"data row9 col9\" >0</td> \n",
       "        <td id=\"T_a3378cee_3a59_11e8_9d23_aaa795456fa7row9_col10\" class=\"data row9 col10\" >0</td> \n",
       "        <td id=\"T_a3378cee_3a59_11e8_9d23_aaa795456fa7row9_col11\" class=\"data row9 col11\" >-1</td> \n",
       "        <td id=\"T_a3378cee_3a59_11e8_9d23_aaa795456fa7row9_col12\" class=\"data row9 col12\" >0</td> \n",
       "        <td id=\"T_a3378cee_3a59_11e8_9d23_aaa795456fa7row9_col13\" class=\"data row9 col13\" >0</td> \n",
       "        <td id=\"T_a3378cee_3a59_11e8_9d23_aaa795456fa7row9_col14\" class=\"data row9 col14\" >0</td> \n",
       "        <td id=\"T_a3378cee_3a59_11e8_9d23_aaa795456fa7row9_col15\" class=\"data row9 col15\" >0</td> \n",
       "        <td id=\"T_a3378cee_3a59_11e8_9d23_aaa795456fa7row9_col16\" class=\"data row9 col16\" >0</td> \n",
       "        <td id=\"T_a3378cee_3a59_11e8_9d23_aaa795456fa7row9_col17\" class=\"data row9 col17\" >0</td> \n",
       "    </tr>    <tr> \n",
       "        <th id=\"T_a3378cee_3a59_11e8_9d23_aaa795456fa7level0_row10\" class=\"row_heading level0 row10\" > </th> \n",
       "        <td id=\"T_a3378cee_3a59_11e8_9d23_aaa795456fa7row10_col0\" class=\"data row10 col0\" >Missing_Nums</td> \n",
       "        <td id=\"T_a3378cee_3a59_11e8_9d23_aaa795456fa7row10_col1\" class=\"data row10 col1\" >263</td> \n",
       "        <td id=\"T_a3378cee_3a59_11e8_9d23_aaa795456fa7row10_col2\" class=\"data row10 col2\" >1014</td> \n",
       "        <td id=\"T_a3378cee_3a59_11e8_9d23_aaa795456fa7row10_col3\" class=\"data row10 col3\" >2</td> \n",
       "        <td id=\"T_a3378cee_3a59_11e8_9d23_aaa795456fa7row10_col4\" class=\"data row10 col4\" >1</td> \n",
       "        <td id=\"T_a3378cee_3a59_11e8_9d23_aaa795456fa7row10_col5\" class=\"data row10 col5\" >0</td> \n",
       "        <td id=\"T_a3378cee_3a59_11e8_9d23_aaa795456fa7row10_col6\" class=\"data row10 col6\" >0</td> \n",
       "        <td id=\"T_a3378cee_3a59_11e8_9d23_aaa795456fa7row10_col7\" class=\"data row10 col7\" >0</td> \n",
       "        <td id=\"T_a3378cee_3a59_11e8_9d23_aaa795456fa7row10_col8\" class=\"data row10 col8\" >0</td> \n",
       "        <td id=\"T_a3378cee_3a59_11e8_9d23_aaa795456fa7row10_col9\" class=\"data row10 col9\" >0</td> \n",
       "        <td id=\"T_a3378cee_3a59_11e8_9d23_aaa795456fa7row10_col10\" class=\"data row10 col10\" >0</td> \n",
       "        <td id=\"T_a3378cee_3a59_11e8_9d23_aaa795456fa7row10_col11\" class=\"data row10 col11\" >418</td> \n",
       "        <td id=\"T_a3378cee_3a59_11e8_9d23_aaa795456fa7row10_col12\" class=\"data row10 col12\" >0</td> \n",
       "        <td id=\"T_a3378cee_3a59_11e8_9d23_aaa795456fa7row10_col13\" class=\"data row10 col13\" >0</td> \n",
       "        <td id=\"T_a3378cee_3a59_11e8_9d23_aaa795456fa7row10_col14\" class=\"data row10 col14\" >0</td> \n",
       "        <td id=\"T_a3378cee_3a59_11e8_9d23_aaa795456fa7row10_col15\" class=\"data row10 col15\" >0</td> \n",
       "        <td id=\"T_a3378cee_3a59_11e8_9d23_aaa795456fa7row10_col16\" class=\"data row10 col16\" >0</td> \n",
       "        <td id=\"T_a3378cee_3a59_11e8_9d23_aaa795456fa7row10_col17\" class=\"data row10 col17\" >0</td> \n",
       "    </tr></tbody> \n",
       "</table> "
      ],
      "text/plain": [
       "<pandas.io.formats.style.Styler at 0x203b8988630>"
      ]
     },
     "execution_count": 8,
     "metadata": {},
     "output_type": "execute_result"
    }
   ],
   "source": [
    "md_patten(data_train).style.apply(showHight)"
   ]
  },
  {
   "cell_type": "markdown",
   "metadata": {},
   "source": [
    "### 删除缺失值列 Cabin\n",
    "1先copy数据 2dropna axis =1 时,subset 指索引列"
   ]
  },
  {
   "cell_type": "code",
   "execution_count": 32,
   "metadata": {
    "ExecuteTime": {
     "end_time": "2018-04-07T12:08:33.934807Z",
     "start_time": "2018-04-07T12:08:33.929932Z"
    },
    "collapsed": true
   },
   "outputs": [],
   "source": [
    "data_temp = data_train.copy()"
   ]
  },
  {
   "cell_type": "markdown",
   "metadata": {},
   "source": [
    "#### 运用drop方法"
   ]
  },
  {
   "cell_type": "code",
   "execution_count": 33,
   "metadata": {
    "ExecuteTime": {
     "end_time": "2018-04-07T12:08:40.527682Z",
     "start_time": "2018-04-07T12:08:40.520817Z"
    },
    "collapsed": true
   },
   "outputs": [],
   "source": [
    "data_temp.drop('Age',axis =1,inplace = True)"
   ]
  },
  {
   "cell_type": "markdown",
   "metadata": {},
   "source": [
    "#### 运用dropna方法"
   ]
  },
  {
   "cell_type": "code",
   "execution_count": 22,
   "metadata": {
    "ExecuteTime": {
     "end_time": "2018-04-07T12:00:21.698324Z",
     "start_time": "2018-04-07T12:00:21.692410Z"
    }
   },
   "outputs": [
    {
     "data": {
      "text/plain": [
       "(1309, 17)"
      ]
     },
     "execution_count": 22,
     "metadata": {},
     "output_type": "execute_result"
    }
   ],
   "source": [
    "data_temp.shape"
   ]
  },
  {
   "cell_type": "code",
   "execution_count": 31,
   "metadata": {
    "ExecuteTime": {
     "end_time": "2018-04-07T12:05:11.326480Z",
     "start_time": "2018-04-07T12:05:11.315686Z"
    }
   },
   "outputs": [
    {
     "data": {
      "text/plain": [
       "(1309, 12)"
      ]
     },
     "execution_count": 31,
     "metadata": {},
     "output_type": "execute_result"
    }
   ],
   "source": [
    "data_temp.dropna(axis=1,how = 'any',inplace =True) \n",
    "\n",
    "data_temp.shape"
   ]
  },
  {
   "cell_type": "markdown",
   "metadata": {},
   "source": [
    "### 删除缺失值行 Fare 缺失的行\n",
    "先copy数据"
   ]
  },
  {
   "cell_type": "code",
   "execution_count": 32,
   "metadata": {
    "ExecuteTime": {
     "end_time": "2018-04-07T12:08:33.934807Z",
     "start_time": "2018-04-07T12:08:33.929932Z"
    },
    "collapsed": true
   },
   "outputs": [],
   "source": [
    "data_temp = data_train.copy()"
   ]
  },
  {
   "cell_type": "code",
   "execution_count": 34,
   "metadata": {
    "ExecuteTime": {
     "end_time": "2018-04-07T12:12:34.185963Z",
     "start_time": "2018-04-07T12:12:34.179092Z"
    },
    "collapsed": true
   },
   "outputs": [],
   "source": [
    "data_temp.dropna(axis = 0, how= 'any',subset=['Fare'],inplace =True) "
   ]
  },
  {
   "cell_type": "markdown",
   "metadata": {},
   "source": [
    "### 删除超过三个缺失的行数据 \n",
    "['Cabin','Age','Embarked']"
   ]
  },
  {
   "cell_type": "code",
   "execution_count": null,
   "metadata": {
    "ExecuteTime": {
     "end_time": "2018-03-17T08:13:15.290914Z",
     "start_time": "2018-03-17T08:13:15.281890Z"
    },
    "collapsed": true
   },
   "outputs": [],
   "source": [
    " data_train.dropna(axis = 0, how= 'any',subset=['Cabin','Age','Embarked'],inplace =True,thresh = 2)  "
   ]
  },
  {
   "cell_type": "code",
   "execution_count": null,
   "metadata": {
    "ExecuteTime": {
     "end_time": "2018-03-17T08:13:15.583615Z",
     "start_time": "2018-03-17T08:13:15.562560Z"
    },
    "collapsed": true
   },
   "outputs": [],
   "source": [
    "d1.count() #非空元素计算\n",
    "d1.min() #最小值\n",
    "d1.max() #最大值\n",
    "d1.idxmin() #最小值的位置，类似于R中的which.min函数\n",
    "d1.idxmax() #最大值的位置，类似于R中的which.max函数\n",
    "d1.quantile(0.1) #10%分位数\n",
    "d1.sum() #求和\n",
    "d1.mean() #均值\n",
    "d1.median() #中位数\n",
    "d1.mode() #众数\n",
    "d1.var() #方差\n",
    "d1.std() #标准差\n",
    "d1.mad() #平均绝对偏差\n",
    "d1.skew() #偏度\n",
    "d1.kurt() #峰度\n",
    "d1.describe() #一次性输出多个描述性统计指标"
   ]
  },
  {
   "cell_type": "markdown",
   "metadata": {},
   "source": [
    "### 缺失值替换\n",
    "**<font color=blue>缺失值替换  fillna</font>**<br>\n",
    "\n",
    "* [Pandas参考文档](http://pandas.pydata.org/pandas-docs/stable/generated/pandas.DataFrame.fillna.html?highlight=fillna#pandas.DataFrame.fillna)"
   ]
  },
  {
   "cell_type": "markdown",
   "metadata": {},
   "source": [
    "### 用均值替换Fare缺失值"
   ]
  },
  {
   "cell_type": "code",
   "execution_count": null,
   "metadata": {
    "ExecuteTime": {
     "end_time": "2018-03-17T08:13:25.084971Z",
     "start_time": "2018-03-17T08:13:25.079955Z"
    },
    "collapsed": true
   },
   "outputs": [],
   "source": [
    "data_train['Fare'].fillna(data_train.Fare.mean(),inplace =True)"
   ]
  },
  {
   "cell_type": "markdown",
   "metadata": {},
   "source": [
    "### 用特定值替换Fare缺失值"
   ]
  },
  {
   "cell_type": "code",
   "execution_count": null,
   "metadata": {
    "collapsed": true
   },
   "outputs": [],
   "source": [
    "_= data_train.fillna(0, inplace=True)  # 用特定值替换"
   ]
  },
  {
   "cell_type": "markdown",
   "metadata": {},
   "source": [
    "### 用前一个值值替换Fare缺失值"
   ]
  },
  {
   "cell_type": "code",
   "execution_count": null,
   "metadata": {
    "ExecuteTime": {
     "end_time": "2018-03-17T08:13:25.902832Z",
     "start_time": "2018-03-17T08:13:25.895813Z"
    },
    "collapsed": true
   },
   "outputs": [],
   "source": [
    "# data_train.fillna(method='ffill', limit=2) #用前一个值替换"
   ]
  },
  {
   "cell_type": "markdown",
   "metadata": {},
   "source": [
    "### 用replace 标记Age 缺失值为 -1"
   ]
  },
  {
   "cell_type": "code",
   "execution_count": null,
   "metadata": {
    "ExecuteTime": {
     "end_time": "2018-03-17T08:13:26.537856Z",
     "start_time": "2018-03-17T08:13:26.527829Z"
    },
    "collapsed": true
   },
   "outputs": [],
   "source": [
    "data_train['Age'].replace(np.nan,-1)  "
   ]
  },
  {
   "cell_type": "markdown",
   "metadata": {},
   "source": [
    "### 用replace 对Age 特定值进行替换(基于列表 和 字典)\n",
    "0.42: 0 ;-1000: np.nan "
   ]
  },
  {
   "cell_type": "code",
   "execution_count": null,
   "metadata": {
    "collapsed": true
   },
   "outputs": [],
   "source": [
    "# 基于字典\n",
    "data_train['Age'].replace({0.42: 0, -1000: np.nan}) "
   ]
  },
  {
   "cell_type": "code",
   "execution_count": null,
   "metadata": {
    "ExecuteTime": {
     "end_time": "2018-03-17T08:13:33.970102Z",
     "start_time": "2018-03-17T08:13:33.966117Z"
    },
    "collapsed": true
   },
   "outputs": [],
   "source": [
    "# 基于列表\n",
    "data_train['Age'].replace([0.42,-1000], [0,np.nan])   "
   ]
  },
  {
   "cell_type": "markdown",
   "metadata": {},
   "source": [
    "#### Age"
   ]
  },
  {
   "cell_type": "markdown",
   "metadata": {},
   "source": [
    "### 基于Initial条件填充Age（粗略）\n",
    "##Assigning the NaN Values with the Ceil values of the mean ages\n",
    "Mr:33 \\Mrs:36\\Master:5\\Miss:22\\Other:46"
   ]
  },
  {
   "cell_type": "code",
   "execution_count": null,
   "metadata": {
    "ExecuteTime": {
     "end_time": "2018-03-17T08:13:58.865700Z",
     "start_time": "2018-03-17T08:13:58.818577Z"
    },
    "collapsed": true
   },
   "outputs": [],
   "source": [
    "data.loc[(data.Age.isnull())&(data.Initial=='Mr'),'Age']=33\n",
    "data.loc[(data.Age.isnull())&(data.Initial=='Mrs'),'Age']=36\n",
    "data.loc[(data.Age.isnull())&(data.Initial=='Master'),'Age']=5\n",
    "data.loc[(data.Age.isnull())&(data.Initial=='Miss'),'Age']=22\n",
    "data.loc[(data.Age.isnull())&(data.Initial=='Other'),'Age']=46\n",
    "data.Age.isnull().any() #So no null values left finally   检查是否还有空值"
   ]
  },
  {
   "cell_type": "markdown",
   "metadata": {},
   "source": [
    "### 基于连续变量的统计分布填充  \n",
    "随机random.randint() 抽取 \n",
    "[#在正负标准差之间选取]"
   ]
  },
  {
   "cell_type": "code",
   "execution_count": 36,
   "metadata": {
    "ExecuteTime": {
     "end_time": "2018-04-07T12:27:15.610508Z",
     "start_time": "2018-04-07T12:27:15.597576Z"
    },
    "collapsed": true
   },
   "outputs": [],
   "source": [
    "age_avg = data_train['Age'].mean()\n",
    "age_std = data_train['Age'].std()\n",
    "age_null_count = data_train['Age'].isnull().sum()\n",
    "age_null_random_list = np.random.randint(age_avg - age_std, age_avg + age_std, size=age_null_count)  "
   ]
  },
  {
   "cell_type": "markdown",
   "metadata": {},
   "source": [
    "### 将抽取的数据填充到缺失位置\n",
    "isnan 是numpy 中的方法\n",
    "#data['Age'][np.isnan(data['Age'])] = age_null_random_list   # 效果同样\n",
    "#data['Age'][data['Age'].isnull()]  = age_null_random_list   # 效果同样"
   ]
  },
  {
   "cell_type": "code",
   "execution_count": 37,
   "metadata": {
    "ExecuteTime": {
     "end_time": "2018-04-07T12:27:55.267113Z",
     "start_time": "2018-04-07T12:27:55.177114Z"
    }
   },
   "outputs": [
    {
     "name": "stderr",
     "output_type": "stream",
     "text": [
      "C:\\ProgramData\\Anaconda2\\envs\\gluon_py3\\lib\\site-packages\\ipykernel_launcher.py:3: SettingWithCopyWarning: \n",
      "A value is trying to be set on a copy of a slice from a DataFrame\n",
      "\n",
      "See the caveats in the documentation: http://pandas.pydata.org/pandas-docs/stable/indexing.html#indexing-view-versus-copy\n",
      "  This is separate from the ipykernel package so we can avoid doing imports until\n"
     ]
    }
   ],
   "source": [
    "data_train['AgeFill']=data_train['Age']\n",
    "data_train['AgeFill'][data_train.Age.isnull()] = age_null_random_list\n",
    "data_train['AgeFill'] = data_train['AgeFill'].astype(int)"
   ]
  },
  {
   "cell_type": "markdown",
   "metadata": {},
   "source": [
    "### 运用模型拟合Age 进行缺失值填充\n",
    "'Age','Fare', 'Parch', 'SibSp'\n",
    "随机僧林方法"
   ]
  },
  {
   "cell_type": "markdown",
   "metadata": {},
   "source": [
    "* 用模型预测填充\n",
    "* 使用 RandomForestClassifier 填补缺失的年龄属性 \n",
    "* 随机森林不要求变量 转为数值型"
   ]
  },
  {
   "cell_type": "code",
   "execution_count": null,
   "metadata": {
    "ExecuteTime": {
     "end_time": "2018-03-17T08:13:35.747325Z",
     "start_time": "2018-03-17T08:13:35.631019Z"
    },
    "collapsed": true
   },
   "outputs": [],
   "source": [
    "from sklearn.ensemble import RandomForestRegressor\n",
    "def set_missing_ages(df):\n",
    "    \n",
    "    # 把已有的数值型特征取出来丢进Random Forest Regressor中\n",
    "    age_df = df[['Age','Fare', 'Parch', 'SibSp']]\n",
    "\n",
    "    # 乘客分成已知年龄和未知年龄两部分\n",
    "    known_age = age_df[age_df.Age.notnull()].as_matrix()\n",
    "    unknown_age = age_df[age_df.Age.isnull()].as_matrix()\n",
    "\n",
    "    # y即目标年龄\n",
    "    y = known_age[:, 0]\n",
    "\n",
    "    # X即特征属性值\n",
    "    X = known_age[:, 1:]\n",
    "\n",
    "    # fit到RandomForestRegressor之中\n",
    "    rfr = RandomForestRegressor(random_state=0, n_estimators=2000, n_jobs=-1)\n",
    "    rfr.fit(X, y)\n",
    "    \n",
    "    # 用得到的模型进行未知年龄结果预测\n",
    "    predictedAges = rfr.predict(unknown_age[:, 1::])\n",
    "    \n",
    "    # 用得到的预测结果填补原缺失数据\n",
    "    df['Age_prd'] =df['Age']\n",
    "    df.loc[ (df.Age.isnull()), 'Age_prd' ] = predictedAges \n",
    "    \n",
    "    return df, rfr"
   ]
  },
  {
   "cell_type": "markdown",
   "metadata": {},
   "source": [
    "### 随机森林模型返回拟合Age数据"
   ]
  },
  {
   "cell_type": "code",
   "execution_count": null,
   "metadata": {
    "ExecuteTime": {
     "end_time": "2018-03-17T08:13:38.913544Z",
     "start_time": "2018-03-17T08:13:36.273515Z"
    },
    "collapsed": true
   },
   "outputs": [],
   "source": [
    "data_train, rfr = set_missing_ages(data_train)"
   ]
  },
  {
   "cell_type": "code",
   "execution_count": null,
   "metadata": {
    "ExecuteTime": {
     "end_time": "2018-03-17T08:13:38.914548Z",
     "start_time": "2018-03-17T08:13:36.726Z"
    },
    "collapsed": true
   },
   "outputs": [],
   "source": [
    "# data.Age_prd.astype('int').value_counts(dropna=False).plot(kind ='bar',figsize=(18,6))\n",
    "# temp = data.Age_prd.astype('int').value_counts(dropna=False).to_frame(name ='age_count').reset_index()\n",
    "# temp.columns =['Age','nums']\n",
    "# temp.sort_values('Age').plot(kind ='bar',x ='Age', y ='nums',figsize = (18,6))\n",
    "# data.head()\n",
    "# data.columns"
   ]
  },
  {
   "cell_type": "markdown",
   "metadata": {},
   "source": [
    "### 画图前后对比"
   ]
  },
  {
   "cell_type": "code",
   "execution_count": 43,
   "metadata": {
    "ExecuteTime": {
     "end_time": "2018-04-07T12:33:03.326321Z",
     "start_time": "2018-04-07T12:33:02.868149Z"
    }
   },
   "outputs": [
    {
     "data": {
      "image/png": "[encoded data removed]",
      "text/plain": [
       "<Figure size 1296x432 with 2 Axes>"
      ]
     },
     "metadata": {},
     "output_type": "display_data"
    }
   ],
   "source": [
    "fig,(axis1,axis2) = plt.subplots(1,2,figsize=(18,6))\n",
    "data_train['Age'].dropna().astype(int).hist(bins=70, ax=axis1)\n",
    "data_train['AgeFill'].hist(bins=70, ax=axis2)\n",
    "plt.show()"
   ]
  },
  {
   "cell_type": "code",
   "execution_count": 49,
   "metadata": {
    "ExecuteTime": {
     "end_time": "2018-04-07T12:36:36.474175Z",
     "start_time": "2018-04-07T12:36:36.124806Z"
    }
   },
   "outputs": [
    {
     "data": {
      "image/png": "[encoded data removed]",
      "text/plain": [
       "<Figure size 648x432 with 1 Axes>"
      ]
     },
     "metadata": {},
     "output_type": "display_data"
    }
   ],
   "source": [
    "fig,axis1 = plt.subplots(1,1,figsize=(9,6))\n",
    "data_train['Age'].dropna().astype(int).hist(bins=70,color ='r',alpha=0.2, ax=axis1)\n",
    "data_train['AgeFill'].hist(bins=70,color ='g',alpha=0.2, ax=axis1)\n",
    "plt.show()"
   ]
  },
  {
   "cell_type": "code",
   "execution_count": null,
   "metadata": {
    "ExecuteTime": {
     "end_time": "2018-03-17T08:14:15.953748Z",
     "start_time": "2018-03-17T08:14:15.934695Z"
    },
    "collapsed": true
   },
   "outputs": [],
   "source": [
    "# data_train['Age'] = data_train['Age_prd'] \n",
    "data_train['Age'].value_counts(dropna =False)"
   ]
  },
  {
   "cell_type": "code",
   "execution_count": null,
   "metadata": {
    "ExecuteTime": {
     "end_time": "2018-03-06T11:57:39.599763Z",
     "start_time": "2018-03-06T11:57:39.441342Z"
    },
    "collapsed": true
   },
   "outputs": [],
   "source": [
    "data_train['Age'] = data_train['Age_prd']\n",
    "data_train['Age'].isnull().sum()"
   ]
  },
  {
   "cell_type": "code",
   "execution_count": null,
   "metadata": {
    "ExecuteTime": {
     "end_time": "2018-01-27T07:31:58.967488Z",
     "start_time": "2018-01-27T07:31:58.892713Z"
    },
    "collapsed": true
   },
   "outputs": [],
   "source": [
    "data_train.loc[data_train[\"Title2\"]==1,'Age'].mean()"
   ]
  },
  {
   "cell_type": "markdown",
   "metadata": {},
   "source": [
    "### 离散型变量Embarked-用众数填充  mode()   \n",
    "中位数median()  -->数值型\n",
    "\n",
    "#### Embarked"
   ]
  },
  {
   "cell_type": "code",
   "execution_count": null,
   "metadata": {
    "ExecuteTime": {
     "end_time": "2018-01-28T08:04:03.448531Z",
     "start_time": "2018-01-28T08:04:03.440511Z"
    },
    "collapsed": true
   },
   "outputs": [],
   "source": [
    "data['Embarked'].mode()"
   ]
  },
  {
   "cell_type": "code",
   "execution_count": null,
   "metadata": {
    "ExecuteTime": {
     "end_time": "2018-01-28T08:04:03.951148Z",
     "start_time": "2018-01-28T08:04:03.947138Z"
    },
    "collapsed": true
   },
   "outputs": [],
   "source": [
    "data_train['Embarked'].fillna('S',inplace =True)\n",
    "# data_train['Embarked'].replace({0: np.nan},inplace =True)"
   ]
  },
  {
   "cell_type": "code",
   "execution_count": null,
   "metadata": {
    "ExecuteTime": {
     "end_time": "2018-01-30T00:39:22.295879Z",
     "start_time": "2018-01-30T00:39:22.287885Z"
    },
    "collapsed": true
   },
   "outputs": [],
   "source": [
    "data_train['Embarked'].value_counts(dropna = False)"
   ]
  },
  {
   "cell_type": "markdown",
   "metadata": {},
   "source": [
    "\n",
    "## 衍生变量\n",
    "### 单变量\n",
    "#### 离散型——字符变量\n",
    "* 字符串处理：大小写\n",
    "* 字符串截取、分割\n",
    "    + 按位置\n",
    "    + 正则表达式\n",
    "* 字符串变换：合并、归类、LabelEncoder、One-Hot\n",
    "#### 连续型\n",
    "* 归一化、正交化\n",
    "* 离散化：分箱"
   ]
  },
  {
   "cell_type": "markdown",
   "metadata": {},
   "source": [
    "### 数据字符串变量\n",
    "* 字符串处理：大小写\n",
    "* 字符串截取、分割\n",
    "    + 按位置\n",
    "    + 正则表达式\n",
    "* 字符串变换：合并、归类、LabelEncoder、One-Hot"
   ]
  },
  {
   "cell_type": "markdown",
   "metadata": {},
   "source": [
    "### 用正则表达式提取 Name中的头衔\n",
    "#### 基于字符串提取 extract\n"
   ]
  },
  {
   "cell_type": "code",
   "execution_count": null,
   "metadata": {
    "ExecuteTime": {
     "end_time": "2018-03-17T08:15:40.221867Z",
     "start_time": "2018-03-17T08:15:40.179755Z"
    },
    "collapsed": true
   },
   "outputs": [],
   "source": [
    "data_train['Initial'] = 0 \n",
    "for i in data_train:\n",
    "    data_train['Initial'] = data_train.Name.str.extract('([A-Za-z]+)\\.')"
   ]
  },
  {
   "cell_type": "markdown",
   "metadata": {},
   "source": [
    "#### 字符串截取  （正则表达式 基于apply findall）"
   ]
  },
  {
   "cell_type": "code",
   "execution_count": null,
   "metadata": {
    "ExecuteTime": {
     "end_time": "2018-03-17T08:15:40.808103Z",
     "start_time": "2018-03-17T08:15:40.800087Z"
    },
    "collapsed": true
   },
   "outputs": [],
   "source": [
    "#调用 apply函数 \n",
    "# findall()[0] 返回列表\n",
    "import re\n",
    "data_train['Initial']=data_train['Name'].apply(lambda x: re.findall(\"([A-Za-z]+)\\.\",x)[0]) #lets extract the Salutations"
   ]
  },
  {
   "cell_type": "markdown",
   "metadata": {},
   "source": [
    "#### 字符串截取  （ 基于apply split）"
   ]
  },
  {
   "cell_type": "code",
   "execution_count": null,
   "metadata": {
    "ExecuteTime": {
     "end_time": "2018-03-17T08:15:41.319881Z",
     "start_time": "2018-03-17T08:15:41.313895Z"
    },
    "collapsed": true
   },
   "outputs": [],
   "source": [
    "# 调用map函数  用字符串分割方法\n",
    "data_train[ 'Initial' ] = data_train[ 'Name' ].map( lambda name: name.split( ',' )[1].split( '.' )[0].strip() )"
   ]
  },
  {
   "cell_type": "markdown",
   "metadata": {},
   "source": [
    "### 统计不同头衔Initial 的出现频数"
   ]
  },
  {
   "cell_type": "code",
   "execution_count": null,
   "metadata": {
    "ExecuteTime": {
     "end_time": "2018-03-17T08:15:41.805239Z",
     "start_time": "2018-03-17T08:15:41.790199Z"
    },
    "collapsed": true
   },
   "outputs": [],
   "source": [
    "data_train['Initial'].value_counts(dropna = False)"
   ]
  },
  {
   "cell_type": "code",
   "execution_count": null,
   "metadata": {
    "ExecuteTime": {
     "end_time": "2018-03-17T08:15:42.653932Z",
     "start_time": "2018-03-17T08:15:42.640893Z"
    },
    "collapsed": true
   },
   "outputs": [],
   "source": [
    "da = data_train['Initial'].value_counts()\n",
    "temp =da.to_frame().reset_index()\n",
    "temp.to_pickle(\"title_counts.pkl\")"
   ]
  },
  {
   "cell_type": "code",
   "execution_count": null,
   "metadata": {
    "ExecuteTime": {
     "end_time": "2018-03-17T08:15:43.611512Z",
     "start_time": "2018-03-17T08:15:43.436045Z"
    },
    "collapsed": true
   },
   "outputs": [],
   "source": [
    "dat = pd.read_pickle(\"title_counts.pkl\")"
   ]
  },
  {
   "cell_type": "markdown",
   "metadata": {},
   "source": [
    "### 衍生变量"
   ]
  },
  {
   "cell_type": "markdown",
   "metadata": {},
   "source": [
    "####  Name"
   ]
  },
  {
   "cell_type": "markdown",
   "metadata": {},
   "source": [
    "### 取出Name字段中包含 Major的数据"
   ]
  },
  {
   "cell_type": "code",
   "execution_count": null,
   "metadata": {
    "ExecuteTime": {
     "end_time": "2018-03-17T08:15:44.909549Z",
     "start_time": "2018-03-17T08:15:44.881475Z"
    },
    "collapsed": true
   },
   "outputs": [],
   "source": [
    "data_train[data_train['Name'].str.contains(\"Major\")]  #contains查看数据"
   ]
  },
  {
   "cell_type": "markdown",
   "metadata": {},
   "source": [
    "### 计算 Name字符串长度 生成Name_length字段"
   ]
  },
  {
   "cell_type": "code",
   "execution_count": null,
   "metadata": {
    "ExecuteTime": {
     "end_time": "2018-03-17T08:15:45.184373Z",
     "start_time": "2018-03-17T08:15:45.180362Z"
    },
    "collapsed": true
   },
   "outputs": [],
   "source": [
    "data_train['Name_length'] =data_train['Name'].apply(len)"
   ]
  },
  {
   "cell_type": "markdown",
   "metadata": {},
   "source": [
    "### 对Name_length字段 进行归一化 (StandardScaler)"
   ]
  },
  {
   "cell_type": "code",
   "execution_count": null,
   "metadata": {
    "ExecuteTime": {
     "end_time": "2018-03-17T08:15:45.473442Z",
     "start_time": "2018-03-17T08:15:45.467456Z"
    },
    "collapsed": true
   },
   "outputs": [],
   "source": [
    "from sklearn.preprocessing import StandardScaler\n",
    "data_train['Name_scaled'] = StandardScaler().fit_transform(data_train['Name_length'].reshape(-1,1))"
   ]
  },
  {
   "cell_type": "markdown",
   "metadata": {},
   "source": [
    "### 因子型分箱(对Title 变量分箱)"
   ]
  },
  {
   "cell_type": "code",
   "execution_count": null,
   "metadata": {
    "ExecuteTime": {
     "end_time": "2018-03-17T08:15:46.223067Z",
     "start_time": "2018-03-17T08:15:46.208026Z"
    },
    "collapsed": true
   },
   "outputs": [],
   "source": [
    "#map 替换有多个类型 情况\n",
    "title_dict = {\n",
    "        \"Capt\":       \"Officer\",\n",
    "        \"Col\":        \"Officer\",\n",
    "        \"Major\":      \"Officer\",\n",
    "        \"Jonkheer\":   \"Royalty\",\n",
    "        \"Don\":        \"Royalty\",\n",
    "        \"Sir\" :       \"Royalty\",\n",
    "        \"Dr\":         \"Officer\",\n",
    "        \"Rev\":        \"Officer\",\n",
    "        \"the Countess\":\"Royalty\",\n",
    "        \"Dona\":       \"Royalty\",\n",
    "        \"Mme\":        \"Mrs\",\n",
    "        \"Mlle\":       \"Miss\",\n",
    "        \"Ms\":         \"Mrs\",\n",
    "        \"Mr\" :        \"Mr\",\n",
    "        \"Mrs\" :       \"Mrs\",\n",
    "        \"Miss\" :      \"Miss\",\n",
    "        \"Master\" :    \"Master\",\n",
    "        \"Lady\" :      \"Royalty\"\n",
    "}\n",
    "data_train['Title'] = data_train['Initial'].map(title_dict)"
   ]
  },
  {
   "cell_type": "markdown",
   "metadata": {},
   "source": [
    "### 将Initial 稀少因子 合并统计 (Mlle Ms-> Miss\\ Mme-> Mrs) \n",
    "#首先替换少数称呼"
   ]
  },
  {
   "cell_type": "code",
   "execution_count": null,
   "metadata": {
    "ExecuteTime": {
     "end_time": "2018-03-17T08:15:47.260784Z",
     "start_time": "2018-03-17T08:15:47.252762Z"
    },
    "collapsed": true
   },
   "outputs": [],
   "source": [
    "data_train['Initial'] = data_train['Initial'].replace('Mlle','Miss')\n",
    "data_train['Initial'] = data_train['Initial'].replace('Ms','Miss')\n",
    "data_train['Initial'] = data_train['Initial'].replace('Mme','Mrs')"
   ]
  },
  {
   "cell_type": "markdown",
   "metadata": {},
   "source": [
    "### 将Initial 中出现频次小于40的 索引 提取出来"
   ]
  },
  {
   "cell_type": "code",
   "execution_count": null,
   "metadata": {
    "collapsed": true
   },
   "outputs": [],
   "source": [
    "temp = data_train['Initial'].value_counts(dropna=False)\n",
    "rare_title1 = list(temp[temp<40].index)  # 查看不加index 情况"
   ]
  },
  {
   "cell_type": "markdown",
   "metadata": {},
   "source": [
    "### 将Initial 中 下面称呼全部更名为 Rare 赋给字段Title2\n",
    "'Dr', 'Rev', 'Col', 'Major', 'Capt', 'the Countess', 'Jonkheer', 'Sir', 'Lady', 'Don'"
   ]
  },
  {
   "cell_type": "code",
   "execution_count": null,
   "metadata": {
    "ExecuteTime": {
     "end_time": "2018-03-17T08:15:47.837294Z",
     "start_time": "2018-03-17T08:15:47.827267Z"
    },
    "collapsed": true
   },
   "outputs": [],
   "source": [
    "rare_title2= ['Dr', 'Rev', 'Col', 'Major', 'Capt', 'the Countess', 'Jonkheer', 'Sir', 'Lady', 'Don']\n",
    "data_train['Title2'] = data_train['Initial'].replace(rare_title1, 'Rare')"
   ]
  },
  {
   "cell_type": "markdown",
   "metadata": {},
   "source": [
    "### 统计Title中 的频次 包括NaN"
   ]
  },
  {
   "cell_type": "code",
   "execution_count": null,
   "metadata": {
    "ExecuteTime": {
     "end_time": "2018-03-17T08:15:49.178148Z",
     "start_time": "2018-03-17T08:15:49.170152Z"
    },
    "collapsed": true
   },
   "outputs": [],
   "source": [
    "# data_train['Initial'].value_counts(dropna=False)\n",
    "data_train['Title'].value_counts(dropna =False)"
   ]
  },
  {
   "cell_type": "markdown",
   "metadata": {},
   "source": [
    "### 将Title2进行数值化"
   ]
  },
  {
   "cell_type": "code",
   "execution_count": null,
   "metadata": {
    "ExecuteTime": {
     "end_time": "2018-01-30T00:39:52.540704Z",
     "start_time": "2018-01-30T00:39:52.533682Z"
    },
    "collapsed": true
   },
   "outputs": [],
   "source": [
    "title_mapping ={\n",
    "    'Mr':1,\n",
    "    'Miss':2,\n",
    "    'Mrs':3,\n",
    "    'Master':4,\n",
    "    'Rare':5,\n",
    "}\n",
    "data_train['Title_train'] = data_train['Title2'].map(title_mapping)"
   ]
  },
  {
   "cell_type": "markdown",
   "metadata": {},
   "source": [
    "### 根据Title2生成是否是Master的字段 W_Master(np.where)"
   ]
  },
  {
   "cell_type": "code",
   "execution_count": null,
   "metadata": {
    "ExecuteTime": {
     "end_time": "2018-01-30T00:39:53.662050Z",
     "start_time": "2018-01-30T00:39:53.657036Z"
    },
    "collapsed": true
   },
   "outputs": [],
   "source": [
    "#np.where 方法\n",
    "data_train['W_Master'] = np.where(data_train['Title2']=='Master', 0, 1)"
   ]
  },
  {
   "cell_type": "markdown",
   "metadata": {},
   "source": [
    "####  Age"
   ]
  },
  {
   "cell_type": "markdown",
   "metadata": {},
   "source": [
    "### 连续型变量分箱(对Age分箱 0,16,32,48,64 分箱) \n",
    "#### 1.pd.cut"
   ]
  },
  {
   "cell_type": "code",
   "execution_count": null,
   "metadata": {
    "ExecuteTime": {
     "end_time": "2018-01-30T00:39:58.035984Z",
     "start_time": "2018-01-30T00:39:58.027994Z"
    },
    "collapsed": true
   },
   "outputs": [],
   "source": [
    "cut_points = [0,16,32,48,64,np.inf]\n",
    "labels = [1,2,3,4,5]\n",
    "data_train['Age_cut1']= pd.cut(data_train['Age'],cut_points,labels= labels,right =False) #默认右闭"
   ]
  },
  {
   "cell_type": "markdown",
   "metadata": {},
   "source": [
    "#### 2.用条件划分 loc"
   ]
  },
  {
   "cell_type": "code",
   "execution_count": null,
   "metadata": {
    "ExecuteTime": {
     "end_time": "2018-01-30T00:39:58.666232Z",
     "start_time": "2018-01-30T00:39:58.624154Z"
    },
    "collapsed": true
   },
   "outputs": [],
   "source": [
    "data_train['Age_band']=0\n",
    "data_train.loc[data['Age']<=16,'Age_band']=0\n",
    "data_train.loc[(data['Age']>16)&(data['Age']<=32),'Age_band']=1\n",
    "data_train.loc[(data['Age']>32)&(data['Age']<=48),'Age_band']=2\n",
    "data_train.loc[(data['Age']>48)&(data['Age']<=64),'Age_band']=3\n",
    "data_train.loc[data['Age']>64,'Age_band']=4\n",
    "# data_train.head(2)"
   ]
  },
  {
   "cell_type": "markdown",
   "metadata": {},
   "source": [
    "### 5等分  pd.cut -生成 CategoricalAge 字段"
   ]
  },
  {
   "cell_type": "code",
   "execution_count": null,
   "metadata": {
    "ExecuteTime": {
     "end_time": "2018-01-30T00:39:59.632063Z",
     "start_time": "2018-01-30T00:39:59.624012Z"
    },
    "collapsed": true
   },
   "outputs": [],
   "source": [
    "data_train['CategoricalAge'] = pd.cut(data_train['Age'], 5)"
   ]
  },
  {
   "cell_type": "markdown",
   "metadata": {},
   "source": [
    "### 统计CategoricalAge 字段取值出现频次"
   ]
  },
  {
   "cell_type": "code",
   "execution_count": null,
   "metadata": {
    "ExecuteTime": {
     "end_time": "2018-01-30T00:40:00.392655Z",
     "start_time": "2018-01-30T00:40:00.384127Z"
    },
    "collapsed": true
   },
   "outputs": [],
   "source": [
    "data_train['CategoricalAge'].value_counts(dropna =False)"
   ]
  },
  {
   "cell_type": "markdown",
   "metadata": {},
   "source": [
    "###  对Age变量进行正交化 生成Age_Scaled字段\n",
    "#### 连续变量数值幅度变化过大，采用正交化，降低对模型干扰 ，包括Fare变量（极端值->不好归一化）"
   ]
  },
  {
   "cell_type": "code",
   "execution_count": null,
   "metadata": {
    "ExecuteTime": {
     "end_time": "2018-01-30T00:40:01.704683Z",
     "start_time": "2018-01-30T00:40:01.670592Z"
    },
    "collapsed": true
   },
   "outputs": [],
   "source": [
    "from sklearn.preprocessing import StandardScaler\n",
    "data_train['Age_scaled'] = StandardScaler().fit_transform(data_train['Age'].reshape(-1,1))\n",
    "data_train.head()\n",
    "# data_train.drop('temp',axis =1, inplace =True)"
   ]
  },
  {
   "cell_type": "markdown",
   "metadata": {},
   "source": [
    "####  Fare"
   ]
  },
  {
   "cell_type": "markdown",
   "metadata": {},
   "source": [
    "### 连续变量 Fare进行分箱 7.91\\14.454\\31 生成FareCut"
   ]
  },
  {
   "cell_type": "code",
   "execution_count": null,
   "metadata": {
    "ExecuteTime": {
     "end_time": "2018-01-30T00:40:04.950654Z",
     "start_time": "2018-01-30T00:40:04.926619Z"
    },
    "collapsed": true
   },
   "outputs": [],
   "source": [
    "data_train['FareCut'] = data_train['Fare'] \n",
    "data_train.loc[data_train['FareCut']<=7.91,'FareCut']  \t\t\t\t\t                 = 0\n",
    "data_train.loc[(data_train['FareCut']>7.91) & (data_train['FareCut']<=14.454),'FareCut'] = 1\n",
    "data_train.loc[(data_train['FareCut']>14.454) & (data_train['FareCut']<=31),'FareCut']   = 2\n",
    "data_train.loc[data_train['FareCut']>31,'FareCut'] \t\t\t\t\t                     = 3"
   ]
  },
  {
   "cell_type": "markdown",
   "metadata": {},
   "source": [
    "### 对Fare 进行正交化"
   ]
  },
  {
   "cell_type": "code",
   "execution_count": null,
   "metadata": {
    "ExecuteTime": {
     "end_time": "2018-01-30T00:40:05.791276Z",
     "start_time": "2018-01-30T00:40:05.786260Z"
    },
    "collapsed": true
   },
   "outputs": [],
   "source": [
    "data_train['Fare_scaled'] = StandardScaler().fit_transform(data_train['Fare'].reshape(-1,1))"
   ]
  },
  {
   "cell_type": "markdown",
   "metadata": {},
   "source": [
    "**<font color=blue>数据格式化</font>**<br>\n"
   ]
  },
  {
   "cell_type": "markdown",
   "metadata": {},
   "source": [
    "### 对于浮点数Fare 规范小数点位数(2位)"
   ]
  },
  {
   "cell_type": "code",
   "execution_count": null,
   "metadata": {
    "ExecuteTime": {
     "end_time": "2018-01-30T00:40:07.342024Z",
     "start_time": "2018-01-30T00:40:07.327985Z"
    },
    "collapsed": true
   },
   "outputs": [],
   "source": [
    "data_train['Fare_scale'] = data_train['Fare'].apply(lambda x: '%.2f' %x)\n",
    "data_train['Fare_scale'].head()"
   ]
  },
  {
   "cell_type": "markdown",
   "metadata": {},
   "source": [
    "####  Sex"
   ]
  },
  {
   "cell_type": "markdown",
   "metadata": {},
   "source": [
    "### 对Sex 进行Encode (replace)"
   ]
  },
  {
   "cell_type": "code",
   "execution_count": null,
   "metadata": {
    "ExecuteTime": {
     "end_time": "2018-01-30T00:40:09.055888Z",
     "start_time": "2018-01-30T00:40:09.042855Z"
    },
    "collapsed": true
   },
   "outputs": [],
   "source": [
    "data_train['Sex_bool']=data_train['Sex'].replace({'male':0,'female':1})\n",
    "data_train['Sex'].replace({'male':0,'female':1},inplace = True)\n",
    "data_train['Sex'].astype(int)  # 真正替换"
   ]
  },
  {
   "cell_type": "markdown",
   "metadata": {
    "ExecuteTime": {
     "end_time": "2018-01-17T17:09:49.772366Z",
     "start_time": "2018-01-17T17:09:49.763838Z"
    }
   },
   "source": [
    "#### Cabin"
   ]
  },
  {
   "cell_type": "markdown",
   "metadata": {},
   "source": [
    "###  根据Cabin 是否缺失 生成 Has_Cabin 字段\n",
    "#### apply 替换只有两个类型 情况\n",
    "#### 把有值和无值作为衍生变量，因为数值分散，缺失值较多"
   ]
  },
  {
   "cell_type": "code",
   "execution_count": null,
   "metadata": {
    "ExecuteTime": {
     "end_time": "2018-01-30T00:40:23.259136Z",
     "start_time": "2018-01-30T00:40:23.254124Z"
    },
    "collapsed": true
   },
   "outputs": [],
   "source": [
    "data_train['Has_Cabin'] = data_train[\"Cabin\"].apply(lambda x: 0 if type(x) == float else 1)  "
   ]
  },
  {
   "cell_type": "markdown",
   "metadata": {},
   "source": [
    "#### SibSp  +  Parch"
   ]
  },
  {
   "cell_type": "markdown",
   "metadata": {},
   "source": [
    "### 组合SibSp 和 Patch 字段 生成Family_Size 字段"
   ]
  },
  {
   "cell_type": "code",
   "execution_count": null,
   "metadata": {
    "ExecuteTime": {
     "end_time": "2018-01-30T00:40:25.538373Z",
     "start_time": "2018-01-30T00:40:25.533863Z"
    },
    "collapsed": true
   },
   "outputs": [],
   "source": [
    "data_train['Family_Size'] = data_train[\"SibSp\"] + data_train['Parch'] + 1 "
   ]
  },
  {
   "cell_type": "markdown",
   "metadata": {},
   "source": [
    "### 根据Family_Size 是否为1 生成IsAlone 字段"
   ]
  },
  {
   "cell_type": "code",
   "execution_count": null,
   "metadata": {
    "ExecuteTime": {
     "end_time": "2018-01-30T00:40:26.220833Z",
     "start_time": "2018-01-30T00:40:26.210834Z"
    },
    "collapsed": true
   },
   "outputs": [],
   "source": [
    "data_train['IsAlone'] = 0\n",
    "data_train.loc[data_train['Family_Size'] == 1,'IsAlone'] = 1"
   ]
  },
  {
   "cell_type": "markdown",
   "metadata": {},
   "source": [
    "### 对Embarked 字段 数值化 Encode 0,1,2,-1"
   ]
  },
  {
   "cell_type": "markdown",
   "metadata": {},
   "source": [
    "#### Embarked"
   ]
  },
  {
   "cell_type": "code",
   "execution_count": null,
   "metadata": {
    "ExecuteTime": {
     "end_time": "2018-01-30T00:40:27.782546Z",
     "start_time": "2018-01-30T00:40:27.776532Z"
    },
    "collapsed": true
   },
   "outputs": [],
   "source": [
    "data_train['Embarked'] = data_train['Embarked'].map( {'S': 0, 'C': 1, 'Q': 2, np.nan: -1}).astype(int)"
   ]
  },
  {
   "cell_type": "markdown",
   "metadata": {},
   "source": [
    "#### 统计Embarked字段出现频次"
   ]
  },
  {
   "cell_type": "code",
   "execution_count": null,
   "metadata": {
    "ExecuteTime": {
     "end_time": "2018-01-30T00:40:28.803266Z",
     "start_time": "2018-01-30T00:40:28.795274Z"
    },
    "collapsed": true
   },
   "outputs": [],
   "source": [
    "data_train.Embarked.value_counts(dropna =False)"
   ]
  },
  {
   "cell_type": "markdown",
   "metadata": {},
   "source": [
    "## One-Hot编码"
   ]
  },
  {
   "cell_type": "markdown",
   "metadata": {},
   "source": [
    "### 对 Embarked 进行One-Hot编码 添加前缀 Cabin 生成数据Embarked_dummies"
   ]
  },
  {
   "cell_type": "code",
   "execution_count": null,
   "metadata": {
    "collapsed": true
   },
   "outputs": [],
   "source": [
    "Embarked_dummies = pd.get_dummies(data_train['Embarked'],prefix ='Cabin')"
   ]
  },
  {
   "cell_type": "markdown",
   "metadata": {},
   "source": [
    "### 对 Title2进行One-Hot编码 添加前缀 Title 生成数据Title2_dummies "
   ]
  },
  {
   "cell_type": "code",
   "execution_count": null,
   "metadata": {
    "collapsed": true
   },
   "outputs": [],
   "source": [
    "Title2_dummies = pd.get_dummies(data_train['Title2'],prefix ='Title')"
   ]
  },
  {
   "cell_type": "markdown",
   "metadata": {},
   "source": [
    "### 将 Embarked_dummies 和Title2_dummies 拼回原数据"
   ]
  },
  {
   "cell_type": "code",
   "execution_count": null,
   "metadata": {
    "collapsed": true
   },
   "outputs": [],
   "source": [
    "df1 = pd.concat([data_train,Embarked_dummies, Title2_dummies],axis = 1)"
   ]
  },
  {
   "cell_type": "markdown",
   "metadata": {},
   "source": [
    "#### drop 原数据 df1中的 Embarked 和  Title2列"
   ]
  },
  {
   "cell_type": "code",
   "execution_count": null,
   "metadata": {
    "ExecuteTime": {
     "end_time": "2018-01-30T00:40:31.516362Z",
     "start_time": "2018-01-30T00:40:31.491295Z"
    },
    "collapsed": true
   },
   "outputs": [],
   "source": [
    "df1.drop(['Embarked','Title2'],axis = 1,inplace = True )"
   ]
  },
  {
   "cell_type": "markdown",
   "metadata": {},
   "source": [
    "### 或者用 sklearn  中的方法 进行One_Hot_Encode"
   ]
  },
  {
   "cell_type": "code",
   "execution_count": null,
   "metadata": {
    "ExecuteTime": {
     "end_time": "2018-01-30T00:41:01.824948Z",
     "start_time": "2018-01-30T00:41:01.783334Z"
    },
    "collapsed": true
   },
   "outputs": [],
   "source": [
    "from sklearn.preprocessing import  LabelEncoder, OneHotEncoder\n",
    "\n",
    "cat_vars = ['Embarked','Title2']\n",
    "for col in cat_vars:\n",
    "    data_train[col + 'ch'] = LabelEncoder().fit_transform(data_train[col])\n",
    "\n",
    "data_train.head()"
   ]
  },
  {
   "cell_type": "code",
   "execution_count": null,
   "metadata": {
    "ExecuteTime": {
     "end_time": "2018-01-30T00:46:07.964713Z",
     "start_time": "2018-01-30T00:46:07.957161Z"
    },
    "collapsed": true
   },
   "outputs": [],
   "source": [
    "LabelEncoder().fit_transform(data_train['Title2'])"
   ]
  },
  {
   "cell_type": "markdown",
   "metadata": {},
   "source": [
    "###  删除 行列"
   ]
  },
  {
   "cell_type": "markdown",
   "metadata": {},
   "source": [
    "### 删除第2-5行 \n",
    "### da  = data_train.copy()"
   ]
  },
  {
   "cell_type": "code",
   "execution_count": null,
   "metadata": {
    "ExecuteTime": {
     "end_time": "2018-01-30T00:46:23.264558Z",
     "start_time": "2018-01-30T00:46:23.258574Z"
    },
    "collapsed": true
   },
   "outputs": [],
   "source": [
    "# da.drop([2,3],axis = 0 )\n",
    "df1.columns"
   ]
  },
  {
   "cell_type": "markdown",
   "metadata": {},
   "source": [
    "### 删除列\n",
    "'Name','Ticket','Cabin','Initial','Title','CategoricalAge','Age_prd','Fare_scale'"
   ]
  },
  {
   "cell_type": "code",
   "execution_count": null,
   "metadata": {
    "ExecuteTime": {
     "end_time": "2018-01-30T00:46:33.132005Z",
     "start_time": "2018-01-30T00:46:33.042233Z"
    },
    "collapsed": true
   },
   "outputs": [],
   "source": [
    "df1.drop(['Name','Ticket','Cabin','Initial','Title','CategoricalAge','Age_prd','Fare_scale'],axis = 1 ,inplace = True)\n",
    "df1.drop(['Fare','Sex_bool','Age','Name_length','Age_cut1'],axis = 1,inplace =True)\n",
    "df1 #,'AgeFill','Age_cut'"
   ]
  },
  {
   "cell_type": "markdown",
   "metadata": {},
   "source": [
    "### 数据切片\n",
    "'PassengerId','Survived', 'Pclass', 'Sex', 'Age','Age_band', 'Embarked',  'Title','Fare', 'FareCut' 数据块"
   ]
  },
  {
   "cell_type": "code",
   "execution_count": null,
   "metadata": {
    "collapsed": true
   },
   "outputs": [],
   "source": [
    "select_cols = ['PassengerId','Survived', 'Pclass', 'Sex', 'Age','Age_band', 'Embarked',  'Title','Fare', 'FareCut']\n",
    "sub_data1 = data_train.loc[:,select_cols]"
   ]
  },
  {
   "cell_type": "markdown",
   "metadata": {},
   "source": [
    "### 选取 Embarked =0 的数据上述列的数据"
   ]
  },
  {
   "cell_type": "code",
   "execution_count": null,
   "metadata": {
    "ExecuteTime": {
     "end_time": "2018-01-25T12:32:44.252853Z",
     "start_time": "2018-01-25T12:32:44.240851Z"
    },
    "collapsed": true
   },
   "outputs": [],
   "source": [
    "sub_data2 = data_train.loc[(data_train.Embarked == 0),select_cols]"
   ]
  },
  {
   "cell_type": "markdown",
   "metadata": {},
   "source": [
    "* 选取'Sex_bool','Age_band','Title2' 数据块 sub_data3\n",
    "* 选取'Sex_bool','SibSp','Title2' 数据块 sub_data4\n",
    "* 选取 sub_data3的 前100行 sub_data5\n",
    "* 选取 sub_data3的 前50:100行 sub_data6\n",
    "* 选取 sub_data4的 前100行  sub_data7\n",
    "* 选取 sub_data4的 前50-100行 sub_data8"
   ]
  },
  {
   "cell_type": "code",
   "execution_count": null,
   "metadata": {
    "ExecuteTime": {
     "end_time": "2018-01-21T15:23:46.276741Z",
     "start_time": "2018-01-21T15:23:46.254464Z"
    },
    "collapsed": true
   },
   "outputs": [],
   "source": [
    "sub_data3 = data_train.loc[:,['Sex_bool','Age_band','Title2']]\n",
    "sub_data4 = data_train.loc[:,['Sex_bool','SibSp','Title2']]\n",
    "sub_data5 = sub_data3.iloc[:100,:]\n",
    "sub_data6 = sub_data3.iloc[50:150,:]\n",
    "sub_data7 = sub_data4.iloc[:100,:]\n",
    "sub_data8 = sub_data4.iloc[50:150,:]"
   ]
  },
  {
   "cell_type": "markdown",
   "metadata": {},
   "source": [
    "### 拼接"
   ]
  },
  {
   "cell_type": "markdown",
   "metadata": {},
   "source": [
    "### 将 sub_data5 与 sub_data6 按行拼接(忽略索引)data1"
   ]
  },
  {
   "cell_type": "markdown",
   "metadata": {},
   "source": [
    "#### 对行axis = 0 情况(默认)    ====变长( 忽略索引按行拼接)"
   ]
  },
  {
   "cell_type": "code",
   "execution_count": null,
   "metadata": {
    "collapsed": true
   },
   "outputs": [],
   "source": [
    "data1 = pd.concat([sub_data5,sub_data6],axis = 0, ignore_index = True)"
   ]
  },
  {
   "cell_type": "markdown",
   "metadata": {},
   "source": [
    "#### 将sub_data5,sub_data7 按行拼接 内拼接\n",
    "#### join 对应 axis 相反的方向   ignore 负责axis同方设置"
   ]
  },
  {
   "cell_type": "code",
   "execution_count": null,
   "metadata": {
    "ExecuteTime": {
     "end_time": "2018-01-21T15:23:56.880566Z",
     "start_time": "2018-01-21T15:23:56.863518Z"
    },
    "collapsed": true
   },
   "outputs": [],
   "source": [
    "data2 = pd.concat([sub_data5,sub_data7],axis = 0, ignore_index = True, join = 'inner')\n"
   ]
  },
  {
   "cell_type": "markdown",
   "metadata": {},
   "source": [
    "### 将sub_data5,sub_data6 按列拼接\n",
    "#### 对列axis = 1 情况  （相同列名情况） 变宽  如果根据 列还是merge引好\n",
    "ignore_index = True 忽略列名"
   ]
  },
  {
   "cell_type": "code",
   "execution_count": null,
   "metadata": {
    "collapsed": true
   },
   "outputs": [],
   "source": [
    "data3 = pd.concat([sub_data5,sub_data6],axis = 1, ignore_index = True) "
   ]
  },
  {
   "cell_type": "markdown",
   "metadata": {},
   "source": [
    "#### 将sub_data5,sub_data8 按列拼接 内拼接"
   ]
  },
  {
   "cell_type": "code",
   "execution_count": null,
   "metadata": {
    "ExecuteTime": {
     "end_time": "2018-01-21T15:23:57.990989Z",
     "start_time": "2018-01-21T15:23:57.953885Z"
    },
    "collapsed": true
   },
   "outputs": [],
   "source": [
    "data4 = pd.concat([sub_data5,sub_data8],axis = 1, join = 'inner')  # 只有50 行\n",
    "data4"
   ]
  },
  {
   "cell_type": "markdown",
   "metadata": {},
   "source": [
    "####   history命令"
   ]
  },
  {
   "cell_type": "markdown",
   "metadata": {},
   "source": [
    "### 去重"
   ]
  },
  {
   "cell_type": "markdown",
   "metadata": {},
   "source": [
    "### 统计重复数量\n",
    "#计算唯一样本数量"
   ]
  },
  {
   "cell_type": "code",
   "execution_count": 50,
   "metadata": {
    "ExecuteTime": {
     "end_time": "2018-04-09T14:52:34.231859Z",
     "start_time": "2018-04-09T14:52:33.958390Z"
    },
    "collapsed": true
   },
   "outputs": [
    {
     "ename": "NameError",
     "evalue": "name 'sub_data3' is not defined",
     "output_type": "error",
     "traceback": [
      "\u001b[1;31m---------------------------------------------------------------------------\u001b[0m",
      "\u001b[1;31mNameError\u001b[0m                                 Traceback (most recent call last)",
      "\u001b[1;32m<ipython-input-50-7e62493b60d6>\u001b[0m in \u001b[0;36m<module>\u001b[1;34m()\u001b[0m\n\u001b[1;32m----> 1\u001b[1;33m \u001b[0msub_data3\u001b[0m\u001b[1;33m.\u001b[0m\u001b[0mduplicated\u001b[0m\u001b[1;33m(\u001b[0m\u001b[1;33m)\u001b[0m\u001b[1;33m.\u001b[0m\u001b[0msum\u001b[0m\u001b[1;33m(\u001b[0m\u001b[1;33m)\u001b[0m\u001b[1;33m\u001b[0m\u001b[0m\n\u001b[0m\u001b[0;32m      2\u001b[0m \u001b[1;31m#计算唯一样本数量\u001b[0m\u001b[1;33m\u001b[0m\u001b[1;33m\u001b[0m\u001b[0m\n",
      "\u001b[1;31mNameError\u001b[0m: name 'sub_data3' is not defined"
     ]
    }
   ],
   "source": [
    "sub_data3.duplicated().sum()"
   ]
  },
  {
   "cell_type": "markdown",
   "metadata": {},
   "source": [
    "#### 统计非重复数量"
   ]
  },
  {
   "cell_type": "code",
   "execution_count": null,
   "metadata": {
    "ExecuteTime": {
     "end_time": "2018-01-21T15:24:04.950531Z",
     "start_time": "2018-01-21T15:24:04.939504Z"
    },
    "collapsed": true
   },
   "outputs": [],
   "source": [
    "dup_num = len(sub_data3) - sub_data3.duplicated().sum()\n",
    "dup_num"
   ]
  },
  {
   "cell_type": "markdown",
   "metadata": {},
   "source": [
    "### 显示重复的行数"
   ]
  },
  {
   "cell_type": "code",
   "execution_count": null,
   "metadata": {
    "ExecuteTime": {
     "end_time": "2018-01-21T15:24:06.182562Z",
     "start_time": "2018-01-21T15:24:06.148436Z"
    },
    "collapsed": true
   },
   "outputs": [],
   "source": [
    "sub_data3[sub_data3.duplicated()] "
   ]
  },
  {
   "cell_type": "markdown",
   "metadata": {},
   "source": [
    "### 剔重操作\n",
    "### 剔除 'Sex_bool','Title2' 的重复数据"
   ]
  },
  {
   "cell_type": "code",
   "execution_count": null,
   "metadata": {
    "ExecuteTime": {
     "end_time": "2018-01-21T15:24:12.155523Z",
     "start_time": "2018-01-21T15:24:12.146531Z"
    },
    "collapsed": true
   },
   "outputs": [],
   "source": [
    "sub_data4 = sub_data3.drop_duplicates(['Sex_bool','Title2'])\n",
    "# sub_data3.drop_duplicates(['Sex_bool','Title2'],keep = 'last',inplace =False)"
   ]
  },
  {
   "cell_type": "markdown",
   "metadata": {},
   "source": [
    "### 排序\n",
    "#### 对Age_band 进行倒序排列"
   ]
  },
  {
   "cell_type": "code",
   "execution_count": null,
   "metadata": {
    "collapsed": true
   },
   "outputs": [],
   "source": [
    "sub_data3.sort_values(by =['Age_band'],ascending =False)"
   ]
  },
  {
   "cell_type": "markdown",
   "metadata": {},
   "source": [
    "###  数据排序\n",
    "####  对'Age','Pclass' 进行排倒序 缺失值排在最前面"
   ]
  },
  {
   "cell_type": "code",
   "execution_count": null,
   "metadata": {
    "ExecuteTime": {
     "end_time": "2018-01-21T15:24:13.484673Z",
     "start_time": "2018-01-21T15:24:13.458090Z"
    },
    "collapsed": true
   },
   "outputs": [],
   "source": [
    "sub_data2.sort_values(by = ['Age','Pclass'])\n",
    "sub_data2.sort_values(by = ['Age','Pclass'],ascending = False, na_position = 'first')"
   ]
  },
  {
   "cell_type": "markdown",
   "metadata": {},
   "source": [
    "#### 利用rank() 方法排序(掌握)"
   ]
  },
  {
   "cell_type": "code",
   "execution_count": null,
   "metadata": {
    "ExecuteTime": {
     "end_time": "2018-01-17T17:38:11.303005Z",
     "start_time": "2018-01-17T17:38:11.246855Z"
    },
    "collapsed": true
   },
   "outputs": [],
   "source": [
    "sub_data2.rank(axis =1)"
   ]
  },
  {
   "cell_type": "markdown",
   "metadata": {
    "ExecuteTime": {
     "end_time": "2018-04-09T14:58:01.078758Z",
     "start_time": "2018-04-09T14:58:01.069951Z"
    }
   },
   "source": [
    "### 将sub_data4 索引 变为列,列名temp"
   ]
  },
  {
   "cell_type": "code",
   "execution_count": null,
   "metadata": {
    "ExecuteTime": {
     "end_time": "2018-01-23T14:54:44.049291Z",
     "start_time": "2018-01-23T14:54:44.034251Z"
    },
    "collapsed": true
   },
   "outputs": [],
   "source": [
    "sub_data4.set_index('temp',inplace = True)\n",
    "# sub_data4.reset_index(drop=True)"
   ]
  },
  {
   "cell_type": "markdown",
   "metadata": {},
   "source": [
    "### 重命名"
   ]
  },
  {
   "cell_type": "markdown",
   "metadata": {
    "ExecuteTime": {
     "end_time": "2018-04-09T14:59:17.546906Z",
     "start_time": "2018-04-09T14:59:17.541569Z"
    }
   },
   "source": [
    "### 重命名sub_data4的列名 --全部替换为'index','Sex_Bool','Age_Band','Title'"
   ]
  },
  {
   "cell_type": "code",
   "execution_count": null,
   "metadata": {
    "ExecuteTime": {
     "end_time": "2018-01-21T15:24:48.137559Z",
     "start_time": "2018-01-21T15:24:48.132546Z"
    },
    "collapsed": true
   },
   "outputs": [],
   "source": [
    "sub_data4.column = ['index','Sex_Bool','Age_Band','Title']"
   ]
  },
  {
   "cell_type": "markdown",
   "metadata": {},
   "source": [
    "### sub_data4 将字段名 全部变为大写"
   ]
  },
  {
   "cell_type": "code",
   "execution_count": null,
   "metadata": {
    "collapsed": true
   },
   "outputs": [],
   "source": [
    "sub_data4.rename(columns =str.upper)"
   ]
  },
  {
   "cell_type": "markdown",
   "metadata": {},
   "source": [
    "### 重命名sub_data4的列名 --部分替换'Sex_bool':'Sex_Bool','Title2': 'Title'"
   ]
  },
  {
   "cell_type": "code",
   "execution_count": null,
   "metadata": {
    "ExecuteTime": {
     "end_time": "2018-01-21T15:24:50.553422Z",
     "start_time": "2018-01-21T15:24:50.538378Z"
    },
    "collapsed": true
   },
   "outputs": [],
   "source": [
    "sub_data4.rename(columns = {'Sex_bool':'Sex_Bool','Title2': 'Title'})\n",
    "sub_data4.rename(columns = {'Sex_bool':'Sex_Bool','Title2': 'Title'},index ={7:3,30:4,556:5} )"
   ]
  },
  {
   "cell_type": "markdown",
   "metadata": {},
   "source": [
    "###  数据合并"
   ]
  },
  {
   "cell_type": "markdown",
   "metadata": {},
   "source": [
    "###  将data_train 和 sub_data4数据根据 Age_band进行 left合并"
   ]
  },
  {
   "cell_type": "code",
   "execution_count": null,
   "metadata": {
    "ExecuteTime": {
     "end_time": "2018-01-21T15:24:52.642514Z",
     "start_time": "2018-01-21T15:24:52.621953Z"
    },
    "collapsed": true
   },
   "outputs": [],
   "source": [
    "full_data = pd.merge(data_train,sub_data4,on = ['Age_band'], how ='left' )"
   ]
  },
  {
   "cell_type": "markdown",
   "metadata": {},
   "source": [
    "### 将data_train 和 sub_data4数据根据 Age_band进行 left合并 同名字段添加后缀left right  suffixes= 默认_x _y"
   ]
  },
  {
   "cell_type": "code",
   "execution_count": null,
   "metadata": {
    "ExecuteTime": {
     "end_time": "2018-01-21T15:24:53.686501Z",
     "start_time": "2018-01-21T15:24:53.665475Z"
    },
    "collapsed": true
   },
   "outputs": [],
   "source": [
    "full_data = pd.merge(data_train,sub_data4,left_index =  True, right_on =['index'], how ='left', suffixes=('_left', '_right'))"
   ]
  },
  {
   "cell_type": "markdown",
   "metadata": {},
   "source": [
    "#### 将data_train 和 sub_data4数据根据'Sex_bool','Age_band','Title2'进行 left合并"
   ]
  },
  {
   "cell_type": "code",
   "execution_count": null,
   "metadata": {
    "ExecuteTime": {
     "end_time": "2018-01-21T15:24:54.644287Z",
     "start_time": "2018-01-21T15:24:54.632252Z"
    },
    "collapsed": true
   },
   "outputs": [],
   "source": [
    "full_data = pd.merge(data_train,sub_data4,on =['Sex_bool','Age_band','Title2'], how ='left' )"
   ]
  },
  {
   "cell_type": "markdown",
   "metadata": {},
   "source": [
    "### 数据聚合"
   ]
  },
  {
   "cell_type": "markdown",
   "metadata": {},
   "source": [
    "#### 聚合函数\n",
    "* count()\n",
    "* mean()\n",
    "* std()\n",
    "* agg()  ==>一次运用多个函数"
   ]
  },
  {
   "cell_type": "markdown",
   "metadata": {},
   "source": [
    "### 查看data_train 中 'Survived' 的按照'Sex', 的数量分布data_group(groupby)"
   ]
  },
  {
   "cell_type": "code",
   "execution_count": null,
   "metadata": {
    "collapsed": true
   },
   "outputs": [],
   "source": [
    "# 两个变量关系\n",
    "data_group = data_train[['Sex','Survived']].groupby('Sex').count()"
   ]
  },
  {
   "cell_type": "markdown",
   "metadata": {},
   "source": [
    "#### 将data_group 绘制柱状图"
   ]
  },
  {
   "cell_type": "code",
   "execution_count": null,
   "metadata": {
    "ExecuteTime": {
     "end_time": "2018-01-25T12:33:17.132647Z",
     "start_time": "2018-01-25T12:33:16.914760Z"
    },
    "collapsed": true
   },
   "outputs": [],
   "source": [
    "data_group.plot(kind ='bar')"
   ]
  },
  {
   "cell_type": "code",
   "execution_count": null,
   "metadata": {
    "ExecuteTime": {
     "end_time": "2018-01-25T12:33:29.949781Z",
     "start_time": "2018-01-25T12:33:29.906603Z"
    },
    "collapsed": true
   },
   "outputs": [],
   "source": [
    "# 对同一类型变量聚合\n",
    "for x in data_train:\n",
    "    if data_train[x].dtype == 'object' :\n",
    "#     if data1[x].dtype not in  ['float64' , 'int32','int64'] :\n",
    "        print('Survival Correlation by:', x)\n",
    "        print(data_train[[x, 'Survived']].groupby(x, as_index=False).mean())\n",
    "        print('-'*10, '\\n')\n",
    "        "
   ]
  },
  {
   "cell_type": "code",
   "execution_count": null,
   "metadata": {
    "ExecuteTime": {
     "end_time": "2018-01-25T12:34:00.212218Z",
     "start_time": "2018-01-25T12:34:00.202193Z"
    },
    "collapsed": true
   },
   "outputs": [],
   "source": [
    "data_train.groupby(['Sex','Survived'])['Survived'].count()"
   ]
  },
  {
   "cell_type": "code",
   "execution_count": null,
   "metadata": {
    "ExecuteTime": {
     "end_time": "2018-01-25T12:34:01.832224Z",
     "start_time": "2018-01-25T12:34:01.825202Z"
    },
    "collapsed": true
   },
   "outputs": [],
   "source": [
    "temp = data_train.groupby(['Sex','Survived'])['Survived'].count().to_frame()"
   ]
  },
  {
   "cell_type": "code",
   "execution_count": null,
   "metadata": {
    "ExecuteTime": {
     "end_time": "2018-01-25T12:34:02.847501Z",
     "start_time": "2018-01-25T12:34:02.837474Z"
    },
    "collapsed": true
   },
   "outputs": [],
   "source": [
    "data_train.groupby(['Sex','Survived'],as_index =False)['Survived'].size()"
   ]
  },
  {
   "cell_type": "code",
   "execution_count": null,
   "metadata": {
    "ExecuteTime": {
     "end_time": "2018-01-25T12:34:05.740371Z",
     "start_time": "2018-01-25T12:34:05.729341Z"
    },
    "collapsed": true
   },
   "outputs": [],
   "source": [
    "#折线图(对于 Series 加上索引)\n",
    "# data_train['Fare'].cumsum().plot()   # cumsum() 累加函数\n",
    "\n",
    "embark_perc = data_train[[\"Embarked\", \"Survived\"]].groupby(['Embarked'],as_index=False).mean()"
   ]
  },
  {
   "cell_type": "code",
   "execution_count": null,
   "metadata": {
    "ExecuteTime": {
     "end_time": "2018-01-25T12:34:12.167821Z",
     "start_time": "2018-01-25T12:34:11.649916Z"
    },
    "collapsed": true
   },
   "outputs": [],
   "source": [
    "f,ax=plt.subplots(1,3,figsize=(18,6))\n",
    "\n",
    "data_train[['Sex','Survived']].groupby(['Sex']).mean().plot.bar(ax=ax[0])\n",
    "ax[0].set_title('Survived vs Sex')\n",
    "\n",
    "sns.countplot('Sex',hue='Survived',data=data_train,ax=ax[1])\n",
    "ax[1].set_title('Sex:Survived vs Dead')\n",
    "\n",
    "sns.barplot(x='Embarked', y='Survived', data=embark_perc,order=['S','C','Q'],ax=ax[2])\n",
    "\n",
    "plt.show()"
   ]
  },
  {
   "cell_type": "code",
   "execution_count": null,
   "metadata": {
    "ExecuteTime": {
     "end_time": "2018-01-21T15:26:44.592147Z",
     "start_time": "2018-01-21T15:26:44.588138Z"
    },
    "collapsed": true
   },
   "outputs": [],
   "source": [
    "# data_train[['Title', 'Survived']].groupby(['Title'],as_index =False).agg(['mean','count','sum'])"
   ]
  },
  {
   "cell_type": "code",
   "execution_count": null,
   "metadata": {
    "ExecuteTime": {
     "end_time": "2018-03-17T08:16:59.019922Z",
     "start_time": "2018-03-17T08:16:58.972795Z"
    },
    "collapsed": true
   },
   "outputs": [],
   "source": [
    "cembark_sum = data_train[[\"Embarked\", \"Title2\",'Fare']].groupby([\"Embarked\", \"Title2\"]).count()\n",
    "embark_prec = cembark_sum.unstack(0).fillna(0)\n",
    "embark_prec.div(embark_prec.sum(axis =1), axis = 0,).applymap(lambda x: '%.1f%%' %(x*100))  #行加总\n",
    "embark_prec.div(embark_prec.sum(axis =0), axis = 1,).applymap(lambda x: '%.1f%%' %(x*100))  #列加总\n",
    "embark_prec.div(len(data_train)).applymap(lambda x: '%.1f%%' %(x*100))   # 对整体除百分比\n",
    "# apply(lambda x: '%.2f%%' %(x*100))\n",
    "# applymap 对所有元素操作   map 仅对series   apply既可以行 也可以列"
   ]
  },
  {
   "cell_type": "markdown",
   "metadata": {},
   "source": [
    "### pandas 风格style\n",
    "参考：\n",
    "* CSDN风格文档 http://blog.csdn.net/wuwan5296/article/details/78636347\n",
    "* pandas style http://pandas.pydata.org/pandas-docs/version/0.18.1/style.html"
   ]
  },
  {
   "cell_type": "code",
   "execution_count": null,
   "metadata": {
    "ExecuteTime": {
     "end_time": "2018-03-17T08:42:34.459420Z",
     "start_time": "2018-03-17T08:42:34.453402Z"
    },
    "collapsed": true
   },
   "outputs": [],
   "source": [
    "df = embark_prec\n",
    "df1 = df['Fare'] \n",
    "# df['Fare']['C']"
   ]
  },
  {
   "cell_type": "code",
   "execution_count": null,
   "metadata": {
    "ExecuteTime": {
     "end_time": "2018-03-17T08:35:43.743622Z",
     "start_time": "2018-03-17T08:35:43.734630Z"
    },
    "collapsed": true,
    "scrolled": true
   },
   "outputs": [],
   "source": [
    "df1.style.format({'C':'{:+.2f}'})  # 添加正负号"
   ]
  },
  {
   "cell_type": "code",
   "execution_count": null,
   "metadata": {
    "ExecuteTime": {
     "end_time": "2018-03-17T08:56:52.732320Z",
     "start_time": "2018-03-17T08:56:52.705280Z"
    },
    "collapsed": true
   },
   "outputs": [],
   "source": [
    "embark_prec.style.background_gradient(cmap = 'summer_r')\n",
    "# 调用sns 调色板 rgb\n",
    "# 使用light_palette() 和dark_palette()调用定制连续调色板\n",
    "cm = sns.light_palette((210, 90, 60), input=\"husl\", as_cmap=True)\n",
    "df1.style.background_gradient(cmap = cm,axis =1 )  # 默认每一列,axis = 0"
   ]
  },
  {
   "cell_type": "code",
   "execution_count": null,
   "metadata": {
    "ExecuteTime": {
     "end_time": "2018-03-17T08:37:32.049150Z",
     "start_time": "2018-03-17T08:37:32.032133Z"
    },
    "collapsed": true,
    "scrolled": true
   },
   "outputs": [],
   "source": [
    "df1.style.highlight_max(axis = 0)  # 高亮每列 最大值"
   ]
  },
  {
   "cell_type": "code",
   "execution_count": null,
   "metadata": {
    "ExecuteTime": {
     "end_time": "2018-03-17T08:41:37.454066Z",
     "start_time": "2018-03-17T08:41:37.442035Z"
    },
    "collapsed": true
   },
   "outputs": [],
   "source": [
    "df1.style.bar(['S'],width= 100,align = 'mid')  # 高亮每列 最大值"
   ]
  },
  {
   "cell_type": "code",
   "execution_count": null,
   "metadata": {
    "ExecuteTime": {
     "end_time": "2018-03-17T08:41:37.454066Z",
     "start_time": "2018-03-17T08:41:37.442035Z"
    },
    "collapsed": true
   },
   "outputs": [],
   "source": [
    "df1.style.bar(['S'],width= 100,align = 'mid')  # 高亮每列 最大值"
   ]
  },
  {
   "cell_type": "code",
   "execution_count": null,
   "metadata": {
    "ExecuteTime": {
     "end_time": "2018-01-25T13:46:59.404722Z",
     "start_time": "2018-01-25T13:46:59.390687Z"
    },
    "collapsed": true
   },
   "outputs": [],
   "source": [
    "# full_data = [data_train, data_test]  #是个list  不可取\n",
    "# 然后 用 for 用循环处理\n",
    "# for dataset in full_data:\n",
    "#     dataset['IsAlone'] = 0\n",
    "#     dataset.loc[dataset['FamilySize'] == 1, 'IsAlone'] = 1\n",
    "\n",
    "\n",
    "# pd.set_option('display.folat_format',lambda x: '%.2f' %x)\n",
    "#对行 队列 对总体求占比\n",
    "# pd.set_option('display.float_format', lambda x: '%.2f' % x)\n",
    "# pd.crosstab(data_train['Survived'], data_train['Title2']).apply(lambda r: r/r.sum(), axis=1)  #对行"
   ]
  },
  {
   "cell_type": "code",
   "execution_count": null,
   "metadata": {
    "collapsed": true
   },
   "outputs": [],
   "source": []
  },
  {
   "cell_type": "markdown",
   "metadata": {},
   "source": [
    "###  画图"
   ]
  },
  {
   "cell_type": "markdown",
   "metadata": {},
   "source": [
    "#### seaborn  https://seaborn.pydata.org/api.html"
   ]
  },
  {
   "cell_type": "markdown",
   "metadata": {},
   "source": [
    "###   因子变量"
   ]
  },
  {
   "cell_type": "markdown",
   "metadata": {},
   "source": [
    "### 单连续变量Age==>连续分布  某一列"
   ]
  },
  {
   "cell_type": "code",
   "execution_count": null,
   "metadata": {
    "ExecuteTime": {
     "end_time": "2018-01-25T14:19:53.307070Z",
     "start_time": "2018-01-25T14:19:51.387839Z"
    },
    "collapsed": true
   },
   "outputs": [],
   "source": [
    "from scipy.stats import norm\n",
    "with sns.plotting_context(\"notebook\",font_scale=1.2):  #缩放字体\n",
    "    f, ax = plt.subplots(1,1,figsize = (6,4))\n",
    "    # sns.distplot(data_train['Age'],ax =ax[0])\n",
    "    sns.distplot(data_train['Age'],rug = True, fit = norm,ax =ax)\n",
    "    plt.show()"
   ]
  },
  {
   "cell_type": "code",
   "execution_count": null,
   "metadata": {
    "collapsed": true
   },
   "outputs": [],
   "source": [
    "# 怎么样让分布图 按照类别映射（hist ）"
   ]
  },
  {
   "cell_type": "markdown",
   "metadata": {},
   "source": [
    "### 单因子变量 ==> 频数统计  countplot"
   ]
  },
  {
   "cell_type": "code",
   "execution_count": null,
   "metadata": {
    "ExecuteTime": {
     "end_time": "2018-01-21T15:37:31.807918Z",
     "start_time": "2018-01-21T15:37:31.226675Z"
    },
    "collapsed": true
   },
   "outputs": [],
   "source": [
    "fig, ax = plt.subplots(1,3,figsize=(18,6))\n",
    "sns.countplot(x='Title2', data= data_train,ax =ax[0])\n",
    "# 映射 目标变量（是否存活）  存在问题 堆积情况下\n",
    "sns.countplot(x='Title2',hue = 'Survived', data= data_train,ax =ax[1])\n",
    "\n",
    "sns.countplot(x='Title2',hue = 'Survived', data= data_train,hue_order =[1,0],dodge = False,ax =ax[2])"
   ]
  },
  {
   "cell_type": "markdown",
   "metadata": {},
   "source": [
    "\n",
    "####  按照因子变量映射\n",
    "- factorplot()      -->  简单本 --factorplot\n",
    "    + kind : { count,  | box, violin, strip |双变量 point, bar,  |}"
   ]
  },
  {
   "cell_type": "code",
   "execution_count": null,
   "metadata": {
    "ExecuteTime": {
     "end_time": "2018-01-21T11:52:29.714705Z",
     "start_time": "2018-01-21T11:52:29.326876Z"
    },
    "collapsed": true
   },
   "outputs": [],
   "source": [
    "# 单变量 离散型  count (没有连续 分布图)  \n",
    "sns.factorplot(x='Title', kind ='count',col = 'Survived',data =data_train)"
   ]
  },
  {
   "cell_type": "code",
   "execution_count": null,
   "metadata": {
    "ExecuteTime": {
     "end_time": "2018-01-21T15:38:18.556780Z",
     "start_time": "2018-01-21T15:38:18.193796Z"
    },
    "collapsed": true
   },
   "outputs": [],
   "source": [
    "# 单变量 连续型   box, violin, strip\n",
    "sns.factorplot(x='Age', kind ='violin',col = 'Survived',data =data_train)"
   ]
  },
  {
   "cell_type": "code",
   "execution_count": null,
   "metadata": {
    "ExecuteTime": {
     "end_time": "2018-01-21T13:21:34.860791Z",
     "start_time": "2018-01-21T13:21:32.623687Z"
    },
    "collapsed": true
   },
   "outputs": [],
   "source": [
    "# point 图会给出置信度 ---波动区间    point要求因子变量是 数值型 \n",
    "# 将目标变量作为y轴\n",
    "sns.factorplot(x='Title',y='Survived', kind ='point',col = 'FareCut',data =data_train,col_wrap =2)"
   ]
  },
  {
   "cell_type": "code",
   "execution_count": null,
   "metadata": {
    "ExecuteTime": {
     "end_time": "2018-01-21T13:16:28.026530Z",
     "start_time": "2018-01-21T13:16:27.304928Z"
    },
    "collapsed": true
   },
   "outputs": [],
   "source": [
    "#纵轴 计算的连续变量的平均数（因子数值型）\n",
    "sns.factorplot(x='Title',y='Family_Size', kind ='bar',col = 'Survived',data =data_train)"
   ]
  },
  {
   "cell_type": "markdown",
   "metadata": {},
   "source": [
    "####  连续 变量散点图    lmplot(）\n",
    "不能用factorplot()"
   ]
  },
  {
   "cell_type": "code",
   "execution_count": null,
   "metadata": {
    "ExecuteTime": {
     "end_time": "2018-01-21T13:24:55.113332Z",
     "start_time": "2018-01-21T13:24:55.109322Z"
    },
    "collapsed": true
   },
   "outputs": [],
   "source": [
    "sns.factorplot(x='Age',y='Fare',hue=\"IsAlone\", kind ='point',col = 'Survived',data =data_train,col_wrap =2)"
   ]
  },
  {
   "cell_type": "code",
   "execution_count": null,
   "metadata": {
    "ExecuteTime": {
     "end_time": "2018-01-21T13:20:07.509940Z",
     "start_time": "2018-01-21T13:20:06.401684Z"
    },
    "collapsed": true
   },
   "outputs": [],
   "source": [
    "sns.lmplot(x='Age' ,y='Fare' ,hue=\"IsAlone\",col =\"Survived\",data = data_train)"
   ]
  },
  {
   "cell_type": "markdown",
   "metadata": {},
   "source": [
    "####  多变量相关图  PairGrid  \n",
    "简便函数 pairplot"
   ]
  },
  {
   "cell_type": "code",
   "execution_count": null,
   "metadata": {
    "ExecuteTime": {
     "end_time": "2018-01-21T15:39:52.243400Z",
     "start_time": "2018-01-21T15:39:49.807344Z"
    },
    "collapsed": true
   },
   "outputs": [],
   "source": [
    "# columns =['Survived', 'Pclass', 'Sex', 'Age','Fare', 'Embarked', 'Age_cut',\n",
    "#        'FareCut', 'Has_Cabin','Title2', 'Name_length', 'Family_Size', 'IsAlone',\n",
    "#        'Fare_scale', 'Title_train']\n",
    "\n",
    "plot_vars = ['Family_Size','Age','Fare','Name_length']\n",
    "\n",
    "# kind : {‘scatter’, ‘reg’}\n",
    "\n",
    "sns.pairplot(data = data_train,vars = plot_vars , hue = 'Survived',kind ='reg',markers=[\"+\",'*'])\n"
   ]
  },
  {
   "cell_type": "code",
   "execution_count": null,
   "metadata": {
    "ExecuteTime": {
     "end_time": "2018-01-21T15:45:36.142457Z",
     "start_time": "2018-01-21T15:45:36.137473Z"
    },
    "collapsed": true
   },
   "outputs": [],
   "source": [
    "train = data_train[['Survived','Pclass','Sex','Age','Parch','Fare','Has_Cabin','Family_Size','IsAlone','Title_train']]"
   ]
  },
  {
   "cell_type": "code",
   "execution_count": null,
   "metadata": {
    "ExecuteTime": {
     "end_time": "2018-01-21T15:44:28.351395Z",
     "start_time": "2018-01-21T15:44:28.345381Z"
    },
    "collapsed": true
   },
   "outputs": [],
   "source": [
    "data_train.columns"
   ]
  },
  {
   "cell_type": "code",
   "execution_count": null,
   "metadata": {
    "ExecuteTime": {
     "end_time": "2018-01-26T15:34:41.102080Z",
     "start_time": "2018-01-26T15:34:40.072690Z"
    },
    "collapsed": true
   },
   "outputs": [],
   "source": [
    "# titanic.corr()[\"Survived\"]\n",
    "colormap = plt.cm.viridis\n",
    "plt.figure(figsize=(12,12))\n",
    "plt.title('Pearson Correlation of Features', y=1.05, size=15)\n",
    "sns.heatmap(train.astype(float).corr(),linewidths=0.1,vmax=1.0, square=True, cmap=colormap, linecolor='white', annot=True)"
   ]
  },
  {
   "cell_type": "markdown",
   "metadata": {},
   "source": [
    "##### 除以上的简单描述性统计之外，还提供了连续变量的相关系数（corr）和协方差矩阵（cov）的求解\n",
    "df.corr()\n",
    "关于相关系数的计算可以调用pearson方法或kendell方法或spearman方法，默认使用pearson方法。\n",
    "\n",
    "df.corr('spearman')\n",
    "如果只想关注某一个变量与其余变量的相关系数的话，可以使用corrwith,如下方只关心x1与其余变量的相关系数:\n",
    "\n",
    "df.corrwith(df['x1'])\n",
    "数值型变量间的协方差矩阵\n",
    "\n",
    "df.cov()"
   ]
  },
  {
   "cell_type": "code",
   "execution_count": null,
   "metadata": {
    "ExecuteTime": {
     "end_time": "2018-01-27T06:02:55.585976Z",
     "start_time": "2018-01-27T06:02:55.581972Z"
    },
    "collapsed": true
   },
   "outputs": [],
   "source": [
    "# data_train.corr('kendall')   #相关系数pearson（默认）、spearman、kendall  \n",
    "# data_train[['Age','Family_Size']].corrwith(data_train['Fare'])\n",
    "# data_train.cov() #协方差矩阵"
   ]
  },
  {
   "cell_type": "markdown",
   "metadata": {
    "ExecuteTime": {
     "end_time": "2018-01-21T11:58:21.754371Z",
     "start_time": "2018-01-21T11:58:21.208337Z"
    }
   },
   "source": [
    "#### FacetGrid 通用 \n",
    "Tidy (“long-form”) dataframe\n",
    "\n",
    "可以map  不同的绘图函数（plt: scatter area hist  | sns: 的函数） 但是函数内部的参数设置？\n"
   ]
  },
  {
   "cell_type": "code",
   "execution_count": null,
   "metadata": {
    "ExecuteTime": {
     "end_time": "2018-01-21T16:21:04.803806Z",
     "start_time": "2018-01-21T16:21:04.797790Z"
    },
    "collapsed": true
   },
   "outputs": [],
   "source": [
    "def boo_plot(data,color):\n",
    "    data.plot(kind ='scatter',x='Age',y='Fare',s=np.pi*(data_train['Family_Size']*3)**2,alpha =0.3,ax=plt.gca())\n",
    "    "
   ]
  },
  {
   "cell_type": "code",
   "execution_count": null,
   "metadata": {
    "ExecuteTime": {
     "end_time": "2018-01-21T16:21:10.329280Z",
     "start_time": "2018-01-21T16:21:05.863957Z"
    },
    "collapsed": true
   },
   "outputs": [],
   "source": [
    "g= sns.FacetGrid(data=data_train,col='Survived',size= 5 ,aspect = 1.2)\n",
    "g.map_dataframe(boo_plot)"
   ]
  },
  {
   "cell_type": "code",
   "execution_count": null,
   "metadata": {
    "ExecuteTime": {
     "end_time": "2018-01-21T16:22:35.361489Z",
     "start_time": "2018-01-21T16:22:34.722907Z"
    },
    "collapsed": true
   },
   "outputs": [],
   "source": [
    "# 效果下相当于 直接使用 lmplot()\n",
    "def def_plot(data,color):\n",
    "    sns.regplot('Age','Fare',data,ax=plt.gca())\n",
    "# 自定义的 jointplot()失败\n",
    "    \n",
    "g = sns.FacetGrid(data= data_train, col=\"Survived\",size= 5 ,aspect = 1.2)  #   row=\"smoker\"  \n",
    "g = g.map_dataframe(def_plot)\n",
    "\n",
    "# map_dataframe() Like map but passes args as strings and inserts data in kwargs."
   ]
  },
  {
   "cell_type": "code",
   "execution_count": null,
   "metadata": {
    "ExecuteTime": {
     "end_time": "2018-01-21T12:38:52.540256Z",
     "start_time": "2018-01-21T12:38:52.106629Z"
    },
    "collapsed": true
   },
   "outputs": [],
   "source": [
    "# 设置每个小图 图片尺寸 高：size  宽 ：aspect * size\n",
    "g = sns.FacetGrid(data_train, col=\"Survived\",size= 5 ,aspect = 1.2)  #   row=\"smoker\"  \n",
    "# g = g.map(sns.regplot, \"Age\",\"Fare\")\n",
    "g = g.map(plt.scatter, \"Age\",\"Fare\")"
   ]
  },
  {
   "cell_type": "markdown",
   "metadata": {},
   "source": [
    "#### 绘制年龄 和 票价的相关图"
   ]
  },
  {
   "cell_type": "code",
   "execution_count": null,
   "metadata": {
    "ExecuteTime": {
     "end_time": "2018-01-21T09:22:53.547090Z",
     "start_time": "2018-01-21T09:22:52.729231Z"
    },
    "collapsed": true
   },
   "outputs": [],
   "source": [
    "import seaborn as sns\n",
    "# 体现相关性\n",
    "# 两个连续变量的相关性 通过这个看\n",
    "sns.jointplot('Age','Fare',data_train.loc[data_train['Fare']<=300],kind = 'reg')"
   ]
  },
  {
   "cell_type": "code",
   "execution_count": null,
   "metadata": {
    "ExecuteTime": {
     "end_time": "2018-01-21T09:47:53.833252Z",
     "start_time": "2018-01-21T09:47:53.045113Z"
    },
    "collapsed": true
   },
   "outputs": [],
   "source": [
    "# 优：可以展示 两个变量的整体分布情况  \n",
    "# 缺：但是看不到 因子内部的分布情况  不能映射第三个变量\n",
    "sns.jointplot('Title_train','Age',data = data_train)"
   ]
  },
  {
   "cell_type": "code",
   "execution_count": null,
   "metadata": {
    "ExecuteTime": {
     "end_time": "2018-01-21T09:50:16.352094Z",
     "start_time": "2018-01-21T09:50:13.203738Z"
    },
    "collapsed": true
   },
   "outputs": [],
   "source": [
    "# 优：可以看不到 因子内部的分布情况   映射第三个变量\n",
    "# 缺：但是不能展示 两个变量的整体分布情况 \n",
    "f, ax = plt.subplots(1,2,figsize =(18,8))\n",
    "sns.violinplot('Title2','Age',hue ='Survived',data = data_train, split =True, ax =ax[0])\n",
    "ax[0].set_title(\"Simplified Version\") # 标题不支持中文\n",
    "sns.violinplot('Title2','Age',hue ='Survived',data = data_train, split =True,inner = 'stick',scale ='count', ax =ax[1])\n",
    "\n",
    "plt.show()"
   ]
  },
  {
   "cell_type": "code",
   "execution_count": null,
   "metadata": {
    "ExecuteTime": {
     "end_time": "2018-01-21T09:56:09.171369Z",
     "start_time": "2018-01-21T09:56:08.950742Z"
    },
    "collapsed": true
   },
   "outputs": [],
   "source": [
    "# data_train['Fare'].plot(kind ='box')\n",
    "\n",
    "sns.violinplot(x= 'Survived',y = 'Sex',data = data_train, split =True)"
   ]
  },
  {
   "cell_type": "markdown",
   "metadata": {},
   "source": [
    "#### 小提琴图 "
   ]
  },
  {
   "cell_type": "code",
   "execution_count": null,
   "metadata": {
    "ExecuteTime": {
     "end_time": "2018-01-21T09:14:51.535753Z",
     "start_time": "2018-01-21T09:14:51.029769Z"
    },
    "collapsed": true
   },
   "outputs": [],
   "source": [
    "#因为Fare 有极端值  画的也不好看\n",
    "f, ax = plt.subplots(1,2,figsize =(18,8))\n",
    "sns.violinplot('Sex','Fare',hue = \"Survived\", data = data_train, split = True, ax = ax[0])\n",
    "ax[0].set_title('Sex and Fare vs Survived')\n",
    "ax[0].set_yticks(range(1,500,50))\n",
    "\n",
    "sns.violinplot('Sex','Age', hue = \"Survived\", data = data_train, split = True, ax = ax[1])\n",
    "ax[1].set_title('Sex and Age vs Survived')\n",
    "\n",
    "plt.show()"
   ]
  },
  {
   "cell_type": "code",
   "execution_count": null,
   "metadata": {
    "ExecuteTime": {
     "end_time": "2018-01-21T09:05:08.465810Z",
     "start_time": "2018-01-21T09:05:08.168957Z"
    },
    "collapsed": true
   },
   "outputs": [],
   "source": [
    "sns.violinplot(\"Sex\",\"Age\", hue=\"Survived\", data=data_train,split=True)"
   ]
  },
  {
   "cell_type": "code",
   "execution_count": null,
   "metadata": {
    "ExecuteTime": {
     "end_time": "2018-01-21T15:57:11.882122Z",
     "start_time": "2018-01-21T15:57:11.701598Z"
    },
    "collapsed": true
   },
   "outputs": [],
   "source": [
    "sns.boxplot(y = 'Fare',hue = 'Survived', data= data_train)"
   ]
  },
  {
   "cell_type": "code",
   "execution_count": null,
   "metadata": {
    "collapsed": true
   },
   "outputs": [],
   "source": [
    "Survived\tPclass\tSex\tAge\tParch\tFare\tEmbarked\tHas_Cabin\tFamilySize\tIsAlone\tTitle"
   ]
  },
  {
   "cell_type": "code",
   "execution_count": null,
   "metadata": {
    "ExecuteTime": {
     "end_time": "2018-01-18T16:29:15.289759Z",
     "start_time": "2018-01-18T16:29:15.276725Z"
    },
    "collapsed": true
   },
   "outputs": [],
   "source": [
    "attr = plt.subplots(1,2,sharex=True,figsize=(10,5))"
   ]
  },
  {
   "cell_type": "code",
   "execution_count": null,
   "metadata": {
    "ExecuteTime": {
     "end_time": "2018-01-18T16:15:04.606638Z",
     "start_time": "2018-01-18T16:15:04.593603Z"
    },
    "collapsed": true
   },
   "outputs": [],
   "source": [
    "f=plt.subplots(1,2,figsize=(18,8))"
   ]
  },
  {
   "cell_type": "code",
   "execution_count": null,
   "metadata": {
    "ExecuteTime": {
     "end_time": "2018-01-18T15:56:11.369714Z",
     "start_time": "2018-01-18T15:56:11.354167Z"
    },
    "collapsed": true
   },
   "outputs": [],
   "source": [
    "temp = data_train[['Family_Size','Survived']].groupby(['Survived'],as_index =False).mean()\n",
    "temp"
   ]
  },
  {
   "cell_type": "code",
   "execution_count": null,
   "metadata": {
    "ExecuteTime": {
     "end_time": "2018-01-18T16:01:47.070775Z",
     "start_time": "2018-01-18T16:01:47.057740Z"
    },
    "collapsed": true
   },
   "outputs": [],
   "source": [
    "# size()  产生一个Series  运用 to_frame()\n",
    "temp = data_train[['Family_Size','Survived']].groupby(['Survived'],as_index =False).size()\n",
    "temp\n",
    "temp.to_frame(name = 'Family').reset_index()  # name  时Series 的列名"
   ]
  },
  {
   "cell_type": "code",
   "execution_count": null,
   "metadata": {
    "ExecuteTime": {
     "end_time": "2018-01-18T13:35:40.664717Z",
     "start_time": "2018-01-18T13:35:40.649710Z"
    },
    "collapsed": true
   },
   "outputs": [],
   "source": [
    "# 对两个变量 进行聚合\n",
    "# 统计数量，随便选一列 用count() 函数即可\n",
    "data_train.groupby(['Family_Size','Survived'],as_index =False)['Name'].count()"
   ]
  },
  {
   "cell_type": "code",
   "execution_count": null,
   "metadata": {
    "ExecuteTime": {
     "end_time": "2018-01-17T13:27:38.975483Z",
     "start_time": "2018-01-17T13:27:38.637585Z"
    },
    "collapsed": true
   },
   "outputs": [],
   "source": [
    "f,ax=plt.subplots(1,2,figsize=(18,8))"
   ]
  },
  {
   "cell_type": "code",
   "execution_count": null,
   "metadata": {
    "ExecuteTime": {
     "end_time": "2018-01-17T17:30:30.696987Z",
     "start_time": "2018-01-17T17:30:30.675930Z"
    },
    "collapsed": true
   },
   "outputs": [],
   "source": [
    "final_data.head()"
   ]
  },
  {
   "cell_type": "code",
   "execution_count": null,
   "metadata": {
    "ExecuteTime": {
     "end_time": "2018-01-18T14:01:47.789935Z",
     "start_time": "2018-01-18T14:01:47.725764Z"
    },
    "collapsed": true
   },
   "outputs": [],
   "source": [
    "#用list 去查看聚合内部\n",
    "dict(list(data_train[['Family_Size','Survived','Title2']].groupby(['Survived','Title2'])))"
   ]
  },
  {
   "cell_type": "code",
   "execution_count": null,
   "metadata": {
    "ExecuteTime": {
     "end_time": "2018-01-21T08:42:04.781528Z",
     "start_time": "2018-01-21T08:42:04.769996Z"
    },
    "collapsed": true
   },
   "outputs": [],
   "source": [
    "# data_train.columns\n",
    "test = data_train[['Family_Size','Survived','Title2']]"
   ]
  },
  {
   "cell_type": "code",
   "execution_count": null,
   "metadata": {
    "collapsed": true
   },
   "outputs": [],
   "source": []
  },
  {
   "cell_type": "markdown",
   "metadata": {},
   "source": [
    "###  数据透视表 ： pivot_table  (数据透视图？)"
   ]
  },
  {
   "cell_type": "markdown",
   "metadata": {},
   "source": [
    "### 对某一变量求和    len(可行) /count"
   ]
  },
  {
   "cell_type": "code",
   "execution_count": null,
   "metadata": {
    "ExecuteTime": {
     "end_time": "2018-01-24T17:37:52.091737Z",
     "start_time": "2018-01-24T17:37:52.047614Z"
    },
    "collapsed": true
   },
   "outputs": [],
   "source": [
    "pd.pivot_table(test,index=['Survived'],columns=['Title2'],values=['Family_Size'], aggfunc=np.sum )"
   ]
  },
  {
   "cell_type": "code",
   "execution_count": null,
   "metadata": {
    "ExecuteTime": {
     "end_time": "2018-01-24T17:37:58.164881Z",
     "start_time": "2018-01-24T17:37:57.975835Z"
    },
    "collapsed": true
   },
   "outputs": [],
   "source": [
    "pd.pivot_table(test,index=['Survived'], \\\n",
    "                    columns=['Title2'], \\\n",
    "                    values=['Family_Size'], \\\n",
    "                    aggfunc=[len,np.sum,np.mean] ,margins =True)"
   ]
  },
  {
   "cell_type": "code",
   "execution_count": null,
   "metadata": {
    "ExecuteTime": {
     "end_time": "2018-01-24T17:37:59.385203Z",
     "start_time": "2018-01-24T17:37:59.355089Z"
    },
    "collapsed": true
   },
   "outputs": [],
   "source": [
    "import numpy as np\n",
    "pivot1.reset_index(drop =False)"
   ]
  },
  {
   "cell_type": "code",
   "execution_count": null,
   "metadata": {
    "ExecuteTime": {
     "end_time": "2018-01-24T17:38:06.513875Z",
     "start_time": "2018-01-24T17:38:06.473263Z"
    },
    "collapsed": true
   },
   "outputs": [],
   "source": [
    "pivot1 = pd.pivot_table(test,index=['Survived'],columns=['Title2'],values = ['Family_Size'], aggfunc=[len])\n",
    "pivot1\n",
    "# pivot1 = pd.pivot_table(test,index=['Survived'],columns=['Title2'],values = ['Family_Size'], aggfunc=[len,np.sum])"
   ]
  },
  {
   "cell_type": "code",
   "execution_count": null,
   "metadata": {
    "ExecuteTime": {
     "end_time": "2018-01-24T17:38:18.179971Z",
     "start_time": "2018-01-24T17:38:17.257056Z"
    },
    "collapsed": true
   },
   "outputs": [],
   "source": [
    "# 运用pandas 基础绘图\n",
    "pivot1.plot(kind = 'bar')"
   ]
  },
  {
   "cell_type": "code",
   "execution_count": null,
   "metadata": {
    "ExecuteTime": {
     "end_time": "2018-01-24T17:38:22.128793Z",
     "start_time": "2018-01-24T17:38:22.103727Z"
    },
    "collapsed": true
   },
   "outputs": [],
   "source": [
    "pivot2 = pivot1[pivot1.sum(axis = 1) >400]\n",
    "pivot2"
   ]
  },
  {
   "cell_type": "code",
   "execution_count": null,
   "metadata": {
    "ExecuteTime": {
     "end_time": "2018-01-24T17:38:41.364442Z",
     "start_time": "2018-01-24T17:38:41.356420Z"
    },
    "collapsed": true
   },
   "outputs": [],
   "source": [
    "# 对透视表进行切片\n",
    "# 首先进行 切片 然后再进行 透视表\n",
    "\n",
    "\n",
    "# pivot1.loc[pivot1['Title2']  == [\"Master\"]]\n",
    "# pivot1.query('Title2 == \"Master\"')\n",
    "# .str.contains(\"1\")\n",
    "# pivot1[pivot1.index == 1]  \n",
    "# pivot1[pivot1.columns.levels[2] == ['Family_Size']]\n",
    "\n",
    "# pivot1.columns\n",
    "# pivot1.index\n",
    "# pivot1.columns.levels[1]\n",
    "# pivot1[pivot1.columns.levels[2][3]]"
   ]
  },
  {
   "cell_type": "markdown",
   "metadata": {},
   "source": [
    "### 有只基于频数的 crosstab() 统计Survived 与 Title2 之间关系"
   ]
  },
  {
   "cell_type": "code",
   "execution_count": null,
   "metadata": {
    "ExecuteTime": {
     "end_time": "2018-01-24T17:46:10.058167Z",
     "start_time": "2018-01-24T17:46:10.025040Z"
    },
    "collapsed": true
   },
   "outputs": [],
   "source": [
    "# 仅有两列时 怎么看 数量 ，和 每个的百分比\n",
    "pd.crosstab(data_train['Survived'],data_train['Title2'])\n",
    "# pd.crosstab(data_train['Survived'],data_train['Title2'],margins =True)"
   ]
  },
  {
   "cell_type": "markdown",
   "metadata": {},
   "source": [
    "### 在corsstab 中显示百分比"
   ]
  },
  {
   "cell_type": "markdown",
   "metadata": {},
   "source": [
    "### 对行 队列 对总体求占比"
   ]
  },
  {
   "cell_type": "markdown",
   "metadata": {},
   "source": [
    "#### 对行"
   ]
  },
  {
   "cell_type": "code",
   "execution_count": null,
   "metadata": {
    "ExecuteTime": {
     "end_time": "2018-01-24T17:42:13.726545Z",
     "start_time": "2018-01-24T17:42:13.695465Z"
    },
    "collapsed": true
   },
   "outputs": [],
   "source": [
    "pd.set_option('display.float_format', lambda x: '%.2f' % x)\n",
    "pd.crosstab(data_train['Survived'], data_train['Title2']).apply(lambda r: r/r.sum(), axis=1)  "
   ]
  },
  {
   "cell_type": "markdown",
   "metadata": {},
   "source": [
    "#### 对总体"
   ]
  },
  {
   "cell_type": "code",
   "execution_count": null,
   "metadata": {
    "ExecuteTime": {
     "end_time": "2018-01-24T17:43:50.683619Z",
     "start_time": "2018-01-24T17:43:50.626595Z"
    },
    "collapsed": true
   },
   "outputs": [],
   "source": [
    "pd.crosstab(data_train['Survived'], data_train['Title2'],margins =True).apply(lambda r: r/len(data_train), axis=0)  #对行"
   ]
  },
  {
   "cell_type": "code",
   "execution_count": null,
   "metadata": {
    "ExecuteTime": {
     "end_time": "2018-01-24T17:39:09.045898Z",
     "start_time": "2018-01-24T17:39:09.041889Z"
    },
    "collapsed": true
   },
   "outputs": [],
   "source": [
    "#只返回2个变量的计数\n",
    "# def table(data,list = None,margins = False):\n",
    "#     return pd.pivot_table(data,index=list[0],columns=list[1], aggfunc=[len] ,margins=margins)\n",
    "\n",
    "# table(test,['Survived','Title2'])"
   ]
  },
  {
   "cell_type": "code",
   "execution_count": null,
   "metadata": {
    "ExecuteTime": {
     "end_time": "2018-01-24T17:40:12.023466Z",
     "start_time": "2018-01-24T17:40:12.004415Z"
    },
    "collapsed": true
   },
   "outputs": [],
   "source": [
    "# 计算相关Pearson系数\n",
    "data_train['Survived'].corr(data_train['Fare'])"
   ]
  },
  {
   "cell_type": "code",
   "execution_count": null,
   "metadata": {
    "ExecuteTime": {
     "end_time": "2018-01-23T14:52:02.617259Z",
     "start_time": "2018-01-23T14:52:02.586177Z"
    },
    "collapsed": true
   },
   "outputs": [],
   "source": [
    "data_train =data.copy()\n",
    "data_train.head()"
   ]
  },
  {
   "cell_type": "code",
   "execution_count": null,
   "metadata": {
    "ExecuteTime": {
     "end_time": "2018-01-25T12:36:11.731298Z",
     "start_time": "2018-01-25T12:36:11.705226Z"
    },
    "collapsed": true
   },
   "outputs": [],
   "source": [
    "data_train.head()"
   ]
  },
  {
   "cell_type": "code",
   "execution_count": null,
   "metadata": {
    "ExecuteTime": {
     "end_time": "2018-01-25T12:49:02.132013Z",
     "start_time": "2018-01-25T12:49:02.094914Z"
    },
    "collapsed": true
   },
   "outputs": [],
   "source": [
    "pd.pivot_table(data_train,index =['Title2','Embarked'],values =['Age'],aggfunc = [np.sum,len,np.mean]\n",
    "# pd.pivot_table(data_train,index =['Title2','Embarked'],values =['Age'],aggfunc = [np.sum,len,np.mean],\n",
    "#                fill_value =0,margins =True)\n",
    "               "
   ]
  },
  {
   "cell_type": "code",
   "execution_count": null,
   "metadata": {
    "ExecuteTime": {
     "end_time": "2018-01-25T12:58:27.381500Z",
     "start_time": "2018-01-25T12:58:27.341350Z"
    },
    "collapsed": true
   },
   "outputs": [],
   "source": [
    "table = pd.pivot_table(data_train,index =['Title2','Embarked'],values =['Age'],columns = ['Sex_bool'],aggfunc = [np.sum,len,np.mean])  \n",
    "# table.query('Embarked ==[\"C\",\"S\"]')\n",
    "# table.query('Embarked == [\"C\"]').query('Title2 ==[\"Master\"] ')"
   ]
  },
  {
   "cell_type": "code",
   "execution_count": null,
   "metadata": {
    "ExecuteTime": {
     "end_time": "2018-01-25T12:42:40.838630Z",
     "start_time": "2018-01-25T12:42:40.830608Z"
    },
    "collapsed": true
   },
   "outputs": [],
   "source": [
    "data_train.Title2.value_counts()"
   ]
  },
  {
   "cell_type": "code",
   "execution_count": null,
   "metadata": {
    "ExecuteTime": {
     "end_time": "2018-02-22T11:40:54.246706Z",
     "start_time": "2018-02-22T11:40:54.228659Z"
    },
    "collapsed": true
   },
   "outputs": [],
   "source": [
    "data = pd.read_csv('Pratice_Data.csv',encoding = 'utf-8')"
   ]
  },
  {
   "cell_type": "markdown",
   "metadata": {},
   "source": [
    "### 处理分割genres字段\n",
    "每个类别 一列,出现的命名为1"
   ]
  },
  {
   "cell_type": "code",
   "execution_count": null,
   "metadata": {
    "ExecuteTime": {
     "end_time": "2018-02-22T11:50:01.873225Z",
     "start_time": "2018-02-22T11:50:01.867210Z"
    },
    "collapsed": true
   },
   "outputs": [],
   "source": [
    "genre_iter = (set(x.split('|')) for x in data.genres)\n",
    "\n",
    "genres = sorted(set.union(*genre_iter))\n",
    "\n",
    "dummies = pd.DataFrame(np.zeros((len(data),len(genres))),columns = genres)\n",
    "for i,gen in enumerate(data.genres):\n",
    "    dummies.loc[i,gen.split('|')] = 1\n",
    "\n",
    "data_genres = data.join(dummies.add_prefix('Genre_'))"
   ]
  },
  {
   "cell_type": "markdown",
   "metadata": {},
   "source": [
    "### 处理时间字段"
   ]
  },
  {
   "cell_type": "markdown",
   "metadata": {},
   "source": [
    "#### 拆分时间段：年、月、日、小时、分钟、 星期、季度\n",
    "#### 日期偏移：\n",
    "#### 日期区间切片：\n"
   ]
  },
  {
   "cell_type": "code",
   "execution_count": null,
   "metadata": {
    "ExecuteTime": {
     "end_time": "2018-02-22T12:22:27.198055Z",
     "start_time": "2018-02-22T12:22:27.194044Z"
    },
    "collapsed": true
   },
   "outputs": [],
   "source": [
    "from datetime import datetime,timedelta"
   ]
  },
  {
   "cell_type": "code",
   "execution_count": null,
   "metadata": {
    "ExecuteTime": {
     "end_time": "2018-02-22T12:24:49.092669Z",
     "start_time": "2018-02-22T12:24:48.615347Z"
    },
    "collapsed": true
   },
   "outputs": [],
   "source": [
    "data['Timestamp'] = data['timestamp'].apply(lambda x: pd.to_datetime(x))"
   ]
  },
  {
   "cell_type": "code",
   "execution_count": null,
   "metadata": {
    "ExecuteTime": {
     "end_time": "2018-02-22T13:53:40.160707Z",
     "start_time": "2018-02-22T13:53:40.115589Z"
    },
    "collapsed": true
   },
   "outputs": [],
   "source": [
    "data['year'] = data['Timestamp'].apply(lambda x:x.year)\n",
    "data['month'] = data['Timestamp'].apply(lambda x:x.month)\n",
    "data['day'] = data['Timestamp'].apply(lambda x:x.day)\n",
    "data['hour'] = data['Timestamp'].apply(lambda x:x.hour)\n",
    "data['minute'] = data['Timestamp'].apply(lambda x:x.minute)\n",
    "data['second'] = data['Timestamp'].apply(lambda x:x.second)\n",
    "# 星期\n",
    "data['weekday'] = data['Timestamp'].apply(lambda x:x.weekday()+1)"
   ]
  },
  {
   "cell_type": "code",
   "execution_count": null,
   "metadata": {
    "ExecuteTime": {
     "end_time": "2018-02-22T14:05:44.206083Z",
     "start_time": "2018-02-22T14:05:44.199065Z"
    },
    "collapsed": true
   },
   "outputs": [],
   "source": [
    "#数据切片\n",
    "data_test = data.loc[(data['Timestamp']>datetime(2005,12,31))&(data['Timestamp']<datetime(2007,12,31)),:]"
   ]
  },
  {
   "cell_type": "code",
   "execution_count": null,
   "metadata": {
    "ExecuteTime": {
     "end_time": "2018-02-22T13:08:56.557528Z",
     "start_time": "2018-02-22T13:08:56.551511Z"
    },
    "collapsed": true
   },
   "outputs": [],
   "source": [
    "str1 = '03/23/2009 08:30:00'\n",
    "time_pk = datetime.strptime(str1,'%m/%d/%Y %H:%M:%S')\n",
    "pd_pk = pd.to_datetime(str1)\n",
    "\n",
    "#将datetime 转化为 str\n",
    "pd_pk.strftime('%Y-%m-%d')"
   ]
  },
  {
   "cell_type": "code",
   "execution_count": null,
   "metadata": {
    "ExecuteTime": {
     "end_time": "2018-02-22T13:21:09.176237Z",
     "start_time": "2018-02-22T13:21:09.168243Z"
    },
    "collapsed": true
   },
   "outputs": [],
   "source": [
    "# 时间偏移\n",
    "# pandas 包\n",
    "from pandas.tseries.offsets import *\n",
    "pd_pk + Day(5)\n",
    "pd_pk + DateOffset(months = -5,days = 5)\n",
    "#  'years', 'months', 'weeks', 'days',\n",
    "#  'year', 'month', 'week', 'day', \n",
    "#  'weekday','hour', 'minute', 'second', 'microsecond'\n",
    "\n",
    "# 月初 月末\n",
    "pd_pk + DateOffset(days = 1-pd_pk.day)\n",
    "pd_pk + DateOffset(months = 1, days = -pd_pk.day)\n",
    "\n",
    "# 季初 季末\n",
    "pd_pk + DateOffset(months = -((pd_pk.month - 1) % 3),days = 1-pd_pk.day)\n",
    "pd_pk + DateOffset(months =3 - ((pd_pk.month - 1) % 3), days = -pd_pk.day)\n",
    "\n",
    "# 年初 年末\n",
    "pd_pk + DateOffset(years = 1- pd_pk.month ,days = 1-pd_pk.day)\n",
    "pd_pk + DateOffset(years =1 ,months =1 - pd_pk.month, days = -pd_pk.day)"
   ]
  },
  {
   "cell_type": "code",
   "execution_count": null,
   "metadata": {
    "collapsed": true
   },
   "outputs": [],
   "source": []
  },
  {
   "cell_type": "code",
   "execution_count": null,
   "metadata": {
    "collapsed": true
   },
   "outputs": [],
   "source": [
    "ou can use pd.isin().\n",
    "# https://stackoverflow.com/questions/32980087/pandas-not-in-in-and-between\n",
    "For \"IN\" use: something.isin(somewhere)\n",
    "\n",
    "Or for \"NOT IN\": ~something.isin(somewhere)"
   ]
  }
 ],
 "metadata": {
  "kernelspec": {
   "display_name": "python_3",
   "language": "python",
   "name": "python_3"
  },
  "language_info": {
   "codemirror_mode": {
    "name": "ipython",
    "version": 3
   },
   "file_extension": ".py",
   "mimetype": "text/x-python",
   "name": "python",
   "nbconvert_exporter": "python",
   "pygments_lexer": "ipython3",
   "version": "3.6.2"
  }
 },
 "nbformat": 4,
 "nbformat_minor": 2
}
